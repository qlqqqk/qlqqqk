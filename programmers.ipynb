{
 "cells": [
  {
   "cell_type": "code",
   "execution_count": 149,
   "metadata": {},
   "outputs": [],
   "source": [
    "#프로그래머스 LEVEL1 신고결과받기 66.7/100\n",
    "def solution(id_list, report, k):\n",
    "    report = list(set(report))\n",
    "    cnt = {}\n",
    "    for i in id_list:\n",
    "        cnt[i] = 0\n",
    "    stop_user = []\n",
    "    report_list = []\n",
    "    for rep in report:\n",
    "        if rep not in report_list:\n",
    "            report_list.append(rep.split()[1]) #신고 당한 ID        \n",
    "    for a in id_list:\n",
    "        if report_list.count(a) >= k:\n",
    "            stop_user.append(a) #정지 메일 보내야할 유저\n",
    "            for i in report:\n",
    "                if i.split()[1] == a:\n",
    "                    cnt[i.split()[0]] += 1\n",
    "\n",
    "        \n",
    "    answer = list(cnt.values())\n",
    "    \n",
    "    return answer"
   ]
  },
  {
   "cell_type": "code",
   "execution_count": 158,
   "metadata": {},
   "outputs": [],
   "source": [
    "def solution(id_list, report, k):\n",
    "    answer = [0] * len(id_list)    \n",
    "    reports = {x : 0 for x in id_list}\n",
    "\n",
    "    for r in set(report):\n",
    "        reports[r.split()[1]] += 1\n",
    "\n",
    "    for r in set(report):\n",
    "        if reports[r.split()[1]] >= k:\n",
    "            answer[id_list.index(r.split()[0])] += 1\n",
    "\n",
    "    return answer"
   ]
  },
  {
   "cell_type": "code",
   "execution_count": 159,
   "metadata": {},
   "outputs": [],
   "source": [
    "def solution(id_list, report, k):\n",
    "    answer = []\n",
    "    a = list(set(report))\n",
    "    dictionary2 = {name : 0 for name in id_list}\n",
    "    dictionary = {name : [] for name in id_list}\n",
    "    for i in a:\n",
    "        dictionary[i.split()[1]].append(i.split()[0])\n",
    "\n",
    "    for i in dictionary:\n",
    "        if len(dictionary[i]) >= k:\n",
    "            for j in dictionary[i]:\n",
    "                dictionary2[j] += 1\n",
    "\n",
    "    for i in dictionary2:\n",
    "        answer.append(dictionary2[i])\n",
    "\n",
    "    return answer"
   ]
  },
  {
   "cell_type": "code",
   "execution_count": 160,
   "metadata": {},
   "outputs": [],
   "source": [
    "def solution(id_list, report, k):\n",
    "    answer = [0] * len(id_list)\n",
    "    dic_report = {id: [] for id in id_list} # 해당 유저를 신고한 ID\n",
    "    for i in set(report):\n",
    "        i = i.split()\n",
    "        dic_report[i[1]].append(i[0])\n",
    "\n",
    "    for key, value in dic_report.items():\n",
    "        if len(value) >= k:\n",
    "            for j in value:\n",
    "                answer[id_list.index(j)] += 1\n",
    "\n",
    "    return answer"
   ]
  },
  {
   "cell_type": "code",
   "execution_count": 8,
   "metadata": {},
   "outputs": [],
   "source": [
    "#LEVEL1 로또의 최고 순위와 최저 순위\n",
    "def solution(lottos, win_nums): # 0때문에 등수 내려갈일은 없음 최고등수에만 영향\n",
    "    cnt = 0\n",
    "    zero = 0\n",
    "    prize = {6:1,5:2,4:3,3:4,2:5} #등수에 따른 순위를 value값으로 주기\n",
    "    for num in lottos:\n",
    "        if num == 0: #0에 대한 예외처리\n",
    "            zero += 1 \n",
    "        if win_nums.count(num) == 1 and num != 0: # 중복숫자가 나올일은 없다고 명시되어있기 때문에 count == 1\n",
    "            cnt += 1\n",
    "    if cnt < 2: # 6등 예외처리\n",
    "        prize[cnt] = 6\n",
    "    answer = [prize[cnt+zero],prize[cnt]]\n",
    "    \n",
    "    return answer\n",
    "    "
   ]
  }
 ],
 "metadata": {
  "interpreter": {
   "hash": "68fd6408936fcd5ca255860570d9e2fe47742966f07f9bb56bc610b21d944342"
  },
  "kernelspec": {
   "display_name": "Python 3.8.8 ('base')",
   "language": "python",
   "name": "python3"
  },
  "language_info": {
   "codemirror_mode": {
    "name": "ipython",
    "version": 3
   },
   "file_extension": ".py",
   "mimetype": "text/x-python",
   "name": "python",
   "nbconvert_exporter": "python",
   "pygments_lexer": "ipython3",
   "version": "3.8.8"
  },
  "orig_nbformat": 4
 },
 "nbformat": 4,
 "nbformat_minor": 2
}
