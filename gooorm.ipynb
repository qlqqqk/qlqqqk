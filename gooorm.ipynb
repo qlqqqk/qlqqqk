{
 "cells": [
  {
   "cell_type": "code",
   "execution_count": 3,
   "metadata": {},
   "outputs": [
    {
     "name": "stdout",
     "output_type": "stream",
     "text": [
      "######\n",
      ".....#\n",
      "######\n",
      "#.....\n",
      "######\n",
      ".....#\n"
     ]
    }
   ],
   "source": [
    "#구름 뱀이지나간자리\n",
    "height,width = map(int,input().split())\n",
    "\n",
    "for i in range(1,height+1):\n",
    "\tif i % 2 ==1: print(\"#\"*width)\n",
    "\telse:\n",
    "\t\tif (i // 2) %2==1: print(\".\"*(width-1)+\"#\")\n",
    "\t\telse: print(\"#\"+\".\"*(width-1))"
   ]
  },
  {
   "cell_type": "code",
   "execution_count": 21,
   "metadata": {},
   "outputs": [
    {
     "name": "stdout",
     "output_type": "stream",
     "text": [
      "eoo\n"
     ]
    }
   ],
   "source": [
    "#구름 앵무새꼬꼬\n",
    "a = int(input())\n",
    "alpha = ['a','e','i','o','u','A','E','I','O','U']\n",
    "\n",
    "for i in range(a):\n",
    "    res = []\n",
    "    sentence = list(map(str,input()))\n",
    "    for j in sentence:  \n",
    "        if j in alpha:\n",
    "            res.append(j)\n",
    "    if res == []:\n",
    "        print(\"???\")\n",
    "    else:\n",
    "        print(''.join(res))\n",
    "    "
   ]
  },
  {
   "cell_type": "code",
   "execution_count": 9,
   "metadata": {},
   "outputs": [],
   "source": [
    "sentence = list(map(str,input()))"
   ]
  },
  {
   "cell_type": "code",
   "execution_count": 10,
   "metadata": {},
   "outputs": [
    {
     "data": {
      "text/plain": [
       "['H', 'e', 'l', 'l', 'o', ',', ' ', 'W', 'o', 'r', 'l', 'd', '!']"
      ]
     },
     "execution_count": 10,
     "metadata": {},
     "output_type": "execute_result"
    }
   ],
   "source": [
    "sentence"
   ]
  },
  {
   "cell_type": "code",
   "execution_count": null,
   "metadata": {},
   "outputs": [],
   "source": [
    "3\n",
    "Hello, World!\n",
    "I'm your father.\n",
    "What are you doing here?"
   ]
  }
 ],
 "metadata": {
  "interpreter": {
   "hash": "d180c1f1bbec73343c0043387ac1af820b9c6f63c25a80ece29458d4edf0813e"
  },
  "kernelspec": {
   "display_name": "Python 3.8.12",
   "language": "python",
   "name": "python3"
  },
  "language_info": {
   "codemirror_mode": {
    "name": "ipython",
    "version": 3
   },
   "file_extension": ".py",
   "mimetype": "text/x-python",
   "name": "python",
   "nbconvert_exporter": "python",
   "pygments_lexer": "ipython3",
   "version": "3.8.8"
  },
  "orig_nbformat": 4
 },
 "nbformat": 4,
 "nbformat_minor": 2
}
