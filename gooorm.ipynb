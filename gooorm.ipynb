{
 "cells": [
  {
   "cell_type": "code",
   "execution_count": 3,
   "metadata": {},
   "outputs": [
    {
     "name": "stdout",
     "output_type": "stream",
     "text": [
      "######\n",
      ".....#\n",
      "######\n",
      "#.....\n",
      "######\n",
      ".....#\n"
     ]
    }
   ],
   "source": [
    "#구름 뱀이지나간자리\n",
    "height,width = map(int,input().split())\n",
    "\n",
    "for i in range(1,height+1):\n",
    "\tif i % 2 ==1: print(\"#\"*width)\n",
    "\telse:\n",
    "\t\tif (i // 2) %2==1: print(\".\"*(width-1)+\"#\")\n",
    "\t\telse: print(\"#\"+\".\"*(width-1))"
   ]
  },
  {
   "cell_type": "code",
   "execution_count": 21,
   "metadata": {},
   "outputs": [
    {
     "name": "stdout",
     "output_type": "stream",
     "text": [
      "eoo\n"
     ]
    }
   ],
   "source": [
    "#구름 앵무새꼬꼬\n",
    "a = int(input())\n",
    "alpha = ['a','e','i','o','u','A','E','I','O','U']\n",
    "\n",
    "for i in range(a):\n",
    "    res = []\n",
    "    sentence = list(map(str,input()))\n",
    "    for j in sentence:  \n",
    "        if j in alpha:\n",
    "            res.append(j)\n",
    "    if res == []:\n",
    "        print(\"???\")\n",
    "    else:\n",
    "        print(''.join(res))\n",
    "    "
   ]
  },
  {
   "cell_type": "code",
   "execution_count": 195,
   "metadata": {},
   "outputs": [
    {
     "name": "stdout",
     "output_type": "stream",
     "text": [
      "Normal\n"
     ]
    }
   ],
   "source": [
    "#구름 거울단어\n",
    "change = ['b','p','s']\n",
    "change_mirror = ['d','q','z']\n",
    "center = ['i','l','m','n','o','u','v','w','x']\n",
    "n = int(input())\n",
    "for num in range(n):\n",
    "    voca = list(map(str,input()))\n",
    "    standard = int(len(voca)/2)  #기준\n",
    "    \n",
    "    for i in voca:\n",
    "        for j in change:\n",
    "            if i == j:\n",
    "                voca[voca.index(i)] = change_mirror[change.index(j)]\n",
    "    if len(voca)%2 == 0:\n",
    "        left = voca[:standard]\n",
    "        right = list(reversed(voca[standard:]))\n",
    "        if left == right:\n",
    "            print('Mirror')\n",
    "        else:\n",
    "            print('Normal')\n",
    "    else: #홀수일때 가운데 단어가 center 알파벳이 아닐경우 print\n",
    "        if voca[int(len(voca)//2)] in center:\n",
    "            left = voca[:(standard)]\n",
    "            right = list(reversed(voca[(standard+1):]))\n",
    "            if left == right:\n",
    "                print('Mirror')\n",
    "            else:\n",
    "                print('Normal') \n",
    "        else:\n",
    "            print('Normal')"
   ]
  },
  {
   "cell_type": "code",
   "execution_count": null,
   "metadata": {},
   "outputs": [],
   "source": []
  }
 ],
 "metadata": {
  "interpreter": {
   "hash": "d180c1f1bbec73343c0043387ac1af820b9c6f63c25a80ece29458d4edf0813e"
  },
  "kernelspec": {
   "display_name": "Python 3.8.12",
   "language": "python",
   "name": "python3"
  },
  "language_info": {
   "codemirror_mode": {
    "name": "ipython",
    "version": 3
   },
   "file_extension": ".py",
   "mimetype": "text/x-python",
   "name": "python",
   "nbconvert_exporter": "python",
   "pygments_lexer": "ipython3",
   "version": "3.8.8"
  },
  "orig_nbformat": 4
 },
 "nbformat": 4,
 "nbformat_minor": 2
}
