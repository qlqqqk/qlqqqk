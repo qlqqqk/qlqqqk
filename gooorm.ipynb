{
 "cells": [
  {
   "cell_type": "code",
   "execution_count": 3,
   "metadata": {},
   "outputs": [
    {
     "name": "stdout",
     "output_type": "stream",
     "text": [
      "######\n",
      ".....#\n",
      "######\n",
      "#.....\n",
      "######\n",
      ".....#\n"
     ]
    }
   ],
   "source": [
    "#구름 뱀이지나간자리\n",
    "height,width = map(int,input().split())\n",
    "\n",
    "for i in range(1,height+1):\n",
    "\tif i % 2 ==1: print(\"#\"*width)\n",
    "\telse:\n",
    "\t\tif (i // 2) %2==1: print(\".\"*(width-1)+\"#\")\n",
    "\t\telse: print(\"#\"+\".\"*(width-1))"
   ]
  },
  {
   "cell_type": "code",
   "execution_count": null,
   "metadata": {},
   "outputs": [],
   "source": []
  }
 ],
 "metadata": {
  "interpreter": {
   "hash": "d180c1f1bbec73343c0043387ac1af820b9c6f63c25a80ece29458d4edf0813e"
  },
  "kernelspec": {
   "display_name": "Python 3.8.12",
   "language": "python",
   "name": "python3"
  },
  "language_info": {
   "codemirror_mode": {
    "name": "ipython",
    "version": 3
   },
   "file_extension": ".py",
   "mimetype": "text/x-python",
   "name": "python",
   "nbconvert_exporter": "python",
   "pygments_lexer": "ipython3",
   "version": "3.9.7"
  },
  "orig_nbformat": 4
 },
 "nbformat": 4,
 "nbformat_minor": 2
}
