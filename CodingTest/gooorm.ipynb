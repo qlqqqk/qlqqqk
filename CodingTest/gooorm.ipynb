{
 "cells": [
  {
   "cell_type": "code",
   "execution_count": 3,
   "metadata": {},
   "outputs": [
    {
     "name": "stdout",
     "output_type": "stream",
     "text": [
      "######\n",
      ".....#\n",
      "######\n",
      "#.....\n",
      "######\n",
      ".....#\n"
     ]
    }
   ],
   "source": [
    "#구름 뱀이지나간자리\n",
    "height,width = map(int,input().split())\n",
    "\n",
    "for i in range(1,height+1):\n",
    "\tif i % 2 ==1: print(\"#\"*width)\n",
    "\telse:\n",
    "\t\tif (i // 2) %2==1: print(\".\"*(width-1)+\"#\")\n",
    "\t\telse: print(\"#\"+\".\"*(width-1))"
   ]
  },
  {
   "cell_type": "code",
   "execution_count": 21,
   "metadata": {},
   "outputs": [
    {
     "name": "stdout",
     "output_type": "stream",
     "text": [
      "eoo\n"
     ]
    }
   ],
   "source": [
    "#구름 앵무새꼬꼬\n",
    "a = int(input())\n",
    "alpha = ['a','e','i','o','u','A','E','I','O','U']\n",
    "\n",
    "for i in range(a):\n",
    "    res = []\n",
    "    sentence = list(map(str,input()))\n",
    "    for j in sentence:  \n",
    "        if j in alpha:\n",
    "            res.append(j)\n",
    "    if res == []:\n",
    "        print(\"???\")\n",
    "    else:\n",
    "        print(''.join(res))\n",
    "    "
   ]
  },
  {
   "cell_type": "code",
   "execution_count": 195,
   "metadata": {},
   "outputs": [
    {
     "name": "stdout",
     "output_type": "stream",
     "text": [
      "Normal\n"
     ]
    }
   ],
   "source": [
    "#구름 거울단어\n",
    "change = ['b','p','s']\n",
    "change_mirror = ['d','q','z']\n",
    "center = ['i','l','m','n','o','u','v','w','x']\n",
    "n = int(input())\n",
    "for num in range(n):\n",
    "    voca = list(map(str,input()))\n",
    "    standard = int(len(voca)/2)  #좌우 나누기 기준 인덱스숫자\n",
    "    \n",
    "    for i in voca:\n",
    "        for j in change:\n",
    "            if i == j: #단어를 돌면서 바꿔야할 문자가 보이면 바꿔주기\n",
    "                voca[voca.index(i)] = change_mirror[change.index(j)]\n",
    "    if len(voca)%2 == 0:\n",
    "        left = voca[:standard]\n",
    "        right = list(reversed(voca[standard:]))\n",
    "        if left == right:\n",
    "            print('Mirror')\n",
    "        else:\n",
    "            print('Normal')\n",
    "    else: #홀수일때 가운데 단어가 center 알파벳이 아닐경우 print\n",
    "        if voca[int(len(voca)//2)] in center:\n",
    "            left = voca[:(standard)]\n",
    "            right = list(reversed(voca[(standard+1):]))\n",
    "            if left == right:\n",
    "                print('Mirror')\n",
    "            else:\n",
    "                print('Normal') \n",
    "        else:\n",
    "            print('Normal')"
   ]
  },
  {
   "cell_type": "code",
   "execution_count": null,
   "metadata": {},
   "outputs": [],
   "source": [
    "#거울단어 참고용1\n",
    "import re\n",
    "\n",
    "t = int(input())\n",
    "\n",
    "a = 'bdszpqilmnouvwx'\n",
    "b = 'dbzsqpilmnouvwx'\n",
    "\n",
    "words_list = []\n",
    "for i in range(t):\n",
    "  word = input()\n",
    "  words_list.append(word)\n",
    "\n",
    "p = re.compile('[bdilmnopqszuvwx]')\n",
    "for i in range(t):\n",
    "  m = p.findall(words_list[i])\n",
    "  if len(words_list[i]) != len(m):\n",
    "    words_list[i] = \"Normal\"\n",
    "\n",
    "for i in range(t):\n",
    "  if len(words_list[i]) % 2 == 0:\n",
    "    for j in range(len(words_list[i])//2):\n",
    "      alphabet_l = words_list[i][j]\n",
    "      alphabet_r = words_list[i][-(j+1)]\n",
    "      if a.find(alphabet_l) != -1 and b.find(alphabet_r) != -1:\n",
    "        if a.index(alphabet_l) != b.index(alphabet_r):\n",
    "          words_list[i] = \"Normal\"\n",
    "          break\n",
    "\n",
    "  else:\n",
    "    median_idx = (len(words_list[i])//2)\n",
    "    if words_list[i][median_idx] not in a[6:]:\n",
    "      words_list[i] = \"Normal\"\n",
    "    else:\n",
    "      for j in range(len(words_list[i])//2):\n",
    "        alphabet_l = words_list[i][j]\n",
    "        alphabet_r = words_list[i][-(j+1)]\n",
    "        if a.find(alphabet_l) != -1 and b.find(alphabet_r) != -1:\n",
    "          if a.index(alphabet_l) != b.index(alphabet_r):\n",
    "            words_list[i] = \"Normal\"\n",
    "            break\n",
    "\n",
    "for i in range(t):\n",
    "  if words_list[i] != \"Normal\":\n",
    "    words_list[i] = \"Mirror\"\n",
    "  print(words_list[i])"
   ]
  },
  {
   "cell_type": "code",
   "execution_count": null,
   "metadata": {},
   "outputs": [],
   "source": [
    "# 거울문제 참고용2\n",
    "\n",
    "# 뒤집혀도 똑같은 단어들 목록 생성    \n",
    "mirror = ['i', 'l', 'm', 'n', 'o', 'u', 'v', 'w', 'x']\n",
    "\n",
    "# 테스트 케이스 수\n",
    "num = int(input())\n",
    "words = []\n",
    "back_words = [] # 테스트 케이스 입력\n",
    "\n",
    "table = str.maketrans('szpqbd', 'zsqpdb') # translate 용 테이블 생성\n",
    "\n",
    "for i in range(num):\n",
    "    words.append(input())\n",
    "    back_words.append(words[i][::-1])  # 단어 역순으로 뒤집기\n",
    "    back_words[i] = back_words[i].translate(table)    # 문자 바꾸기(translate 활용)\n",
    "    \n",
    "# 최종 출력\n",
    "for i in range(len(words)):\n",
    "    # 문자열 수가 짝수일 경우, 같으면 mirror 출력 \n",
    "    if len(words[i]) % 2 == 0:\n",
    "        if words[i] == back_words[i]:\n",
    "            print(\"Mirror\")\n",
    "        else :\n",
    "            print(\"Normal\")\n",
    "\n",
    "    # 문자열이 홀수일 경우, 가운데 글자가 처음 만든 mirror 리스트 안에 있는지 파악 후, 단어가 같은지 확인 )\n",
    "    else : \n",
    "        if words[i][(len(words[i]) // 2):(len(words[i]) // 2) + 1] in mirror: #가운데 글자가 mirror 리스트에 있을때\n",
    "            if words[i] == back_words[i]:\n",
    "                print(\"Mirror\")\n",
    "            else :\n",
    "                print(\"Normal\")\n",
    "        else: # 가운데 글자가 다르면 노말 출력\n",
    "            print('Normal')\n",
    " "
   ]
  }
 ],
 "metadata": {
  "interpreter": {
   "hash": "d180c1f1bbec73343c0043387ac1af820b9c6f63c25a80ece29458d4edf0813e"
  },
  "kernelspec": {
   "display_name": "Python 3.8.12",
   "language": "python",
   "name": "python3"
  },
  "language_info": {
   "codemirror_mode": {
    "name": "ipython",
    "version": 3
   },
   "file_extension": ".py",
   "mimetype": "text/x-python",
   "name": "python",
   "nbconvert_exporter": "python",
   "pygments_lexer": "ipython3",
   "version": "3.9.7"
  },
  "orig_nbformat": 4
 },
 "nbformat": 4,
 "nbformat_minor": 2
}
