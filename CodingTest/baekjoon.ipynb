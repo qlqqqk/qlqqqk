{
 "cells": [
  {
   "cell_type": "code",
   "execution_count": 1,
   "metadata": {},
   "outputs": [
    {
     "name": "stdout",
     "output_type": "stream",
     "text": [
      "\\    /\\\n",
      " )  ( ')\n",
      "(  /  )\n",
      " \\(__)|\n"
     ]
    }
   ],
   "source": [
    "#10171 기호작성법 실수하지 않기 (\\\\)\n",
    "print(\"\\    /\\\\\")\n",
    "print(\" )  ( ')\")\n",
    "print(\"(  /  )\")\n",
    "print(\" \\(__)|\")"
   ]
  },
  {
   "cell_type": "code",
   "execution_count": 2,
   "metadata": {},
   "outputs": [
    {
     "name": "stdout",
     "output_type": "stream",
     "text": [
      "|\\_/|\n",
      "|q p|   /}\n",
      "( 0 )\"\"\"\\\n",
      "|\"^\"`    |\n",
      "||_/=\\\\__|\n"
     ]
    }
   ],
   "source": [
    "#10172 (')\n",
    "\n",
    "print(\"|\\_/|\")\n",
    "print(\"|q p|   /}\")\n",
    "print('( 0 )\"\"\"\\\\')\n",
    "print('|\"^\"`    |')\n",
    "print('||_/=\\\\\\__|')"
   ]
  },
  {
   "cell_type": "code",
   "execution_count": null,
   "metadata": {},
   "outputs": [
    {
     "name": "stdout",
     "output_type": "stream",
     "text": [
      "3\n"
     ]
    }
   ],
   "source": [
    "\n",
    "#1000 input().split() 숙지, int를 어디에 쓰느냐에 따라 답이 달라지니 주의!, input = str\n",
    "\n",
    "A, B = input().split()\n",
    "if 0 < int(A) < 10:\n",
    "    if 0 < int(B) < 10:\n",
    "        print(int(A)+int(B))\n",
    "else:\n",
    "    print(\"0보다 크고 10보다 작은 수를 입력해주세요.\")"
   ]
  },
  {
   "cell_type": "code",
   "execution_count": null,
   "metadata": {},
   "outputs": [
    {
     "name": "stdout",
     "output_type": "stream",
     "text": [
      "-1\n"
     ]
    }
   ],
   "source": [
    "#1001 \n",
    "A,B = map(int, input().split())\n",
    "if 0 < A < 10:\n",
    "    if 0 < A < 10:\n",
    "        print(A-B)\n",
    "else:\n",
    "    print(\"0보다 크고 10보다 작은 수를 입력해주세요.\")\n"
   ]
  },
  {
   "cell_type": "code",
   "execution_count": null,
   "metadata": {},
   "outputs": [
    {
     "name": "stdout",
     "output_type": "stream",
     "text": [
      "12\n"
     ]
    }
   ],
   "source": [
    "#10998\n",
    "a, b = map(int, input().split())\n",
    "\n",
    "print(a*b)"
   ]
  },
  {
   "cell_type": "code",
   "execution_count": null,
   "metadata": {},
   "outputs": [
    {
     "name": "stdout",
     "output_type": "stream",
     "text": [
      "1.5\n"
     ]
    }
   ],
   "source": [
    "#1008\n",
    "a, b = map(int, input().split())\n",
    "\n",
    "print(a/b)"
   ]
  },
  {
   "cell_type": "code",
   "execution_count": null,
   "metadata": {},
   "outputs": [
    {
     "name": "stdout",
     "output_type": "stream",
     "text": [
      "15\n",
      "5\n",
      "50\n",
      "2.0\n",
      "2\n"
     ]
    }
   ],
   "source": [
    "#10869 몫 나머지 구하는법 기억하기!\n",
    "a,b = map(int,input().split())\n",
    "\n",
    "print(a+b)\n",
    "print(a-b)\n",
    "print(a*b)\n",
    "print(a//b)\n",
    "print(a%b)"
   ]
  },
  {
   "cell_type": "code",
   "execution_count": null,
   "metadata": {},
   "outputs": [
    {
     "name": "stdout",
     "output_type": "stream",
     "text": [
      "joonas??!\n"
     ]
    }
   ],
   "source": [
    "#10926 isupper, islower 기억하기!\n",
    "id = input()\n",
    "if len(id) > 50: print(\"50자를 넘기지마세요.\")\n",
    "elif id.islower(): \n",
    "    print(id+\"??!\")\n",
    "\n",
    "\n",
    "#다른 답\n",
    "# import sys\n",
    "# id = sys.stdin.readline().strip()\n",
    "# print(id+'??!')"
   ]
  },
  {
   "cell_type": "code",
   "execution_count": null,
   "metadata": {},
   "outputs": [
    {
     "name": "stdout",
     "output_type": "stream",
     "text": [
      "1998\n"
     ]
    }
   ],
   "source": [
    "#18108\n",
    "Byear_input = int(input()) \n",
    "if Byear_input < 1000 | 3000 < Byear_input: print(\"다시 입력해주세요.\")\n",
    "Syear = Byear_input - 543\n",
    "print(Syear)"
   ]
  },
  {
   "cell_type": "code",
   "execution_count": null,
   "metadata": {},
   "outputs": [
    {
     "name": "stdout",
     "output_type": "stream",
     "text": [
      "0\n",
      "0\n",
      "2\n",
      "2\n"
     ]
    }
   ],
   "source": [
    "#10430\n",
    "A,B,C = map(int, input().split())\n",
    "print((A+B)%C)\n",
    "print(((A%C) + (B%C))%C)\n",
    "print((A*B)%C)\n",
    "print(((A%C)*(B%C))%C)"
   ]
  },
  {
   "cell_type": "code",
   "execution_count": null,
   "metadata": {},
   "outputs": [
    {
     "name": "stdout",
     "output_type": "stream",
     "text": [
      "2360\n",
      "3776\n",
      "1416\n",
      "181720\n"
     ]
    }
   ],
   "source": [
    "#2588 숫자를 스플릿 하는 방법 for문 사용하기 숙지!\n",
    "a = int(input())\n",
    "b = int(input())\n",
    "if a > 1000 or 99 > a:\n",
    "    print(\"세자리 자연수를 입력해주세요.\")\n",
    "elif b > 1000 or 99 > b: \n",
    "    print(\"세자리 자연수를 입력해주세요.\")\n",
    "b = [int(x) for x in str(b)]\n",
    "first = a*b[-1]\n",
    "second = a*b[-2]\n",
    "third = a*b[-3] \n",
    "fin = first + second*10 + third*100\n",
    "print(first)\n",
    "print(second)\n",
    "print(third)\n",
    "print(fin)"
   ]
  },
  {
   "cell_type": "code",
   "execution_count": null,
   "metadata": {},
   "outputs": [
    {
     "name": "stdout",
     "output_type": "stream",
     "text": [
      "<\n"
     ]
    }
   ],
   "source": [
    "#1330\n",
    "A,B = map(int,input().split())\n",
    "\n",
    "if A > B : print('>')\n",
    "if A < B : print('<')\n",
    "if A == B : print('==')"
   ]
  },
  {
   "cell_type": "code",
   "execution_count": null,
   "metadata": {},
   "outputs": [
    {
     "name": "stdout",
     "output_type": "stream",
     "text": [
      "0~100을 입력해주세요.\n"
     ]
    }
   ],
   "source": [
    "#9498\n",
    "score = int(input())\n",
    "if score < 0 or score >100: print(\"0~100을 입력해주세요.\")\n",
    "if 90<= score <= 100: print(\"A\")\n",
    "if 80<= score < 90: print(\"B\")\n",
    "if 70<= score < 80: print(\"C\")\n",
    "if 60<= score < 70: print(\"D\")\n",
    "if 0 <= score <60: print(\"F\")"
   ]
  },
  {
   "cell_type": "code",
   "execution_count": null,
   "metadata": {},
   "outputs": [
    {
     "name": "stdout",
     "output_type": "stream",
     "text": [
      "1 이상 4000이상의 자연수만 입력해주세요.\n"
     ]
    }
   ],
   "source": [
    "#2753\n",
    "year = int(input())\n",
    "if 1 <= year <= 4000:\n",
    "    if year % 4 == 0 and year % 100 != 0: print(1) \n",
    "    elif year % 100 == 0 and year % 400 == 0: print(1)\n",
    "    else: print(0)\n",
    "else: print(\"1 이상 4000이상의 자연수만 입력해주세요.\")"
   ]
  },
  {
   "cell_type": "code",
   "execution_count": null,
   "metadata": {},
   "outputs": [
    {
     "data": {
      "text/plain": [
       "2"
      ]
     },
     "execution_count": 3,
     "metadata": {},
     "output_type": "execute_result"
    }
   ],
   "source": [
    "#14681\n",
    "x = int(input())\n",
    "y = int(input())\n",
    "\n",
    "if x > 0:\n",
    "    if y > 0:\n",
    "        print(1) \n",
    "    elif y < 0:\n",
    "        print(4)\n",
    "elif x < 0:\n",
    "    if y > 0:\n",
    "        print(2) \n",
    "    elif y < 0:\n",
    "        print(3)         "
   ]
  },
  {
   "cell_type": "code",
   "execution_count": null,
   "metadata": {},
   "outputs": [
    {
     "name": "stdout",
     "output_type": "stream",
     "text": [
      "23 39\n"
     ]
    }
   ],
   "source": [
    "#2884\n",
    "H,M = map(int,input().split())\n",
    "\n",
    "\n",
    "if M < 45 : \n",
    "    if H == 0:\n",
    "        H = (H+24)\n",
    "    \n",
    "    H = H-1\n",
    "    M = (M+60) - 45\n",
    "\n",
    "else:\n",
    "    M = M - 45\n",
    "\n",
    "print(H,M) "
   ]
  },
  {
   "cell_type": "code",
   "execution_count": null,
   "metadata": {},
   "outputs": [
    {
     "name": "stdout",
     "output_type": "stream",
     "text": [
      "0 13\n"
     ]
    }
   ],
   "source": [
    "#2525 minute 먼저 처리해서 time +1 에 대한 경우의 수 만들어줘야함.\n",
    "A, B = map(int,input().split())#현재시각 출력 HH MM\n",
    "C = int(input())#요리하는데 필요한 시간 MM\n",
    "time = C // 60\n",
    "minute = C % 60\n",
    "\n",
    "if minute + B >= 60:\n",
    "    B = B-60+minute\n",
    "    A = A+1\n",
    "else: B = B+minute\n",
    "    \n",
    "if A + time >= 24:\n",
    "    A = A - 24+ time\n",
    "else: A = A + time\n",
    "\n",
    "print(A,B)        "
   ]
  },
  {
   "cell_type": "code",
   "execution_count": null,
   "metadata": {},
   "outputs": [
    {
     "name": "stdout",
     "output_type": "stream",
     "text": [
      "600\n"
     ]
    }
   ],
   "source": [
    "#2480\n",
    "a,b,c = map(int,input().split())\n",
    "prize = 0\n",
    "if a==b==c:#같은눈 3개\n",
    "    prize = 10000+(a*1000)\n",
    "elif a==b: #같은눈 2개 이걸 다르게 표현하는 방법?\n",
    "    prize = 1000 +(a*100)\n",
    "elif b==c:\n",
    "    prize = 1000 +(b*100)\n",
    "elif a==c:\n",
    "    prize = 1000 +(a*100)\n",
    "else: # 나머지\n",
    "    list = [a,b,c]\n",
    "    list = sorted(list)\n",
    "    prize = list[-1]*100\n",
    "print(prize)"
   ]
  },
  {
   "cell_type": "code",
   "execution_count": null,
   "metadata": {},
   "outputs": [
    {
     "name": "stdout",
     "output_type": "stream",
     "text": [
      "3 * 1 = 3\n",
      "3 * 2 = 6\n",
      "3 * 3 = 9\n",
      "3 * 4 = 12\n",
      "3 * 5 = 15\n",
      "3 * 6 = 18\n",
      "3 * 7 = 21\n",
      "3 * 8 = 24\n",
      "3 * 9 = 27\n"
     ]
    }
   ],
   "source": [
    "#2739 f 스트링 사용법 기억하기\n",
    "N = int(input())\n",
    "for i in range(1,10):\n",
    "    print(f'{N} * {i} =', N*i)"
   ]
  },
  {
   "cell_type": "code",
   "execution_count": null,
   "metadata": {},
   "outputs": [
    {
     "name": "stdout",
     "output_type": "stream",
     "text": [
      "2\n",
      "5\n",
      "7\n",
      "17\n",
      "7\n"
     ]
    }
   ],
   "source": [
    "#10950 \n",
    "T = int(input())\n",
    "for i in range(T):\n",
    "    A,B = map(int,input().split())\n",
    "    print(A+B)"
   ]
  },
  {
   "cell_type": "code",
   "execution_count": null,
   "metadata": {},
   "outputs": [
    {
     "name": "stdout",
     "output_type": "stream",
     "text": [
      "6\n"
     ]
    }
   ],
   "source": [
    "#8393\n",
    "n = int(input())\n",
    "\n",
    "count = []\n",
    "for i in range(1,n+1):\n",
    "    count.append(i)\n",
    "fin = sum(count)\n",
    "print(fin)"
   ]
  },
  {
   "cell_type": "code",
   "execution_count": null,
   "metadata": {},
   "outputs": [],
   "source": [
    "#15552 input 과 sys.stdin.readine 왜... vscode 설정하는 법....\n",
    "import sys\n",
    "n = int(input())\n",
    "\n",
    "for i in range(n):\n",
    "    A,B = map(int,sys.stdin.readline().split())\n",
    "    print(A+B)"
   ]
  },
  {
   "cell_type": "code",
   "execution_count": null,
   "metadata": {},
   "outputs": [],
   "source": [
    "#2741\n",
    "import sys\n",
    "n = int(sys.stdin.readline().rstrip())\n",
    "for i in range(1,n+1):\n",
    "    print(i)"
   ]
  },
  {
   "cell_type": "code",
   "execution_count": null,
   "metadata": {},
   "outputs": [
    {
     "name": "stdout",
     "output_type": "stream",
     "text": [
      "5\n",
      "4\n",
      "3\n",
      "2\n",
      "1\n"
     ]
    }
   ],
   "source": [
    "#2742 range 역순 기억하기\n",
    "n = int(input())\n",
    "\n",
    "for i in range(n,0,-1):\n",
    "    print(i)"
   ]
  },
  {
   "cell_type": "code",
   "execution_count": null,
   "metadata": {},
   "outputs": [
    {
     "name": "stdout",
     "output_type": "stream",
     "text": [
      "Case #1: 3\n"
     ]
    }
   ],
   "source": [
    "#11021 \n",
    "T = int(input())\n",
    "\n",
    "for i in range(1,T+1):\n",
    "    a,b = map(int,input().split())\n",
    "    print(f\"Case #{i}:\",a+b)"
   ]
  },
  {
   "cell_type": "code",
   "execution_count": null,
   "metadata": {},
   "outputs": [
    {
     "name": "stdout",
     "output_type": "stream",
     "text": [
      "Case #1: 1 + 2 = 3\n"
     ]
    }
   ],
   "source": [
    "#11022\n",
    "T = int(input())\n",
    "\n",
    "for i in range(1,T+1):\n",
    "    a,b = map(int,input().split())\n",
    "    print(f\"Case #{i}: {a} + {b} = {a+b}\")"
   ]
  },
  {
   "cell_type": "code",
   "execution_count": null,
   "metadata": {},
   "outputs": [
    {
     "name": "stdout",
     "output_type": "stream",
     "text": [
      "*\n",
      "**\n",
      "***\n",
      "****\n",
      "*****\n"
     ]
    }
   ],
   "source": [
    "#2438\n",
    "star = int(input())\n",
    "\n",
    "for i in range(1,star+1):\n",
    "    print(\"*\"*i)"
   ]
  },
  {
   "cell_type": "code",
   "execution_count": null,
   "metadata": {},
   "outputs": [
    {
     "name": "stdout",
     "output_type": "stream",
     "text": [
      "  *\n",
      " **\n",
      "***\n"
     ]
    }
   ],
   "source": [
    "#2439\n",
    "star = int(input())\n",
    "\n",
    "for i in range(1,star+1):\n",
    "    print((\" \"*(star-i))+\"*\"*i)\n"
   ]
  },
  {
   "cell_type": "code",
   "execution_count": null,
   "metadata": {},
   "outputs": [
    {
     "name": "stdout",
     "output_type": "stream",
     "text": [
      "1 3 "
     ]
    }
   ],
   "source": [
    "#10871\n",
    "n,x = map(int,input().split()) #n = 수열의 정수 개수  x = 기준 정수\n",
    "a = list(map(int,input().split()))\n",
    "seq = []\n",
    "for i in a:\n",
    "    if i < x:\n",
    "        print(i,end=' ')\n",
    "        #seq.append(i)\n",
    "\n",
    "# print(seq)"
   ]
  },
  {
   "cell_type": "code",
   "execution_count": null,
   "metadata": {},
   "outputs": [
    {
     "name": "stdout",
     "output_type": "stream",
     "text": [
      "2\n",
      "5\n",
      "1\n"
     ]
    }
   ],
   "source": [
    "#10952\n",
    "\n",
    "while True:\n",
    "    a,b = map(int,input().split())\n",
    "    if a==0 and b==0: break\n",
    "    print(a+b)\n"
   ]
  },
  {
   "cell_type": "code",
   "execution_count": null,
   "metadata": {},
   "outputs": [],
   "source": [
    "#10951\n",
    "while True:\n",
    "    try:\n",
    "        a,b = map(int,input().split())\n",
    "        print(a+b)\n",
    "    except: break"
   ]
  },
  {
   "cell_type": "code",
   "execution_count": null,
   "metadata": {},
   "outputs": [
    {
     "name": "stdout",
     "output_type": "stream",
     "text": [
      "4\n"
     ]
    }
   ],
   "source": [
    "#1110 제대로 못풀음\n",
    "'''ex. 08 = 8 8+8 = 16 8+6 = 14 6+4 = 10 0+4 = 4, 8''' \n",
    "cnt = 0\n",
    "n = int(input())\n",
    "num = n  \n",
    "while True:\n",
    "    sum_n =  num//10 + num%10\n",
    "    new_n = ((num%10)*10) + (sum_n % 10)\n",
    "    cnt += 1\n",
    "    if n == new_n: break\n",
    "        \n",
    "    num = new_n \n",
    "print(cnt)"
   ]
  },
  {
   "cell_type": "code",
   "execution_count": null,
   "metadata": {},
   "outputs": [
    {
     "name": "stdout",
     "output_type": "stream",
     "text": [
      "22 482\n"
     ]
    }
   ],
   "source": [
    "#10818 내장함수 428ms / 리스트 868ms\n",
    "n = int(input())\n",
    "num = list(map(int,input().split()))\n",
    "#print(min(num),max(num))\n",
    "\n",
    "fast = sorted(num)\n",
    "print(fast[0],fast[-1])"
   ]
  },
  {
   "cell_type": "code",
   "execution_count": null,
   "metadata": {},
   "outputs": [
    {
     "name": "stdout",
     "output_type": "stream",
     "text": [
      "85\n",
      "7\n"
     ]
    }
   ],
   "source": [
    "#2562\n",
    "num = [] \n",
    "for i in range(9):\n",
    "    n = int(input())\n",
    "    num.append(n)\n",
    "print(max(num))\n",
    "print(num.index(max(num))+1)"
   ]
  },
  {
   "cell_type": "code",
   "execution_count": null,
   "metadata": {},
   "outputs": [
    {
     "name": "stdout",
     "output_type": "stream",
     "text": [
      "3\n",
      "1\n",
      "0\n",
      "2\n",
      "0\n",
      "0\n",
      "0\n",
      "2\n",
      "0\n",
      "0\n"
     ]
    }
   ],
   "source": [
    "#2577 count 메서드 기억\n",
    "\n",
    "a = int(input())\n",
    "b = int(input())\n",
    "c = int(input())\n",
    "cnt = list(range(10))\n",
    "num = list(map(int,str(a*b*c)))\n",
    "for i in range(10):\n",
    "    print(num.count(i))"
   ]
  },
  {
   "cell_type": "code",
   "execution_count": null,
   "metadata": {},
   "outputs": [
    {
     "name": "stdout",
     "output_type": "stream",
     "text": [
      "10\n"
     ]
    }
   ],
   "source": [
    "#3052 리스트내 원소 중복처리하는 방법 다시 보기!\n",
    "numbers = []\n",
    "dup = []\n",
    "cnt = 10\n",
    "for i in range(10):\n",
    "    num = int(input())\n",
    "    numbers.append(num%42)\n",
    "    for i in numbers:\n",
    "        if i not in dup:\n",
    "            dup.append(i)\n",
    "print(len(dup))"
   ]
  },
  {
   "cell_type": "code",
   "execution_count": null,
   "metadata": {},
   "outputs": [
    {
     "name": "stdout",
     "output_type": "stream",
     "text": [
      "75.0\n"
     ]
    }
   ],
   "source": [
    "#1546\n",
    "#자기점수중 최대값 점수/M * 100 == 새로운점수\n",
    "N = int(input())\n",
    "grade = list(map(int,input().split()))\n",
    "new_grade = []\n",
    "for i in grade:\n",
    "    new = (i/max(grade)) *100\n",
    "    new_grade.append(new)\n",
    "    \n",
    "print(sum(new_grade)/len(new_grade))"
   ]
  },
  {
   "cell_type": "code",
   "execution_count": null,
   "metadata": {},
   "outputs": [
    {
     "name": "stdout",
     "output_type": "stream",
     "text": [
      "10\n",
      "9\n",
      "7\n",
      "55\n",
      "30\n"
     ]
    }
   ],
   "source": [
    "#8958\n",
    "n = int(input())\n",
    "for i in range(n):\n",
    "    cnt = 0\n",
    "    cnt_sum = 0\n",
    "    quiz = list(map(str,input()))\n",
    "    for j in quiz:\n",
    "        if j == \"O\":\n",
    "            cnt += 1\n",
    "            cnt_sum += cnt\n",
    "        elif j == \"X\":\n",
    "            cnt = 0\n",
    "    print(cnt_sum)\n",
    "    \n"
   ]
  },
  {
   "cell_type": "code",
   "execution_count": null,
   "metadata": {},
   "outputs": [],
   "source": [
    "#4344\n",
    "T = int(input())\n",
    "for i in range(T):\n",
    "    cnt = 0\n",
    "    score = []\n",
    "    score = list(map(int,input().split()))\n",
    "    student = score[0]\n",
    "    score = score[1:]\n",
    "    mean_class = sum(score)/student\n",
    "    for a in score:\n",
    "        if mean_class < a:\n",
    "            cnt += 1\n",
    "    print(f\"{(cnt/student)*100:.3f}%\")"
   ]
  },
  {
   "cell_type": "code",
   "execution_count": null,
   "metadata": {},
   "outputs": [
    {
     "data": {
      "text/plain": [
       "21"
      ]
     },
     "execution_count": 16,
     "metadata": {},
     "output_type": "execute_result"
    }
   ],
   "source": [
    "#15596\n",
    "def solve(a:list):\n",
    "    return sum(a)\n",
    "solve([1,2,3,4,5,6])"
   ]
  },
  {
   "cell_type": "code",
   "execution_count": null,
   "metadata": {},
   "outputs": [],
   "source": [
    "#4673 감도 안잡히는 문제 \n",
    "def self(n):\n",
    "    n = n + sum(map(int,str(n)))\n",
    "    return n\n",
    "notSelf = []\n",
    "for i in range(1,10001):\n",
    "    notSelf.append(self(i))\n",
    "for j in range(1,10001):\n",
    "    if j not in notSelf:\n",
    "        print(j)"
   ]
  },
  {
   "cell_type": "code",
   "execution_count": null,
   "metadata": {},
   "outputs": [],
   "source": [
    "#1065\n",
    "def Hansu(n):\n",
    "    cnt = 0\n",
    "    for i in range(1,n+1):\n",
    "        if i < 100:\n",
    "            cnt += 1\n",
    "        else:\n",
    "            numbers = list(map(int,str(i)))\n",
    "            if numbers[0] - numbers[1] == numbers[1] - numbers[2]:\n",
    "                cnt += 1\n",
    "    return cnt"
   ]
  },
  {
   "cell_type": "code",
   "execution_count": null,
   "metadata": {},
   "outputs": [
    {
     "data": {
      "text/plain": [
       "65"
      ]
     },
     "execution_count": 1,
     "metadata": {},
     "output_type": "execute_result"
    }
   ],
   "source": [
    "#11654 숫자-> 문자 chr()\n",
    "a = input()\n",
    "ord(a)"
   ]
  },
  {
   "cell_type": "code",
   "execution_count": null,
   "metadata": {},
   "outputs": [],
   "source": [
    "#11720\n",
    "N = int(input())\n",
    "num = list(map(int,str(input())))\n",
    "print(sum(num))"
   ]
  },
  {
   "cell_type": "code",
   "execution_count": null,
   "metadata": {},
   "outputs": [
    {
     "name": "stdout",
     "output_type": "stream",
     "text": [
      "1 0 -1 -1 2 -1 -1 -1 -1 4 3 -1 -1 7 5 -1 -1 -1 -1 -1 -1 -1 -1 -1 -1 -1\n"
     ]
    }
   ],
   "source": [
    "#10809 아스키코드 알파벳 받아오는 법 기억하기.\n",
    "from string import ascii_lowercase\n",
    "S = list(str(input())) # ['b','a','e','k','j','o','o','n']\n",
    "alpha = list(ascii_lowercase)\n",
    "alpha_book = {}\n",
    "for i in alpha:\n",
    "    alpha_book[i] = -1\n",
    "\n",
    "for i in S:\n",
    "    alpha_book[i] = S.index(i)\n",
    "res = list(alpha_book.values())\n",
    "res = ' '.join(map(str,res))\n",
    "print(res)"
   ]
  },
  {
   "cell_type": "code",
   "execution_count": null,
   "metadata": {},
   "outputs": [
    {
     "name": "stdout",
     "output_type": "stream",
     "text": [
      "AAABBBCCC\n",
      "/////HHHHHTTTTTPPPPP\n"
     ]
    }
   ],
   "source": [
    "#2675 줄넘김 <<< 기억\n",
    "S = int(input())\n",
    "for i in range(S):\n",
    "    R, P = map(str,input().split())\n",
    "    R = int(R)\n",
    "    P = list(P)\n",
    "    for rep in P:\n",
    "        print(rep*R,end=\"\")\n",
    "    print() # 줄넘김"
   ]
  },
  {
   "cell_type": "code",
   "execution_count": null,
   "metadata": {},
   "outputs": [
    {
     "name": "stdout",
     "output_type": "stream",
     "text": [
      "A\n"
     ]
    }
   ],
   "source": [
    "#1157\n",
    "voca = list(input().upper())\n",
    "dup = sorted(set(voca), key= lambda x: voca.index(x))\n",
    "max_cnt = []\n",
    "for alpha in dup:\n",
    "    cnt = voca.count(alpha)\n",
    "    max_cnt.append(cnt)\n",
    "        \n",
    "if max_cnt.count(max(max_cnt)) > 1:\n",
    "    print(\"?\")\n",
    "else:\n",
    "    print(dup[max_cnt.index(max(max_cnt))])"
   ]
  },
  {
   "cell_type": "code",
   "execution_count": null,
   "metadata": {},
   "outputs": [
    {
     "name": "stdout",
     "output_type": "stream",
     "text": [
      "6\n"
     ]
    }
   ],
   "source": [
    "#1152\n",
    "voca = list(map(str,input().split()))\n",
    "print(len(voca))"
   ]
  },
  {
   "cell_type": "code",
   "execution_count": null,
   "metadata": {},
   "outputs": [
    {
     "name": "stdout",
     "output_type": "stream",
     "text": [
      "437\n"
     ]
    }
   ],
   "source": [
    "#2908 [::-1]\n",
    "num1,num2 = map(str,input().split())\n",
    "num1 = num1[::-1]\n",
    "num2 = num2[::-1]\n",
    "\n",
    "if num1 > num2:\n",
    "    print(num1)\n",
    "else:\n",
    "    print(num2)"
   ]
  },
  {
   "cell_type": "code",
   "execution_count": null,
   "metadata": {},
   "outputs": [
    {
     "name": "stdout",
     "output_type": "stream",
     "text": [
      "13\n"
     ]
    }
   ],
   "source": [
    "#5622\n",
    "dial = input()\n",
    "alpha = ['ABC','DEF','GHI','JKL','MNO','PQRS','TUV','WXYZ']\n",
    "cnt = 0\n",
    "for i in range(len(dial)):\n",
    "    for j in alpha:\n",
    "        if dial[i] in j:\n",
    "            cnt += alpha.index(j) + 3\n",
    "print(cnt)"
   ]
  },
  {
   "cell_type": "code",
   "execution_count": null,
   "metadata": {},
   "outputs": [
    {
     "name": "stdout",
     "output_type": "stream",
     "text": [
      "~e~~ak\n"
     ]
    }
   ],
   "source": [
    "#2941 replace\n",
    "alpha = input()\n",
    "croa_alpha = ['c=','c-','dz=','d-','lj','nj','s=','z=']\n",
    "for i in croa_alpha:\n",
    "    alpha = alpha.replace(i,'~')\n",
    "print(len(alpha))"
   ]
  },
  {
   "cell_type": "code",
   "execution_count": null,
   "metadata": {},
   "outputs": [
    {
     "name": "stdout",
     "output_type": "stream",
     "text": [
      "3\n"
     ]
    }
   ],
   "source": [
    "#1316\n",
    "n=int(input())\n",
    "cnt=0\n",
    "for _ in range(n):\n",
    "    word=input()\n",
    "    for i in range(len(word)-1):\n",
    "        if word[i]!=word[i+1]:\n",
    "            if word[i] in word[i+1:]:\n",
    "                n-=1\n",
    "                break\n",
    "print(n)"
   ]
  },
  {
   "cell_type": "code",
   "execution_count": null,
   "metadata": {},
   "outputs": [
    {
     "name": "stdout",
     "output_type": "stream",
     "text": [
      "-1\n"
     ]
    }
   ],
   "source": [
    "#1712\n",
    "a,b,c = map(int,input().split())\n",
    "if c-b <= 0:\n",
    "    print(-1)\n",
    "else:\n",
    "    net = (a/(c-b))+1\n",
    "    print(int(net))\n"
   ]
  },
  {
   "cell_type": "code",
   "execution_count": null,
   "metadata": {},
   "outputs": [
    {
     "name": "stdout",
     "output_type": "stream",
     "text": [
      "3\n"
     ]
    }
   ],
   "source": [
    "#2292\n",
    "N = int(input())\n",
    "bee_home = 1\n",
    "cnt = 1\n",
    "while N > bee_home:\n",
    "    bee_home += 6*cnt\n",
    "    cnt += 1\n",
    "print(cnt)"
   ]
  },
  {
   "cell_type": "code",
   "execution_count": null,
   "metadata": {},
   "outputs": [
    {
     "name": "stdout",
     "output_type": "stream",
     "text": [
      "1/4\n"
     ]
    }
   ],
   "source": [
    "#1193\n",
    "N = int(input()) #몇번째 숫자 4\n",
    "i = 1 #몇번째줄? 3\n",
    "while True:\n",
    "    if sum(range(i)) <= N <= sum(range(i+1)):\n",
    "        break\n",
    "    else:\n",
    "        i+=1\n",
    "z = N - sum(range(i)) #몇번째 숫자?\n",
    "if (i+1) % 2 == 0:\n",
    "    son = i-z+1\n",
    "    mom = z\n",
    "else:\n",
    "    son = z\n",
    "    mom = i-z+1\n",
    "print(f\"{son}/{mom}\")\n"
   ]
  },
  {
   "cell_type": "code",
   "execution_count": null,
   "metadata": {},
   "outputs": [
    {
     "name": "stdout",
     "output_type": "stream",
     "text": [
      "4\n"
     ]
    }
   ],
   "source": [
    "#2869 시간초과 math ceil 사용\n",
    "import math\n",
    "A,B,V = map(int,input().split())\n",
    "day = 0\n",
    "if (V-B)%(A-B) != 0:\n",
    "    day = ((V-B)//(A-B)) + 1\n",
    "else:\n",
    "    day = ((V-B)//(A-B))\n",
    "\n",
    "print(math.ceil(day))"
   ]
  },
  {
   "cell_type": "code",
   "execution_count": null,
   "metadata": {},
   "outputs": [
    {
     "name": "stdout",
     "output_type": "stream",
     "text": [
      "601\n"
     ]
    }
   ],
   "source": [
    "#10250\n",
    "T = int(input())\n",
    "for i in range(T):\n",
    "    H,W,N = map(int,input().split()) # 높이,가로, 몇번째 손님\n",
    "    '''높이가 호수를 정한다. N % H으로 아래에서 부터 몇층까지일지 체크 N // H 로 몇 호일지 체크\n",
    "        높이(H)와 N의 관계에 따라서 다르게 출력될수있음.'''\n",
    "    if N % H == 0:\n",
    "        high = H\n",
    "    else:\n",
    "        high = N % H\n",
    "\n",
    "    if high == H:\n",
    "        ho = N//H\n",
    "    else:\n",
    "        ho = (N // H) +1\n",
    "    res = (high*100) + ho\n",
    "    print(res)\n",
    "\n"
   ]
  },
  {
   "cell_type": "code",
   "execution_count": null,
   "metadata": {},
   "outputs": [
    {
     "name": "stdout",
     "output_type": "stream",
     "text": [
      "6\n",
      "10\n"
     ]
    }
   ],
   "source": [
    "#2775\n",
    "'''자신의 아래층(a-1) 본인이 살고싶은 b호 (range(b))\n",
    "0층 (1 2 3 4) 1층 (1 3 6 10) 2층 (1 4 10 20) 3층 (1 5 15 35) 4층 (1 6 21 56)k층 n호 = k-1층 n호 + k층 n-1호 '''\n",
    "T = int(input())\n",
    "for i in range(T):\n",
    "    k = int(input())\n",
    "    n = int(input())\n",
    "    floor0 = [x for x in range(1,n+1)]\n",
    "    for f in range(k):\n",
    "        for j in range(1,n):\n",
    "            floor0[j] += floor0[j-1]\n",
    "    print(floor0[-1])"
   ]
  },
  {
   "cell_type": "code",
   "execution_count": null,
   "metadata": {},
   "outputs": [
    {
     "name": "stdout",
     "output_type": "stream",
     "text": [
      "6\n"
     ]
    }
   ],
   "source": [
    "#11047 그리디 알고리즘 1\n",
    "n,k = map(int,input().split())\n",
    "unit_list = []\n",
    "cnt = 0\n",
    "for i in range(n):\n",
    "    unit = int(input())\n",
    "    unit_list.insert(0,unit)\n",
    "\n",
    "while k != 0:\n",
    "    for j in unit_list:\n",
    "        if j <= k:\n",
    "            c = k//j\n",
    "            k = k%j\n",
    "            cnt += c\n",
    "print(cnt)"
   ]
  },
  {
   "cell_type": "code",
   "execution_count": null,
   "metadata": {},
   "outputs": [
    {
     "name": "stdout",
     "output_type": "stream",
     "text": [
      "5\n"
     ]
    }
   ],
   "source": [
    "#2839 그리디 알고리즘2\n",
    "'''\n",
    "N킬로그램 배달 설탕은 3,5킬로그램 봉지 최대한 적은 봉지 정확하게 배달할수없다면 -1\n",
    "N = input()\n",
    "'''\n",
    "\n",
    "N = int(input()) \n",
    "cnt = 0 # 봉지 수\n",
    "\n",
    "while N >0:\n",
    "    if N%5 ==0:\n",
    "        cnt += N//5\n",
    "        break\n",
    "    elif N ==1 or N==2:\n",
    "        cnt = -1\n",
    "        break\n",
    "    else:\n",
    "        N -= 3\n",
    "        cnt += 1\n",
    "print(cnt)"
   ]
  },
  {
   "cell_type": "code",
   "execution_count": null,
   "metadata": {},
   "outputs": [
    {
     "name": "stdout",
     "output_type": "stream",
     "text": [
      "2\n"
     ]
    }
   ],
   "source": [
    "#1931 그리디 알고리즘\n",
    "'''\n",
    "회의실 1개에서 최대한 사용할 수 있는 회의 개수\n",
    "'''\n",
    "N = int(input())\n",
    "time = []\n",
    "for _ in range(N):\n",
    "    i = tuple(map(int,input().split()))\n",
    "    time.append(i)\n",
    "\n",
    "time_list = sorted(time,key=lambda x: (x[1],x[0])) #key를 튜플 형태로 줄 경우 첫번째 조건이 동일할 때 두번째조건으로 정렬\n",
    "cnt_list = [time_list[0]]\n",
    "for t in time_list[1:]:\n",
    "    if cnt_list[-1][1] <= t[0]:\n",
    "        cnt_list.append(t)\n",
    "\n",
    "print(len(cnt_list))"
   ]
  },
  {
   "cell_type": "code",
   "execution_count": null,
   "metadata": {},
   "outputs": [
    {
     "name": "stdout",
     "output_type": "stream",
     "text": [
      "32\n"
     ]
    }
   ],
   "source": [
    "#11399 ATM 그리디알고리즘\n",
    "'''\n",
    "ATM i번째 사람이 돈 뽑는데 걸리는 시간 P_i 인출하는데 걸리는 시간(모든사람의) 최소화 방법\n",
    "입력: 첫째 줄 : 인원, 둘째 줄 : 각 사람 돈 뽑는 시간\n",
    "'''\n",
    "N = int(input())\n",
    "li = list(map(int,input().split()))\n",
    "\n",
    "li = sorted(li)\n",
    "\n",
    "time = li[0] # 결과값(최소시간)\n",
    "start = li[0] # time에 더해줄 시간 구하기\n",
    "for i in range(1,len(li)):\n",
    "    sum = start+li[i]\n",
    "    start = sum\n",
    "    time += sum\n",
    "\n",
    "print(time)\n"
   ]
  },
  {
   "cell_type": "code",
   "execution_count": 19,
   "metadata": {},
   "outputs": [
    {
     "name": "stdout",
     "output_type": "stream",
     "text": [
      "-40\n"
     ]
    }
   ],
   "source": [
    "#1541 잃어버린 괄호 / 그리디 알고리즘\n",
    "'''\n",
    "\n",
    "'''\n",
    "import re\n",
    "ma = input()\n",
    "num = re.split(r'[-]',ma) #-()- 마이너스 사이 값 찾기\n",
    "num_list = []\n",
    "for i in num:\n",
    "    sub_i = re.split(r'[+]',i)\n",
    "    cal_number = sum(list(map(int,sub_i)))\n",
    "    num_list.append(cal_number)\n",
    "\n",
    "first_n = num_list[0]\n",
    "for j in num_list[1:]:\n",
    "    first_n -= j\n",
    "print(first_n)"
   ]
  },
  {
   "cell_type": "code",
   "execution_count": 100,
   "metadata": {},
   "outputs": [
    {
     "name": "stdout",
     "output_type": "stream",
     "text": [
      "18\n"
     ]
    }
   ],
   "source": [
    "#13305 주유소\n",
    "N = int(input())\n",
    "distance = list(map(int,input().split()))\n",
    "region_price = list(map(int,input().split()))\n",
    "\n",
    "minimum_price = region_price[0]\n",
    "cost = minimum_price * distance[0]\n",
    "for i in range(1,N-1): # 1 2 \n",
    "    if minimum_price > region_price[i]:\n",
    "        minimum_price = region_price[i]\n",
    "        cost += minimum_price * distance[i]\n",
    "    else:\n",
    "        cost += minimum_price * distance[i]\n",
    "print(cost)\n",
    "# '''\n",
    "#-------------- 첫 오답 ------------\n",
    "# 경우의 수 \n",
    "# 1. 최초 노드(왼쪽)가 다음 노드보다 기름 가격이 쌀 경우 -> 기름 값이 더 적어지는 구간까지 거리를 더해서 충전할 양을 선택\n",
    "# 2. 반대의 경우 -> 다음 노드까지 갈 최소한의 기름만 챙겨서 넘어감\n",
    "# '''\n",
    "# N = int(input()) # N의 개수에 따라 따로 제약조건을 걸어줄 방법 구글링 필요\n",
    "# length = list(map(int,input().split()))\n",
    "# gas_price = list(map(int,input().split()))\n",
    "# distance = 0 # 채워야할 기름의 양 == 가야할 거리\n",
    "# cost = 0\n",
    "\n",
    "# for i in range(N-1):\n",
    "#     distance = 0\n",
    "#     if gas_price[0] >= gas_price[1]: # 일반화 필요\n",
    "#         distance += length.pop(0) \n",
    "#         cost += gas_price.pop(0) * distance\n",
    "\n",
    "#     else: \n",
    "#         distance += length.pop(0)+length.pop(0)\n",
    "#         cost += (gas_price[0]* distance)\n",
    "#         gas_price.pop(1)\n",
    "# print(cost)"
   ]
  },
  {
   "cell_type": "code",
   "execution_count": 88,
   "metadata": {},
   "outputs": [
    {
     "name": "stdout",
     "output_type": "stream",
     "text": [
      "-1\n",
      "-1\n",
      "123\n",
      "123\n",
      "-1\n",
      "-1\n"
     ]
    }
   ],
   "source": [
    "#10828 스택\n",
    "class H_stack():\n",
    "    def __init__(self):\n",
    "        self.stack_list = []\n",
    "        \n",
    "    def push(self,data):\n",
    "        if isinstance(data,str) == 1:\n",
    "            return print('숫자만 넣어주세요')\n",
    "        return self.stack_list.append(data)\n",
    "    \n",
    "    def pop(self):\n",
    "        if len(self.stack_list) == 0: \n",
    "            return -1\n",
    "        return self.stack_list.pop()\n",
    "    \n",
    "    def size(self):\n",
    "        return len(self.stack_list)\n",
    "    \n",
    "    def empty(self):\n",
    "        if len(self.stack_list) == 0: return 1\n",
    "        return 0\n",
    "        \n",
    "    def top(self):\n",
    "        if len(self.stack_list) == 0: return -1\n",
    "        return self.stack_list[-1]\n",
    "    \n",
    "N = int(input()) #int(sys.stdin.readline())\n",
    "stack = H_stack()\n",
    "for i in range(N):\n",
    "    c = input().split() #sys.stdin.readline().split()\n",
    "    if c[0] == 'push':\n",
    "        c[1] = int(c[1])\n",
    "        stack.push(int(c[1]))\n",
    "    if c[0] == 'pop': print(stack.pop())\n",
    "    if c[0] == 'size': print(stack.size())\n",
    "    if c[0] == 'empty': print(stack.empty())\n",
    "    if c[0] == 'top':  print(stack.top())"
   ]
  },
  {
   "cell_type": "code",
   "execution_count": 94,
   "metadata": {},
   "outputs": [
    {
     "data": {
      "text/plain": [
       "7"
      ]
     },
     "execution_count": 94,
     "metadata": {},
     "output_type": "execute_result"
    }
   ],
   "source": [
    "#10773 제로 (stack 2번문제)\n",
    "class account_manager():\n",
    "    def __init__(self):\n",
    "        self.wallet = []\n",
    "        \n",
    "    def deposit(self,income):\n",
    "        if income == 0:\n",
    "            self.wallet.pop(-1)\n",
    "        else: self.wallet.append(income)\n",
    "        \n",
    "    def total_acc(self):\n",
    "        return sum(self.wallet)\n",
    "    \n",
    "N = int(input())\n",
    "club_acc = account_manager()\n",
    "for i in range(N):\n",
    "    c = int(input())\n",
    "    club_acc.deposit(c)\n",
    "print(club_acc.total_acc()) "
   ]
  },
  {
   "cell_type": "code",
   "execution_count": 175,
   "metadata": {},
   "outputs": [
    {
     "name": "stdout",
     "output_type": "stream",
     "text": [
      "NO\n",
      "NO\n",
      "NO\n"
     ]
    }
   ],
   "source": [
    "#9012 괄호\n",
    "class bracket_stack():\n",
    "    def __init__(self) -> None:\n",
    "        self.bracket = []\n",
    "    \n",
    "    def parts_check(self,parts):\n",
    "        for p in parts:    \n",
    "            \n",
    "            if p == ')' and len(self.bracket) == 0: #))\n",
    "                return print('NO')\n",
    "            \n",
    "            if len(self.bracket) == 0 or self.bracket[-1] == p:\n",
    "                self.bracket.append(p)\n",
    "                \n",
    "            else:\n",
    "                self.bracket.pop() #((()))   ()()()\n",
    "                \n",
    "        if len(self.bracket) == 0: return print('YES')\n",
    "        else: return print('NO')\n",
    "\n",
    "N = int(input())\n",
    "for num in range(N):\n",
    "    d = bracket_stack()\n",
    "    b_list = list(map(str,input()))\n",
    "    d.parts_check(b_list)"
   ]
  },
  {
   "cell_type": "code",
   "execution_count": 238,
   "metadata": {},
   "outputs": [
    {
     "name": "stdout",
     "output_type": "stream",
     "text": [
      "no\n",
      "1.3761322498321533\n"
     ]
    }
   ],
   "source": [
    "#4949 균형잡힌 세상 (런타임 에러) -> time으로 잴때는 시간 간격이 차이나지 않는다고 생각... \n",
    "import time\n",
    "while True:\n",
    "    srt = time.time()\n",
    "    brac_input = list(map(str,input()))\n",
    "    if brac_input == ['.']:\n",
    "        break\n",
    "    bracket_list = [i for i in brac_input if i in {'[',']','.','(',')'}]\n",
    "    brac_set = []\n",
    "    answer = 'yes'\n",
    "    if bracket_list[-1] != '.':\n",
    "        answer = 'no'\n",
    "    if bracket_list[0] == ')' or bracket_list[0] == ']':\n",
    "        answer = 'no'\n",
    "    else:\n",
    "        for b in bracket_list:\n",
    "            if b == ']': \n",
    "                if brac_set[-1] == '(': \n",
    "                    answer = 'no' \n",
    "                    break\n",
    "                if brac_set[-1] == '[':\n",
    "                    brac_set.pop()\n",
    "            if b == ')':\n",
    "                if brac_set[-1] == '[': \n",
    "                    answer = 'no'\n",
    "                    break\n",
    "                if brac_set[-1] == '(':\n",
    "                    brac_set.pop()\n",
    "                    \n",
    "            else: brac_set.append(b)\n",
    "    print(answer)\n",
    "    print(time.time() - srt)"
   ]
  },
  {
   "cell_type": "code",
   "execution_count": 239,
   "metadata": {},
   "outputs": [
    {
     "name": "stdout",
     "output_type": "stream",
     "text": [
      "no\n",
      "1.254554033279419\n"
     ]
    }
   ],
   "source": [
    "while True:\n",
    "    srt = time.time()\n",
    "    a = input()\n",
    "    if a == '.':\n",
    "        break\n",
    "    stack = []\n",
    "    answer = 'yes'\n",
    "    for i in a:\n",
    "        if i == '(' or i == '[':\n",
    "            stack.append(i)\n",
    "        elif i == ')':\n",
    "            if len(stack) != 0 and stack[-1] == '(':\n",
    "                stack.pop()\n",
    "            else:\n",
    "                answer = 'no'\n",
    "                break\n",
    "        elif i == ']':\n",
    "            if len(stack) != 0 and stack[-1] == '[':\n",
    "                stack.pop()\n",
    "            else:\n",
    "                answer = 'no'\n",
    "                break\n",
    "    if len(stack) == 0:\n",
    "        print(answer)\n",
    "    else:\n",
    "        print('no')\n",
    "    print(time.time() - srt) "
   ]
  },
  {
   "cell_type": "code",
   "execution_count": 273,
   "metadata": {},
   "outputs": [
    {
     "name": "stdout",
     "output_type": "stream",
     "text": [
      "NO\n"
     ]
    }
   ],
   "source": [
    "#1874 스택 수열 stack sequence\n",
    "'''\n",
    "문제 이해하기\n",
    "첫줄의 숫자는 숫자가 나오는 횟수\n",
    "오름차순으로 stack push를 진행해야한다 == pop으로 출력할 숫자를 세팅하기 위해 pop하는 숫자보다 낮은 숫자들을 먼저 stack안에 넣어줘야한다.\n",
    "'''\n",
    "N = int(input())\n",
    "n = 1\n",
    "stack_list = []\n",
    "signal = []\n",
    "for _ in range(N):\n",
    "    number = int(input())\n",
    "    \n",
    "    while n <= number:\n",
    "        stack_list.append(n)\n",
    "        signal.append('+')\n",
    "        n += 1\n",
    "    \n",
    "    if stack_list[-1] == number:\n",
    "        stack_list.pop()\n",
    "        signal.append('-')\n",
    "    else:\n",
    "        signal.append('NO')\n",
    "        \n",
    "if 'NO' in signal:\n",
    "    print('NO')\n",
    "else:\n",
    "    for p in signal:\n",
    "        print(p)\n"
   ]
  },
  {
   "cell_type": "code",
   "execution_count": 287,
   "metadata": {},
   "outputs": [
    {
     "name": "stdout",
     "output_type": "stream",
     "text": [
      "1\n",
      "2\n",
      "2\n",
      "0\n",
      "1\n",
      "2\n",
      "-1\n",
      "-1\n",
      "0\n",
      "1\n",
      "-1\n",
      "0\n"
     ]
    }
   ],
   "source": [
    "# 18258 큐2 시간초과\n",
    "class queue2():\n",
    "    def __init__(self) -> None:\n",
    "        self.que_list = []\n",
    "    \n",
    "    def push(self,X):\n",
    "        return self.que_list.append(X)\n",
    "    \n",
    "    def pop(self):\n",
    "        if len(self.que_list) == 0:\n",
    "            return -1\n",
    "        return self.que_list.pop(0)\n",
    "    \n",
    "    def size(self):\n",
    "        return len(self.que_list)\n",
    "    \n",
    "    def empty(self):\n",
    "        if len(self.que_list) == 0:\n",
    "            return 1\n",
    "        return 0\n",
    "    \n",
    "    def front(self):\n",
    "        if len(self.que_list) == 0:\n",
    "            return -1\n",
    "        return self.que_list[0]\n",
    "    \n",
    "    def back(self):\n",
    "        if len(self.que_list) == 0:\n",
    "            return -1\n",
    "        return self.que_list[-1]\n",
    "\n",
    "N = int(input())\n",
    "que = queue2()\n",
    "for _ in range(N):\n",
    "    sig = list(input().split())\n",
    "    if sig[0] == 'push':\n",
    "        que.push(int(sig[1]))\n",
    "    if sig[0] == 'pop':\n",
    "        print(que.pop())\n",
    "    if sig[0] == 'size':\n",
    "        print(que.size())\n",
    "    if sig[0] == 'empty':\n",
    "        print(que.empty())\n",
    "    if sig[0] == 'front':\n",
    "        print(que.front())\n",
    "    if sig[0] == 'back':\n",
    "        print(que.back())"
   ]
  },
  {
   "cell_type": "code",
   "execution_count": 289,
   "metadata": {},
   "outputs": [
    {
     "name": "stdout",
     "output_type": "stream",
     "text": [
      "1\n",
      "2\n",
      "2\n",
      "0\n",
      "1\n",
      "2\n",
      "-1\n",
      "0\n",
      "1\n",
      "-1\n",
      "0\n",
      "3\n"
     ]
    }
   ],
   "source": [
    "from collections import deque\n",
    "# 18258 큐2 deque, sys.stdin.readline 활용으로 시간 극복해야함.\n",
    "class queue2():\n",
    "    \n",
    "    def __init__(self) -> None:\n",
    "        self.que_list = deque()\n",
    "    \n",
    "    def push(self,X):\n",
    "        return self.que_list.append(X)\n",
    "    \n",
    "    def pop(self):\n",
    "        if len(self.que_list) == 0:\n",
    "            return -1\n",
    "        return self.que_list.popleft()\n",
    "    \n",
    "    def size(self):\n",
    "        return len(self.que_list)\n",
    "    \n",
    "    def empty(self):\n",
    "        if len(self.que_list) == 0:\n",
    "            return 1\n",
    "        return 0\n",
    "    \n",
    "    def front(self):\n",
    "        if len(self.que_list) == 0:\n",
    "            return -1\n",
    "        return self.que_list[0]\n",
    "    \n",
    "    def back(self):\n",
    "        if len(self.que_list) == 0:\n",
    "            return -1\n",
    "        return self.que_list[-1]\n",
    "\n",
    "N = int(input()) # int(sys.stdin.readline())\n",
    "que = queue2()\n",
    "for _ in range(N):\n",
    "    sig = list(input().split()) # sys.stdin.readline().split()\n",
    "    if sig[0] == 'push':\n",
    "        que.push(int(sig[1]))\n",
    "    if sig[0] == 'pop':\n",
    "        print(que.pop())\n",
    "    if sig[0] == 'size':\n",
    "        print(que.size())\n",
    "    if sig[0] == 'empty':\n",
    "        print(que.empty())\n",
    "    if sig[0] == 'front':\n",
    "        print(que.front())\n",
    "    if sig[0] == 'back':\n",
    "        print(que.back())"
   ]
  },
  {
   "cell_type": "code",
   "execution_count": 298,
   "metadata": {},
   "outputs": [
    {
     "name": "stdout",
     "output_type": "stream",
     "text": [
      "4\n"
     ]
    }
   ],
   "source": [
    "# 2164 카드2\n",
    "from collections import deque\n",
    "'''\n",
    "[1,2,3,4]\n",
    "[2,3,4]\n",
    "[3,4,2]\n",
    "'''\n",
    "N = int(input())\n",
    "q = deque(range(1,N+1))\n",
    "while len(q) > 1:\n",
    "    q.popleft()\n",
    "    back = q.popleft()\n",
    "    q.append(back)\n",
    "print(q[0])"
   ]
  },
  {
   "cell_type": "code",
   "execution_count": 363,
   "metadata": {},
   "outputs": [
    {
     "name": "stdout",
     "output_type": "stream",
     "text": [
      "<3, 6, 2, 7, 5, 1, 4>"
     ]
    }
   ],
   "source": [
    "#11866 요세푸스 문제 0 런타임에러\n",
    "N,C = list(map(int,input().split())) # 7개의 숫자 C번째 pop\n",
    "d = list(range(1,1+N))\n",
    "d_copy = list(range(1,1+N))\n",
    "answer = []\n",
    "remainder = 0\n",
    "cnt = 0\n",
    "while d != []:\n",
    "    \n",
    "    if (len(d)//C) > 0:\n",
    "        for num in range(1,((len(d)+1)//C)+1):\n",
    "            del_count = num*C\n",
    "            answer.append(d.pop(del_count - remainder - num))\n",
    "            \n",
    "    elif len(d) == 1:\n",
    "        answer.append(d.pop())\n",
    "    else:\n",
    "        answer.append(d.pop(C - len(d) - remainder - 1))\n",
    "    remainder = len(d_copy)%C\n",
    "    d_copy = d\n",
    "\n",
    "print(\"<\",end='')\n",
    "print(*answer,sep=', ',end='')\n",
    "print(\">\",end='')\n",
    "    "
   ]
  },
  {
   "cell_type": "code",
   "execution_count": 365,
   "metadata": {},
   "outputs": [
    {
     "name": "stdout",
     "output_type": "stream",
     "text": [
      "<3, 6, 2, 7, 5, 1, 4>"
     ]
    }
   ],
   "source": [
    "#11866 구글링 후 다시풀기\n",
    "from collections import deque\n",
    "N,C = map(int,input().split())\n",
    "d = deque(range(1,N+1))\n",
    "answer = []\n",
    "while d: # deque([]) 와 []는 !=\n",
    "    for cnt in range(C-1): # C번째 값이지만 계산상으론 C-1의 거리\n",
    "        d.append(d.popleft())\n",
    "    answer.append(d.popleft())\n",
    "\n",
    "print('<',end='')\n",
    "print(*answer,sep=', ',end='')\n",
    "print('>',end='')"
   ]
  },
  {
   "cell_type": "code",
   "execution_count": 467,
   "metadata": {},
   "outputs": [
    {
     "name": "stdout",
     "output_type": "stream",
     "text": [
      "1\n",
      "2\n",
      "5\n"
     ]
    }
   ],
   "source": [
    "#1966 프린터큐\n",
    "from collections import deque\n",
    "from operator import itemgetter\n",
    "N = int(input()) #test case cnt\n",
    "for _ in range(N):\n",
    "    document,answer = deque(),deque()\n",
    "    docu_cnt, docu_order = map(int,input().split())\n",
    "    docu = deque(list(map(int,input().split())))\n",
    "    for i in enumerate(docu):\n",
    "        document.append(i)\n",
    "    docu_order = document[docu_order]\n",
    "    while document:\n",
    "        c = document.index(max(document,key=itemgetter(1)))\n",
    "        for _ in range(c):\n",
    "            document.append(document.popleft())\n",
    "        answer.append(document.popleft())\n",
    "        \n",
    "    for a in answer:\n",
    "        if a == docu_order:\n",
    "            print(answer.index(a)+1)"
   ]
  },
  {
   "cell_type": "code",
   "execution_count": 473,
   "metadata": {},
   "outputs": [
    {
     "name": "stdout",
     "output_type": "stream",
     "text": [
      "2\n",
      "1\n",
      "2\n",
      "0\n",
      "2\n",
      "1\n",
      "-1\n",
      "0\n",
      "1\n",
      "-1\n",
      "0\n",
      "3\n"
     ]
    }
   ],
   "source": [
    "#10866 덱 /// input 시간초과\n",
    "from collections import deque\n",
    "# import sys\n",
    "class deque_10():\n",
    "    def __init__(self):\n",
    "        self.d_list = deque()\n",
    "    \n",
    "    def push_front(self,X):\n",
    "        return self.d_list.appendleft(X)\n",
    "    \n",
    "    def push_back(self,X):\n",
    "        return self.d_list.append(X)\n",
    "    \n",
    "    def pop_front(self):\n",
    "        if len(self.d_list) == 0: return -1\n",
    "        return self.d_list.popleft()\n",
    "    \n",
    "    def pop_back(self):\n",
    "        if len(self.d_list) == 0: return -1\n",
    "        return self.d_list.pop()\n",
    "    \n",
    "    def size(self):\n",
    "        return len(self.d_list)\n",
    "    \n",
    "    def empty(self):\n",
    "        if self.d_list: return 0\n",
    "        return 1\n",
    "        \n",
    "    def front(self):\n",
    "        if len(self.d_list) == 0: return -1\n",
    "        return self.d_list[0]\n",
    "    \n",
    "    def back(self):\n",
    "        if len(self.d_list) == 0: return -1\n",
    "        return self.d_list[-1]\n",
    "    \n",
    "prac_deque = deque_10()\n",
    "N = int(input()) #sys.stdin.readline()\n",
    "\n",
    "for _ in range(N):\n",
    "    order = list(map(str,input().split())) #list(map(str,sys.stdin.readline().split()))\n",
    "    if order[0] == 'push_front': (prac_deque.push_front(int(order[1])))\n",
    "    if order[0] == 'push_back': (prac_deque.push_back(int(order[1])))\n",
    "    if order[0] == 'pop_front': print(prac_deque.pop_front())\n",
    "    if order[0] == 'pop_back': print(prac_deque.pop_back())\n",
    "    if order[0] == 'size': print(prac_deque.size())\n",
    "    if order[0] == 'empty': print(prac_deque.empty())\n",
    "    if order[0] == 'front': print(prac_deque.front())\n",
    "    if order[0] == 'back': print(prac_deque.back())"
   ]
  },
  {
   "cell_type": "code",
   "execution_count": null,
   "metadata": {},
   "outputs": [],
   "source": []
  }
 ],
 "metadata": {
  "kernelspec": {
   "display_name": "base",
   "language": "python",
   "name": "python3"
  },
  "language_info": {
   "codemirror_mode": {
    "name": "ipython",
    "version": 3
   },
   "file_extension": ".py",
   "mimetype": "text/x-python",
   "name": "python",
   "nbconvert_exporter": "python",
   "pygments_lexer": "ipython3",
   "version": "3.9.7"
  },
  "orig_nbformat": 4
 },
 "nbformat": 4,
 "nbformat_minor": 2
}
