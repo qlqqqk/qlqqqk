{
 "cells": [
  {
   "cell_type": "code",
   "execution_count": 1,
   "metadata": {},
   "outputs": [
    {
     "name": "stdout",
     "output_type": "stream",
     "text": [
      "\\    /\\\n",
      " )  ( ')\n",
      "(  /  )\n",
      " \\(__)|\n"
     ]
    }
   ],
   "source": [
    "#10171 기호작성법 실수하지 않기 (\\\\)\n",
    "print(\"\\    /\\\\\")\n",
    "print(\" )  ( ')\")\n",
    "print(\"(  /  )\")\n",
    "print(\" \\(__)|\")"
   ]
  },
  {
   "cell_type": "code",
   "execution_count": 2,
   "metadata": {},
   "outputs": [
    {
     "name": "stdout",
     "output_type": "stream",
     "text": [
      "|\\_/|\n",
      "|q p|   /}\n",
      "( 0 )\"\"\"\\\n",
      "|\"^\"`    |\n",
      "||_/=\\\\__|\n"
     ]
    }
   ],
   "source": [
    "#10172 (')\n",
    "\n",
    "print(\"|\\_/|\")\n",
    "print(\"|q p|   /}\")\n",
    "print('( 0 )\"\"\"\\\\')\n",
    "print('|\"^\"`    |')\n",
    "print('||_/=\\\\\\__|')"
   ]
  },
  {
   "cell_type": "code",
   "execution_count": null,
   "metadata": {},
   "outputs": [
    {
     "name": "stdout",
     "output_type": "stream",
     "text": [
      "3\n"
     ]
    }
   ],
   "source": [
    "\n",
    "#1000 input().split() 숙지, int를 어디에 쓰느냐에 따라 답이 달라지니 주의!, input = str\n",
    "\n",
    "A, B = input().split()\n",
    "if 0 < int(A) < 10:\n",
    "    if 0 < int(B) < 10:\n",
    "        print(int(A)+int(B))\n",
    "else:\n",
    "    print(\"0보다 크고 10보다 작은 수를 입력해주세요.\")"
   ]
  },
  {
   "cell_type": "code",
   "execution_count": null,
   "metadata": {},
   "outputs": [
    {
     "name": "stdout",
     "output_type": "stream",
     "text": [
      "-1\n"
     ]
    }
   ],
   "source": [
    "#1001 \n",
    "A,B = map(int, input().split())\n",
    "if 0 < A < 10:\n",
    "    if 0 < A < 10:\n",
    "        print(A-B)\n",
    "else:\n",
    "    print(\"0보다 크고 10보다 작은 수를 입력해주세요.\")\n"
   ]
  },
  {
   "cell_type": "code",
   "execution_count": null,
   "metadata": {},
   "outputs": [
    {
     "name": "stdout",
     "output_type": "stream",
     "text": [
      "12\n"
     ]
    }
   ],
   "source": [
    "#10998\n",
    "a, b = map(int, input().split())\n",
    "\n",
    "print(a*b)"
   ]
  },
  {
   "cell_type": "code",
   "execution_count": null,
   "metadata": {},
   "outputs": [
    {
     "name": "stdout",
     "output_type": "stream",
     "text": [
      "1.5\n"
     ]
    }
   ],
   "source": [
    "#1008\n",
    "a, b = map(int, input().split())\n",
    "\n",
    "print(a/b)"
   ]
  },
  {
   "cell_type": "code",
   "execution_count": null,
   "metadata": {},
   "outputs": [
    {
     "name": "stdout",
     "output_type": "stream",
     "text": [
      "15\n",
      "5\n",
      "50\n",
      "2.0\n",
      "2\n"
     ]
    }
   ],
   "source": [
    "#10869 몫 나머지 구하는법 기억하기!\n",
    "a,b = map(int,input().split())\n",
    "\n",
    "print(a+b)\n",
    "print(a-b)\n",
    "print(a*b)\n",
    "print(a//b)\n",
    "print(a%b)"
   ]
  },
  {
   "cell_type": "code",
   "execution_count": null,
   "metadata": {},
   "outputs": [
    {
     "name": "stdout",
     "output_type": "stream",
     "text": [
      "joonas??!\n"
     ]
    }
   ],
   "source": [
    "#10926 isupper, islower 기억하기!\n",
    "id = input()\n",
    "if len(id) > 50: print(\"50자를 넘기지마세요.\")\n",
    "elif id.islower(): \n",
    "    print(id+\"??!\")\n",
    "\n",
    "\n",
    "#다른 답\n",
    "# import sys\n",
    "# id = sys.stdin.readline().strip()\n",
    "# print(id+'??!')"
   ]
  },
  {
   "cell_type": "code",
   "execution_count": null,
   "metadata": {},
   "outputs": [
    {
     "name": "stdout",
     "output_type": "stream",
     "text": [
      "1998\n"
     ]
    }
   ],
   "source": [
    "#18108\n",
    "Byear_input = int(input()) \n",
    "if Byear_input < 1000 | 3000 < Byear_input: print(\"다시 입력해주세요.\")\n",
    "Syear = Byear_input - 543\n",
    "print(Syear)"
   ]
  },
  {
   "cell_type": "code",
   "execution_count": null,
   "metadata": {},
   "outputs": [
    {
     "name": "stdout",
     "output_type": "stream",
     "text": [
      "0\n",
      "0\n",
      "2\n",
      "2\n"
     ]
    }
   ],
   "source": [
    "#10430\n",
    "A,B,C = map(int, input().split())\n",
    "print((A+B)%C)\n",
    "print(((A%C) + (B%C))%C)\n",
    "print((A*B)%C)\n",
    "print(((A%C)*(B%C))%C)"
   ]
  },
  {
   "cell_type": "code",
   "execution_count": null,
   "metadata": {},
   "outputs": [
    {
     "name": "stdout",
     "output_type": "stream",
     "text": [
      "2360\n",
      "3776\n",
      "1416\n",
      "181720\n"
     ]
    }
   ],
   "source": [
    "#2588 숫자를 스플릿 하는 방법 for문 사용하기 숙지!\n",
    "a = int(input())\n",
    "b = int(input())\n",
    "if a > 1000 or 99 > a:\n",
    "    print(\"세자리 자연수를 입력해주세요.\")\n",
    "elif b > 1000 or 99 > b: \n",
    "    print(\"세자리 자연수를 입력해주세요.\")\n",
    "b = [int(x) for x in str(b)]\n",
    "first = a*b[-1]\n",
    "second = a*b[-2]\n",
    "third = a*b[-3] \n",
    "fin = first + second*10 + third*100\n",
    "print(first)\n",
    "print(second)\n",
    "print(third)\n",
    "print(fin)"
   ]
  },
  {
   "cell_type": "code",
   "execution_count": null,
   "metadata": {},
   "outputs": [
    {
     "name": "stdout",
     "output_type": "stream",
     "text": [
      "<\n"
     ]
    }
   ],
   "source": [
    "#1330\n",
    "A,B = map(int,input().split())\n",
    "\n",
    "if A > B : print('>')\n",
    "if A < B : print('<')\n",
    "if A == B : print('==')"
   ]
  },
  {
   "cell_type": "code",
   "execution_count": null,
   "metadata": {},
   "outputs": [
    {
     "name": "stdout",
     "output_type": "stream",
     "text": [
      "0~100을 입력해주세요.\n"
     ]
    }
   ],
   "source": [
    "#9498\n",
    "score = int(input())\n",
    "if score < 0 or score >100: print(\"0~100을 입력해주세요.\")\n",
    "if 90<= score <= 100: print(\"A\")\n",
    "if 80<= score < 90: print(\"B\")\n",
    "if 70<= score < 80: print(\"C\")\n",
    "if 60<= score < 70: print(\"D\")\n",
    "if 0 <= score <60: print(\"F\")"
   ]
  },
  {
   "cell_type": "code",
   "execution_count": null,
   "metadata": {},
   "outputs": [
    {
     "name": "stdout",
     "output_type": "stream",
     "text": [
      "1 이상 4000이상의 자연수만 입력해주세요.\n"
     ]
    }
   ],
   "source": [
    "#2753\n",
    "year = int(input())\n",
    "if 1 <= year <= 4000:\n",
    "    if year % 4 == 0 and year % 100 != 0: print(1) \n",
    "    elif year % 100 == 0 and year % 400 == 0: print(1)\n",
    "    else: print(0)\n",
    "else: print(\"1 이상 4000이상의 자연수만 입력해주세요.\")"
   ]
  },
  {
   "cell_type": "code",
   "execution_count": null,
   "metadata": {},
   "outputs": [
    {
     "data": {
      "text/plain": [
       "2"
      ]
     },
     "execution_count": 3,
     "metadata": {},
     "output_type": "execute_result"
    }
   ],
   "source": [
    "#14681\n",
    "x = int(input())\n",
    "y = int(input())\n",
    "\n",
    "if x > 0:\n",
    "    if y > 0:\n",
    "        print(1) \n",
    "    elif y < 0:\n",
    "        print(4)\n",
    "elif x < 0:\n",
    "    if y > 0:\n",
    "        print(2) \n",
    "    elif y < 0:\n",
    "        print(3)         "
   ]
  },
  {
   "cell_type": "code",
   "execution_count": null,
   "metadata": {},
   "outputs": [
    {
     "name": "stdout",
     "output_type": "stream",
     "text": [
      "23 39\n"
     ]
    }
   ],
   "source": [
    "#2884\n",
    "H,M = map(int,input().split())\n",
    "\n",
    "\n",
    "if M < 45 : \n",
    "    if H == 0:\n",
    "        H = (H+24)\n",
    "    \n",
    "    H = H-1\n",
    "    M = (M+60) - 45\n",
    "\n",
    "else:\n",
    "    M = M - 45\n",
    "\n",
    "print(H,M) "
   ]
  },
  {
   "cell_type": "code",
   "execution_count": null,
   "metadata": {},
   "outputs": [
    {
     "name": "stdout",
     "output_type": "stream",
     "text": [
      "0 13\n"
     ]
    }
   ],
   "source": [
    "#2525 minute 먼저 처리해서 time +1 에 대한 경우의 수 만들어줘야함.\n",
    "A, B = map(int,input().split())#현재시각 출력 HH MM\n",
    "C = int(input())#요리하는데 필요한 시간 MM\n",
    "time = C // 60\n",
    "minute = C % 60\n",
    "\n",
    "if minute + B >= 60:\n",
    "    B = B-60+minute\n",
    "    A = A+1\n",
    "else: B = B+minute\n",
    "    \n",
    "if A + time >= 24:\n",
    "    A = A - 24+ time\n",
    "else: A = A + time\n",
    "\n",
    "print(A,B)        "
   ]
  },
  {
   "cell_type": "code",
   "execution_count": null,
   "metadata": {},
   "outputs": [
    {
     "name": "stdout",
     "output_type": "stream",
     "text": [
      "600\n"
     ]
    }
   ],
   "source": [
    "#2480\n",
    "a,b,c = map(int,input().split())\n",
    "prize = 0\n",
    "if a==b==c:#같은눈 3개\n",
    "    prize = 10000+(a*1000)\n",
    "elif a==b: #같은눈 2개 이걸 다르게 표현하는 방법?\n",
    "    prize = 1000 +(a*100)\n",
    "elif b==c:\n",
    "    prize = 1000 +(b*100)\n",
    "elif a==c:\n",
    "    prize = 1000 +(a*100)\n",
    "else: # 나머지\n",
    "    list = [a,b,c]\n",
    "    list = sorted(list)\n",
    "    prize = list[-1]*100\n",
    "print(prize)"
   ]
  },
  {
   "cell_type": "code",
   "execution_count": null,
   "metadata": {},
   "outputs": [
    {
     "name": "stdout",
     "output_type": "stream",
     "text": [
      "3 * 1 = 3\n",
      "3 * 2 = 6\n",
      "3 * 3 = 9\n",
      "3 * 4 = 12\n",
      "3 * 5 = 15\n",
      "3 * 6 = 18\n",
      "3 * 7 = 21\n",
      "3 * 8 = 24\n",
      "3 * 9 = 27\n"
     ]
    }
   ],
   "source": [
    "#2739 f 스트링 사용법 기억하기\n",
    "N = int(input())\n",
    "for i in range(1,10):\n",
    "    print(f'{N} * {i} =', N*i)"
   ]
  },
  {
   "cell_type": "code",
   "execution_count": null,
   "metadata": {},
   "outputs": [
    {
     "name": "stdout",
     "output_type": "stream",
     "text": [
      "2\n",
      "5\n",
      "7\n",
      "17\n",
      "7\n"
     ]
    }
   ],
   "source": [
    "#10950 \n",
    "T = int(input())\n",
    "for i in range(T):\n",
    "    A,B = map(int,input().split())\n",
    "    print(A+B)"
   ]
  },
  {
   "cell_type": "code",
   "execution_count": null,
   "metadata": {},
   "outputs": [
    {
     "name": "stdout",
     "output_type": "stream",
     "text": [
      "6\n"
     ]
    }
   ],
   "source": [
    "#8393\n",
    "n = int(input())\n",
    "\n",
    "count = []\n",
    "for i in range(1,n+1):\n",
    "    count.append(i)\n",
    "fin = sum(count)\n",
    "print(fin)"
   ]
  },
  {
   "cell_type": "code",
   "execution_count": null,
   "metadata": {},
   "outputs": [],
   "source": [
    "#15552 input 과 sys.stdin.readine 왜... vscode 설정하는 법....\n",
    "import sys\n",
    "n = int(input())\n",
    "\n",
    "for i in range(n):\n",
    "    A,B = map(int,sys.stdin.readline().split())\n",
    "    print(A+B)"
   ]
  },
  {
   "cell_type": "code",
   "execution_count": null,
   "metadata": {},
   "outputs": [],
   "source": [
    "#2741\n",
    "import sys\n",
    "n = int(sys.stdin.readline().rstrip())\n",
    "for i in range(1,n+1):\n",
    "    print(i)"
   ]
  },
  {
   "cell_type": "code",
   "execution_count": null,
   "metadata": {},
   "outputs": [
    {
     "name": "stdout",
     "output_type": "stream",
     "text": [
      "5\n",
      "4\n",
      "3\n",
      "2\n",
      "1\n"
     ]
    }
   ],
   "source": [
    "#2742 range 역순 기억하기\n",
    "n = int(input())\n",
    "\n",
    "for i in range(n,0,-1):\n",
    "    print(i)"
   ]
  },
  {
   "cell_type": "code",
   "execution_count": null,
   "metadata": {},
   "outputs": [
    {
     "name": "stdout",
     "output_type": "stream",
     "text": [
      "Case #1: 3\n"
     ]
    }
   ],
   "source": [
    "#11021 \n",
    "T = int(input())\n",
    "\n",
    "for i in range(1,T+1):\n",
    "    a,b = map(int,input().split())\n",
    "    print(f\"Case #{i}:\",a+b)"
   ]
  },
  {
   "cell_type": "code",
   "execution_count": null,
   "metadata": {},
   "outputs": [
    {
     "name": "stdout",
     "output_type": "stream",
     "text": [
      "Case #1: 1 + 2 = 3\n"
     ]
    }
   ],
   "source": [
    "#11022\n",
    "T = int(input())\n",
    "\n",
    "for i in range(1,T+1):\n",
    "    a,b = map(int,input().split())\n",
    "    print(f\"Case #{i}: {a} + {b} = {a+b}\")"
   ]
  },
  {
   "cell_type": "code",
   "execution_count": null,
   "metadata": {},
   "outputs": [
    {
     "name": "stdout",
     "output_type": "stream",
     "text": [
      "*\n",
      "**\n",
      "***\n",
      "****\n",
      "*****\n"
     ]
    }
   ],
   "source": [
    "#2438\n",
    "star = int(input())\n",
    "\n",
    "for i in range(1,star+1):\n",
    "    print(\"*\"*i)"
   ]
  },
  {
   "cell_type": "code",
   "execution_count": null,
   "metadata": {},
   "outputs": [
    {
     "name": "stdout",
     "output_type": "stream",
     "text": [
      "  *\n",
      " **\n",
      "***\n"
     ]
    }
   ],
   "source": [
    "#2439\n",
    "star = int(input())\n",
    "\n",
    "for i in range(1,star+1):\n",
    "    print((\" \"*(star-i))+\"*\"*i)\n"
   ]
  },
  {
   "cell_type": "code",
   "execution_count": null,
   "metadata": {},
   "outputs": [
    {
     "name": "stdout",
     "output_type": "stream",
     "text": [
      "1 3 "
     ]
    }
   ],
   "source": [
    "#10871\n",
    "n,x = map(int,input().split()) #n = 수열의 정수 개수  x = 기준 정수\n",
    "a = list(map(int,input().split()))\n",
    "seq = []\n",
    "for i in a:\n",
    "    if i < x:\n",
    "        print(i,end=' ')\n",
    "        #seq.append(i)\n",
    "\n",
    "# print(seq)"
   ]
  },
  {
   "cell_type": "code",
   "execution_count": null,
   "metadata": {},
   "outputs": [
    {
     "name": "stdout",
     "output_type": "stream",
     "text": [
      "2\n",
      "5\n",
      "1\n"
     ]
    }
   ],
   "source": [
    "#10952\n",
    "\n",
    "while True:\n",
    "    a,b = map(int,input().split())\n",
    "    if a==0 and b==0: break\n",
    "    print(a+b)\n"
   ]
  },
  {
   "cell_type": "code",
   "execution_count": null,
   "metadata": {},
   "outputs": [],
   "source": [
    "#10951\n",
    "while True:\n",
    "    try:\n",
    "        a,b = map(int,input().split())\n",
    "        print(a+b)\n",
    "    except: break"
   ]
  },
  {
   "cell_type": "code",
   "execution_count": null,
   "metadata": {},
   "outputs": [
    {
     "name": "stdout",
     "output_type": "stream",
     "text": [
      "4\n"
     ]
    }
   ],
   "source": [
    "#1110 제대로 못풀음\n",
    "'''ex. 08 = 8 8+8 = 16 8+6 = 14 6+4 = 10 0+4 = 4, 8''' \n",
    "cnt = 0\n",
    "n = int(input())\n",
    "num = n  \n",
    "while True:\n",
    "    sum_n =  num//10 + num%10\n",
    "    new_n = ((num%10)*10) + (sum_n % 10)\n",
    "    cnt += 1\n",
    "    if n == new_n: break\n",
    "        \n",
    "    num = new_n \n",
    "print(cnt)"
   ]
  },
  {
   "cell_type": "code",
   "execution_count": null,
   "metadata": {},
   "outputs": [
    {
     "name": "stdout",
     "output_type": "stream",
     "text": [
      "22 482\n"
     ]
    }
   ],
   "source": [
    "#10818 내장함수 428ms / 리스트 868ms\n",
    "n = int(input())\n",
    "num = list(map(int,input().split()))\n",
    "#print(min(num),max(num))\n",
    "\n",
    "fast = sorted(num)\n",
    "print(fast[0],fast[-1])"
   ]
  },
  {
   "cell_type": "code",
   "execution_count": null,
   "metadata": {},
   "outputs": [
    {
     "name": "stdout",
     "output_type": "stream",
     "text": [
      "85\n",
      "7\n"
     ]
    }
   ],
   "source": [
    "#2562\n",
    "num = [] \n",
    "for i in range(9):\n",
    "    n = int(input())\n",
    "    num.append(n)\n",
    "print(max(num))\n",
    "print(num.index(max(num))+1)"
   ]
  },
  {
   "cell_type": "code",
   "execution_count": null,
   "metadata": {},
   "outputs": [
    {
     "name": "stdout",
     "output_type": "stream",
     "text": [
      "3\n",
      "1\n",
      "0\n",
      "2\n",
      "0\n",
      "0\n",
      "0\n",
      "2\n",
      "0\n",
      "0\n"
     ]
    }
   ],
   "source": [
    "#2577 count 메서드 기억\n",
    "\n",
    "a = int(input())\n",
    "b = int(input())\n",
    "c = int(input())\n",
    "cnt = list(range(10))\n",
    "num = list(map(int,str(a*b*c)))\n",
    "for i in range(10):\n",
    "    print(num.count(i))"
   ]
  },
  {
   "cell_type": "code",
   "execution_count": null,
   "metadata": {},
   "outputs": [
    {
     "name": "stdout",
     "output_type": "stream",
     "text": [
      "10\n"
     ]
    }
   ],
   "source": [
    "#3052 리스트내 원소 중복처리하는 방법 다시 보기!\n",
    "numbers = []\n",
    "dup = []\n",
    "cnt = 10\n",
    "for i in range(10):\n",
    "    num = int(input())\n",
    "    numbers.append(num%42)\n",
    "    for i in numbers:\n",
    "        if i not in dup:\n",
    "            dup.append(i)\n",
    "print(len(dup))"
   ]
  },
  {
   "cell_type": "code",
   "execution_count": null,
   "metadata": {},
   "outputs": [
    {
     "name": "stdout",
     "output_type": "stream",
     "text": [
      "75.0\n"
     ]
    }
   ],
   "source": [
    "#1546\n",
    "#자기점수중 최대값 점수/M * 100 == 새로운점수\n",
    "N = int(input())\n",
    "grade = list(map(int,input().split()))\n",
    "new_grade = []\n",
    "for i in grade:\n",
    "    new = (i/max(grade)) *100\n",
    "    new_grade.append(new)\n",
    "    \n",
    "print(sum(new_grade)/len(new_grade))"
   ]
  },
  {
   "cell_type": "code",
   "execution_count": null,
   "metadata": {},
   "outputs": [
    {
     "name": "stdout",
     "output_type": "stream",
     "text": [
      "10\n",
      "9\n",
      "7\n",
      "55\n",
      "30\n"
     ]
    }
   ],
   "source": [
    "#8958\n",
    "n = int(input())\n",
    "for i in range(n):\n",
    "    cnt = 0\n",
    "    cnt_sum = 0\n",
    "    quiz = list(map(str,input()))\n",
    "    for j in quiz:\n",
    "        if j == \"O\":\n",
    "            cnt += 1\n",
    "            cnt_sum += cnt\n",
    "        elif j == \"X\":\n",
    "            cnt = 0\n",
    "    print(cnt_sum)\n",
    "    \n"
   ]
  },
  {
   "cell_type": "code",
   "execution_count": null,
   "metadata": {},
   "outputs": [
    {
     "ename": "ValueError",
     "evalue": "invalid literal for int() with base 10: ''",
     "output_type": "error",
     "traceback": [
      "\u001b[1;31m---------------------------------------------------------------------------\u001b[0m",
      "\u001b[1;31mValueError\u001b[0m                                Traceback (most recent call last)",
      "\u001b[1;32m<ipython-input-73-59359169ff28>\u001b[0m in \u001b[0;36m<module>\u001b[1;34m\u001b[0m\n\u001b[0;32m      1\u001b[0m \u001b[1;31m#4344\u001b[0m\u001b[1;33m\u001b[0m\u001b[1;33m\u001b[0m\u001b[1;33m\u001b[0m\u001b[0m\n\u001b[1;32m----> 2\u001b[1;33m \u001b[0mT\u001b[0m \u001b[1;33m=\u001b[0m \u001b[0mint\u001b[0m\u001b[1;33m(\u001b[0m\u001b[0minput\u001b[0m\u001b[1;33m(\u001b[0m\u001b[1;33m)\u001b[0m\u001b[1;33m)\u001b[0m\u001b[1;33m\u001b[0m\u001b[1;33m\u001b[0m\u001b[0m\n\u001b[0m\u001b[0;32m      3\u001b[0m \u001b[1;32mfor\u001b[0m \u001b[0mi\u001b[0m \u001b[1;32min\u001b[0m \u001b[0mrange\u001b[0m\u001b[1;33m(\u001b[0m\u001b[0mT\u001b[0m\u001b[1;33m)\u001b[0m\u001b[1;33m:\u001b[0m\u001b[1;33m\u001b[0m\u001b[1;33m\u001b[0m\u001b[0m\n\u001b[0;32m      4\u001b[0m     \u001b[0mcnt\u001b[0m \u001b[1;33m=\u001b[0m \u001b[1;36m0\u001b[0m\u001b[1;33m\u001b[0m\u001b[1;33m\u001b[0m\u001b[0m\n\u001b[0;32m      5\u001b[0m     \u001b[0mscore\u001b[0m \u001b[1;33m=\u001b[0m \u001b[1;33m[\u001b[0m\u001b[1;33m]\u001b[0m\u001b[1;33m\u001b[0m\u001b[1;33m\u001b[0m\u001b[0m\n",
      "\u001b[1;31mValueError\u001b[0m: invalid literal for int() with base 10: ''"
     ]
    }
   ],
   "source": [
    "#4344\n",
    "T = int(input())\n",
    "for i in range(T):\n",
    "    cnt = 0\n",
    "    score = []\n",
    "    score = list(map(int,input().split()))\n",
    "    student = score[0]\n",
    "    score = score[1:]\n",
    "    mean_class = sum(score)/student\n",
    "    for a in score:\n",
    "        if mean_class < a:\n",
    "            cnt += 1\n",
    "    print(f\"{(cnt/student)*100:.3f}%\")"
   ]
  },
  {
   "cell_type": "code",
   "execution_count": null,
   "metadata": {},
   "outputs": [
    {
     "data": {
      "text/plain": [
       "21"
      ]
     },
     "execution_count": 16,
     "metadata": {},
     "output_type": "execute_result"
    }
   ],
   "source": [
    "#15596\n",
    "def solve(a:list):\n",
    "    return sum(a)\n",
    "solve([1,2,3,4,5,6])"
   ]
  },
  {
   "cell_type": "code",
   "execution_count": null,
   "metadata": {},
   "outputs": [
    {
     "name": "stdout",
     "output_type": "stream",
     "text": [
      "1\n",
      "3\n",
      "5\n",
      "7\n",
      "9\n",
      "20\n",
      "31\n",
      "42\n",
      "53\n",
      "64\n",
      "75\n",
      "86\n",
      "97\n",
      "108\n",
      "110\n",
      "121\n",
      "132\n",
      "143\n",
      "154\n",
      "165\n",
      "176\n",
      "187\n",
      "198\n",
      "209\n",
      "211\n",
      "222\n",
      "233\n",
      "244\n",
      "255\n",
      "266\n",
      "277\n",
      "288\n",
      "299\n",
      "310\n",
      "312\n",
      "323\n",
      "334\n",
      "345\n",
      "356\n",
      "367\n",
      "378\n",
      "389\n",
      "400\n",
      "411\n",
      "413\n",
      "424\n",
      "435\n",
      "446\n",
      "457\n",
      "468\n",
      "479\n",
      "490\n",
      "501\n",
      "512\n",
      "514\n",
      "525\n",
      "536\n",
      "547\n",
      "558\n",
      "569\n",
      "580\n",
      "591\n",
      "602\n",
      "613\n",
      "615\n",
      "626\n",
      "637\n",
      "648\n",
      "659\n",
      "670\n",
      "681\n",
      "692\n",
      "703\n",
      "714\n",
      "716\n",
      "727\n",
      "738\n",
      "749\n",
      "760\n",
      "771\n",
      "782\n",
      "793\n",
      "804\n",
      "815\n",
      "817\n",
      "828\n",
      "839\n",
      "850\n",
      "861\n",
      "872\n",
      "883\n",
      "894\n",
      "905\n",
      "916\n",
      "918\n",
      "929\n",
      "940\n",
      "951\n",
      "962\n",
      "973\n",
      "984\n",
      "995\n",
      "1006\n",
      "1021\n",
      "1032\n",
      "1043\n",
      "1054\n",
      "1065\n",
      "1076\n",
      "1087\n",
      "1098\n",
      "1109\n",
      "1111\n",
      "1122\n",
      "1133\n",
      "1144\n",
      "1155\n",
      "1166\n",
      "1177\n",
      "1188\n",
      "1199\n",
      "1210\n",
      "1212\n",
      "1223\n",
      "1234\n",
      "1245\n",
      "1256\n",
      "1267\n",
      "1278\n",
      "1289\n",
      "1300\n",
      "1311\n",
      "1313\n",
      "1324\n",
      "1335\n",
      "1346\n",
      "1357\n",
      "1368\n",
      "1379\n",
      "1390\n",
      "1401\n",
      "1412\n",
      "1414\n",
      "1425\n",
      "1436\n",
      "1447\n",
      "1458\n",
      "1469\n",
      "1480\n",
      "1491\n",
      "1502\n",
      "1513\n",
      "1515\n",
      "1526\n",
      "1537\n",
      "1548\n",
      "1559\n",
      "1570\n",
      "1581\n",
      "1592\n",
      "1603\n",
      "1614\n",
      "1616\n",
      "1627\n",
      "1638\n",
      "1649\n",
      "1660\n",
      "1671\n",
      "1682\n",
      "1693\n",
      "1704\n",
      "1715\n",
      "1717\n",
      "1728\n",
      "1739\n",
      "1750\n",
      "1761\n",
      "1772\n",
      "1783\n",
      "1794\n",
      "1805\n",
      "1816\n",
      "1818\n",
      "1829\n",
      "1840\n",
      "1851\n",
      "1862\n",
      "1873\n",
      "1884\n",
      "1895\n",
      "1906\n",
      "1917\n",
      "1919\n",
      "1930\n",
      "1941\n",
      "1952\n",
      "1963\n",
      "1974\n",
      "1985\n",
      "1996\n",
      "2007\n",
      "2022\n",
      "2033\n",
      "2044\n",
      "2055\n",
      "2066\n",
      "2077\n",
      "2088\n",
      "2099\n",
      "2110\n",
      "2112\n",
      "2123\n",
      "2134\n",
      "2145\n",
      "2156\n",
      "2167\n",
      "2178\n",
      "2189\n",
      "2200\n",
      "2211\n",
      "2213\n",
      "2224\n",
      "2235\n",
      "2246\n",
      "2257\n",
      "2268\n",
      "2279\n",
      "2290\n",
      "2301\n",
      "2312\n",
      "2314\n",
      "2325\n",
      "2336\n",
      "2347\n",
      "2358\n",
      "2369\n",
      "2380\n",
      "2391\n",
      "2402\n",
      "2413\n",
      "2415\n",
      "2426\n",
      "2437\n",
      "2448\n",
      "2459\n",
      "2470\n",
      "2481\n",
      "2492\n",
      "2503\n",
      "2514\n",
      "2516\n",
      "2527\n",
      "2538\n",
      "2549\n",
      "2560\n",
      "2571\n",
      "2582\n",
      "2593\n",
      "2604\n",
      "2615\n",
      "2617\n",
      "2628\n",
      "2639\n",
      "2650\n",
      "2661\n",
      "2672\n",
      "2683\n",
      "2694\n",
      "2705\n",
      "2716\n",
      "2718\n",
      "2729\n",
      "2740\n",
      "2751\n",
      "2762\n",
      "2773\n",
      "2784\n",
      "2795\n",
      "2806\n",
      "2817\n",
      "2819\n",
      "2830\n",
      "2841\n",
      "2852\n",
      "2863\n",
      "2874\n",
      "2885\n",
      "2896\n",
      "2907\n",
      "2918\n",
      "2920\n",
      "2931\n",
      "2942\n",
      "2953\n",
      "2964\n",
      "2975\n",
      "2986\n",
      "2997\n",
      "3008\n",
      "3023\n",
      "3034\n",
      "3045\n",
      "3056\n",
      "3067\n",
      "3078\n",
      "3089\n",
      "3100\n",
      "3111\n",
      "3113\n",
      "3124\n",
      "3135\n",
      "3146\n",
      "3157\n",
      "3168\n",
      "3179\n",
      "3190\n",
      "3201\n",
      "3212\n",
      "3214\n",
      "3225\n",
      "3236\n",
      "3247\n",
      "3258\n",
      "3269\n",
      "3280\n",
      "3291\n",
      "3302\n",
      "3313\n",
      "3315\n",
      "3326\n",
      "3337\n",
      "3348\n",
      "3359\n",
      "3370\n",
      "3381\n",
      "3392\n",
      "3403\n",
      "3414\n",
      "3416\n",
      "3427\n",
      "3438\n",
      "3449\n",
      "3460\n",
      "3471\n",
      "3482\n",
      "3493\n",
      "3504\n",
      "3515\n",
      "3517\n",
      "3528\n",
      "3539\n",
      "3550\n",
      "3561\n",
      "3572\n",
      "3583\n",
      "3594\n",
      "3605\n",
      "3616\n",
      "3618\n",
      "3629\n",
      "3640\n",
      "3651\n",
      "3662\n",
      "3673\n",
      "3684\n",
      "3695\n",
      "3706\n",
      "3717\n",
      "3719\n",
      "3730\n",
      "3741\n",
      "3752\n",
      "3763\n",
      "3774\n",
      "3785\n",
      "3796\n",
      "3807\n",
      "3818\n",
      "3820\n",
      "3831\n",
      "3842\n",
      "3853\n",
      "3864\n",
      "3875\n",
      "3886\n",
      "3897\n",
      "3908\n",
      "3919\n",
      "3921\n",
      "3932\n",
      "3943\n",
      "3954\n",
      "3965\n",
      "3976\n",
      "3987\n",
      "3998\n",
      "4009\n",
      "4024\n",
      "4035\n",
      "4046\n",
      "4057\n",
      "4068\n",
      "4079\n",
      "4090\n",
      "4101\n",
      "4112\n",
      "4114\n",
      "4125\n",
      "4136\n",
      "4147\n",
      "4158\n",
      "4169\n",
      "4180\n",
      "4191\n",
      "4202\n",
      "4213\n",
      "4215\n",
      "4226\n",
      "4237\n",
      "4248\n",
      "4259\n",
      "4270\n",
      "4281\n",
      "4292\n",
      "4303\n",
      "4314\n",
      "4316\n",
      "4327\n",
      "4338\n",
      "4349\n",
      "4360\n",
      "4371\n",
      "4382\n",
      "4393\n",
      "4404\n",
      "4415\n",
      "4417\n",
      "4428\n",
      "4439\n",
      "4450\n",
      "4461\n",
      "4472\n",
      "4483\n",
      "4494\n",
      "4505\n",
      "4516\n",
      "4518\n",
      "4529\n",
      "4540\n",
      "4551\n",
      "4562\n",
      "4573\n",
      "4584\n",
      "4595\n",
      "4606\n",
      "4617\n",
      "4619\n",
      "4630\n",
      "4641\n",
      "4652\n",
      "4663\n",
      "4674\n",
      "4685\n",
      "4696\n",
      "4707\n",
      "4718\n",
      "4720\n",
      "4731\n",
      "4742\n",
      "4753\n",
      "4764\n",
      "4775\n",
      "4786\n",
      "4797\n",
      "4808\n",
      "4819\n",
      "4821\n",
      "4832\n",
      "4843\n",
      "4854\n",
      "4865\n",
      "4876\n",
      "4887\n",
      "4898\n",
      "4909\n",
      "4920\n",
      "4922\n",
      "4933\n",
      "4944\n",
      "4955\n",
      "4966\n",
      "4977\n",
      "4988\n",
      "4999\n",
      "5010\n",
      "5025\n",
      "5036\n",
      "5047\n",
      "5058\n",
      "5069\n",
      "5080\n",
      "5091\n",
      "5102\n",
      "5113\n",
      "5115\n",
      "5126\n",
      "5137\n",
      "5148\n",
      "5159\n",
      "5170\n",
      "5181\n",
      "5192\n",
      "5203\n",
      "5214\n",
      "5216\n",
      "5227\n",
      "5238\n",
      "5249\n",
      "5260\n",
      "5271\n",
      "5282\n",
      "5293\n",
      "5304\n",
      "5315\n",
      "5317\n",
      "5328\n",
      "5339\n",
      "5350\n",
      "5361\n",
      "5372\n",
      "5383\n",
      "5394\n",
      "5405\n",
      "5416\n",
      "5418\n",
      "5429\n",
      "5440\n",
      "5451\n",
      "5462\n",
      "5473\n",
      "5484\n",
      "5495\n",
      "5506\n",
      "5517\n",
      "5519\n",
      "5530\n",
      "5541\n",
      "5552\n",
      "5563\n",
      "5574\n",
      "5585\n",
      "5596\n",
      "5607\n",
      "5618\n",
      "5620\n",
      "5631\n",
      "5642\n",
      "5653\n",
      "5664\n",
      "5675\n",
      "5686\n",
      "5697\n",
      "5708\n",
      "5719\n",
      "5721\n",
      "5732\n",
      "5743\n",
      "5754\n",
      "5765\n",
      "5776\n",
      "5787\n",
      "5798\n",
      "5809\n",
      "5820\n",
      "5822\n",
      "5833\n",
      "5844\n",
      "5855\n",
      "5866\n",
      "5877\n",
      "5888\n",
      "5899\n",
      "5910\n",
      "5921\n",
      "5923\n",
      "5934\n",
      "5945\n",
      "5956\n",
      "5967\n",
      "5978\n",
      "5989\n",
      "6000\n",
      "6011\n",
      "6026\n",
      "6037\n",
      "6048\n",
      "6059\n",
      "6070\n",
      "6081\n",
      "6092\n",
      "6103\n",
      "6114\n",
      "6116\n",
      "6127\n",
      "6138\n",
      "6149\n",
      "6160\n",
      "6171\n",
      "6182\n",
      "6193\n",
      "6204\n",
      "6215\n",
      "6217\n",
      "6228\n",
      "6239\n",
      "6250\n",
      "6261\n",
      "6272\n",
      "6283\n",
      "6294\n",
      "6305\n",
      "6316\n",
      "6318\n",
      "6329\n",
      "6340\n",
      "6351\n",
      "6362\n",
      "6373\n",
      "6384\n",
      "6395\n",
      "6406\n",
      "6417\n",
      "6419\n",
      "6430\n",
      "6441\n",
      "6452\n",
      "6463\n",
      "6474\n",
      "6485\n",
      "6496\n",
      "6507\n",
      "6518\n",
      "6520\n",
      "6531\n",
      "6542\n",
      "6553\n",
      "6564\n",
      "6575\n",
      "6586\n",
      "6597\n",
      "6608\n",
      "6619\n",
      "6621\n",
      "6632\n",
      "6643\n",
      "6654\n",
      "6665\n",
      "6676\n",
      "6687\n",
      "6698\n",
      "6709\n",
      "6720\n",
      "6722\n",
      "6733\n",
      "6744\n",
      "6755\n",
      "6766\n",
      "6777\n",
      "6788\n",
      "6799\n",
      "6810\n",
      "6821\n",
      "6823\n",
      "6834\n",
      "6845\n",
      "6856\n",
      "6867\n",
      "6878\n",
      "6889\n",
      "6900\n",
      "6911\n",
      "6922\n",
      "6924\n",
      "6935\n",
      "6946\n",
      "6957\n",
      "6968\n",
      "6979\n",
      "6990\n",
      "7001\n",
      "7012\n",
      "7027\n",
      "7038\n",
      "7049\n",
      "7060\n",
      "7071\n",
      "7082\n",
      "7093\n",
      "7104\n",
      "7115\n",
      "7117\n",
      "7128\n",
      "7139\n",
      "7150\n",
      "7161\n",
      "7172\n",
      "7183\n",
      "7194\n",
      "7205\n",
      "7216\n",
      "7218\n",
      "7229\n",
      "7240\n",
      "7251\n",
      "7262\n",
      "7273\n",
      "7284\n",
      "7295\n",
      "7306\n",
      "7317\n",
      "7319\n",
      "7330\n",
      "7341\n",
      "7352\n",
      "7363\n",
      "7374\n",
      "7385\n",
      "7396\n",
      "7407\n",
      "7418\n",
      "7420\n",
      "7431\n",
      "7442\n",
      "7453\n",
      "7464\n",
      "7475\n",
      "7486\n",
      "7497\n",
      "7508\n",
      "7519\n",
      "7521\n",
      "7532\n",
      "7543\n",
      "7554\n",
      "7565\n",
      "7576\n",
      "7587\n",
      "7598\n",
      "7609\n",
      "7620\n",
      "7622\n",
      "7633\n",
      "7644\n",
      "7655\n",
      "7666\n",
      "7677\n",
      "7688\n",
      "7699\n",
      "7710\n",
      "7721\n",
      "7723\n",
      "7734\n",
      "7745\n",
      "7756\n",
      "7767\n",
      "7778\n",
      "7789\n",
      "7800\n",
      "7811\n",
      "7822\n",
      "7824\n",
      "7835\n",
      "7846\n",
      "7857\n",
      "7868\n",
      "7879\n",
      "7890\n",
      "7901\n",
      "7912\n",
      "7923\n",
      "7925\n",
      "7936\n",
      "7947\n",
      "7958\n",
      "7969\n",
      "7980\n",
      "7991\n",
      "8002\n",
      "8013\n",
      "8028\n",
      "8039\n",
      "8050\n",
      "8061\n",
      "8072\n",
      "8083\n",
      "8094\n",
      "8105\n",
      "8116\n",
      "8118\n",
      "8129\n",
      "8140\n",
      "8151\n",
      "8162\n",
      "8173\n",
      "8184\n",
      "8195\n",
      "8206\n",
      "8217\n",
      "8219\n",
      "8230\n",
      "8241\n",
      "8252\n",
      "8263\n",
      "8274\n",
      "8285\n",
      "8296\n",
      "8307\n",
      "8318\n",
      "8320\n",
      "8331\n",
      "8342\n",
      "8353\n",
      "8364\n",
      "8375\n",
      "8386\n",
      "8397\n",
      "8408\n",
      "8419\n",
      "8421\n",
      "8432\n",
      "8443\n",
      "8454\n",
      "8465\n",
      "8476\n",
      "8487\n",
      "8498\n",
      "8509\n",
      "8520\n",
      "8522\n",
      "8533\n",
      "8544\n",
      "8555\n",
      "8566\n",
      "8577\n",
      "8588\n",
      "8599\n",
      "8610\n",
      "8621\n",
      "8623\n",
      "8634\n",
      "8645\n",
      "8656\n",
      "8667\n",
      "8678\n",
      "8689\n",
      "8700\n",
      "8711\n",
      "8722\n",
      "8724\n",
      "8735\n",
      "8746\n",
      "8757\n",
      "8768\n",
      "8779\n",
      "8790\n",
      "8801\n",
      "8812\n",
      "8823\n",
      "8825\n",
      "8836\n",
      "8847\n",
      "8858\n",
      "8869\n",
      "8880\n",
      "8891\n",
      "8902\n",
      "8913\n",
      "8924\n",
      "8926\n",
      "8937\n",
      "8948\n",
      "8959\n",
      "8970\n",
      "8981\n",
      "8992\n",
      "9003\n",
      "9014\n",
      "9029\n",
      "9040\n",
      "9051\n",
      "9062\n",
      "9073\n",
      "9084\n",
      "9095\n",
      "9106\n",
      "9117\n",
      "9119\n",
      "9130\n",
      "9141\n",
      "9152\n",
      "9163\n",
      "9174\n",
      "9185\n",
      "9196\n",
      "9207\n",
      "9218\n",
      "9220\n",
      "9231\n",
      "9242\n",
      "9253\n",
      "9264\n",
      "9275\n",
      "9286\n",
      "9297\n",
      "9308\n",
      "9319\n",
      "9321\n",
      "9332\n",
      "9343\n",
      "9354\n",
      "9365\n",
      "9376\n",
      "9387\n",
      "9398\n",
      "9409\n",
      "9420\n",
      "9422\n",
      "9433\n",
      "9444\n",
      "9455\n",
      "9466\n",
      "9477\n",
      "9488\n",
      "9499\n",
      "9510\n",
      "9521\n",
      "9523\n",
      "9534\n",
      "9545\n",
      "9556\n",
      "9567\n",
      "9578\n",
      "9589\n",
      "9600\n",
      "9611\n",
      "9622\n",
      "9624\n",
      "9635\n",
      "9646\n",
      "9657\n",
      "9668\n",
      "9679\n",
      "9690\n",
      "9701\n",
      "9712\n",
      "9723\n",
      "9725\n",
      "9736\n",
      "9747\n",
      "9758\n",
      "9769\n",
      "9780\n",
      "9791\n",
      "9802\n",
      "9813\n",
      "9824\n",
      "9826\n",
      "9837\n",
      "9848\n",
      "9859\n",
      "9870\n",
      "9881\n",
      "9892\n",
      "9903\n",
      "9914\n",
      "9925\n",
      "9927\n",
      "9938\n",
      "9949\n",
      "9960\n",
      "9971\n",
      "9982\n",
      "9993\n"
     ]
    }
   ],
   "source": [
    "#4673 감도 안잡히는 문제 \n",
    "def self(n):\n",
    "    n = n + sum(map(int,str(n)))\n",
    "    return n\n",
    "notSelf = []\n",
    "for i in range(1,10001):\n",
    "    notSelf.append(self(i))\n",
    "for j in range(1,10001):\n",
    "    if j not in notSelf:\n",
    "        print(j)"
   ]
  },
  {
   "cell_type": "code",
   "execution_count": null,
   "metadata": {},
   "outputs": [],
   "source": [
    "#1065\n",
    "def Hansu(n):\n",
    "    cnt = 0\n",
    "    for i in range(1,n+1):\n",
    "        if i < 100:\n",
    "            cnt += 1\n",
    "        else:\n",
    "            numbers = list(map(int,str(i)))\n",
    "            if numbers[0] - numbers[1] == numbers[1] - numbers[2]:\n",
    "                cnt += 1\n",
    "    return cnt"
   ]
  },
  {
   "cell_type": "code",
   "execution_count": null,
   "metadata": {},
   "outputs": [
    {
     "data": {
      "text/plain": [
       "65"
      ]
     },
     "execution_count": 1,
     "metadata": {},
     "output_type": "execute_result"
    }
   ],
   "source": [
    "#11654 숫자-> 문자 chr()\n",
    "a = input()\n",
    "ord(a)"
   ]
  },
  {
   "cell_type": "code",
   "execution_count": null,
   "metadata": {},
   "outputs": [],
   "source": [
    "#11720\n",
    "N = int(input())\n",
    "num = list(map(int,str(input())))\n",
    "print(sum(num))"
   ]
  },
  {
   "cell_type": "code",
   "execution_count": null,
   "metadata": {},
   "outputs": [
    {
     "name": "stdout",
     "output_type": "stream",
     "text": [
      "1 0 -1 -1 2 -1 -1 -1 -1 4 3 -1 -1 7 5 -1 -1 -1 -1 -1 -1 -1 -1 -1 -1 -1\n"
     ]
    }
   ],
   "source": [
    "#10809 아스키코드 알파벳 받아오는 법 기억하기.\n",
    "from string import ascii_lowercase\n",
    "S = list(str(input())) # ['b','a','e','k','j','o','o','n']\n",
    "alpha = list(ascii_lowercase)\n",
    "alpha_book = {}\n",
    "for i in alpha:\n",
    "    alpha_book[i] = -1\n",
    "\n",
    "for i in S:\n",
    "    alpha_book[i] = S.index(i)\n",
    "res = list(alpha_book.values())\n",
    "res = ' '.join(map(str,res))\n",
    "print(res)"
   ]
  },
  {
   "cell_type": "code",
   "execution_count": null,
   "metadata": {},
   "outputs": [
    {
     "name": "stdout",
     "output_type": "stream",
     "text": [
      "AAABBBCCC\n",
      "/////HHHHHTTTTTPPPPP\n"
     ]
    }
   ],
   "source": [
    "#2675 줄넘김 <<< 기억\n",
    "S = int(input())\n",
    "for i in range(S):\n",
    "    R, P = map(str,input().split())\n",
    "    R = int(R)\n",
    "    P = list(P)\n",
    "    for rep in P:\n",
    "        print(rep*R,end=\"\")\n",
    "    print() # 줄넘김"
   ]
  },
  {
   "cell_type": "code",
   "execution_count": null,
   "metadata": {},
   "outputs": [
    {
     "name": "stdout",
     "output_type": "stream",
     "text": [
      "A\n"
     ]
    }
   ],
   "source": [
    "#1157\n",
    "voca = list(input().upper())\n",
    "dup = sorted(set(voca), key= lambda x: voca.index(x))\n",
    "max_cnt = []\n",
    "for alpha in dup:\n",
    "    cnt = voca.count(alpha)\n",
    "    max_cnt.append(cnt)\n",
    "        \n",
    "if max_cnt.count(max(max_cnt)) > 1:\n",
    "    print(\"?\")\n",
    "else:\n",
    "    print(dup[max_cnt.index(max(max_cnt))])"
   ]
  },
  {
   "cell_type": "code",
   "execution_count": null,
   "metadata": {},
   "outputs": [
    {
     "name": "stdout",
     "output_type": "stream",
     "text": [
      "6\n"
     ]
    }
   ],
   "source": [
    "#1152\n",
    "voca = list(map(str,input().split()))\n",
    "print(len(voca))"
   ]
  },
  {
   "cell_type": "code",
   "execution_count": null,
   "metadata": {},
   "outputs": [
    {
     "name": "stdout",
     "output_type": "stream",
     "text": [
      "437\n"
     ]
    }
   ],
   "source": [
    "#2908 [::-1]\n",
    "num1,num2 = map(str,input().split())\n",
    "num1 = num1[::-1]\n",
    "num2 = num2[::-1]\n",
    "\n",
    "if num1 > num2:\n",
    "    print(num1)\n",
    "else:\n",
    "    print(num2)"
   ]
  },
  {
   "cell_type": "code",
   "execution_count": null,
   "metadata": {},
   "outputs": [
    {
     "name": "stdout",
     "output_type": "stream",
     "text": [
      "13\n"
     ]
    }
   ],
   "source": [
    "#5622\n",
    "dial = input()\n",
    "alpha = ['ABC','DEF','GHI','JKL','MNO','PQRS','TUV','WXYZ']\n",
    "cnt = 0\n",
    "for i in range(len(dial)):\n",
    "    for j in alpha:\n",
    "        if dial[i] in j:\n",
    "            cnt += alpha.index(j) + 3\n",
    "print(cnt)"
   ]
  },
  {
   "cell_type": "code",
   "execution_count": null,
   "metadata": {},
   "outputs": [
    {
     "name": "stdout",
     "output_type": "stream",
     "text": [
      "~e~~ak\n"
     ]
    }
   ],
   "source": [
    "#2941 replace\n",
    "alpha = input()\n",
    "croa_alpha = ['c=','c-','dz=','d-','lj','nj','s=','z=']\n",
    "for i in croa_alpha:\n",
    "    alpha = alpha.replace(i,'~')\n",
    "print(len(alpha))"
   ]
  },
  {
   "cell_type": "code",
   "execution_count": null,
   "metadata": {},
   "outputs": [
    {
     "name": "stdout",
     "output_type": "stream",
     "text": [
      "3\n"
     ]
    }
   ],
   "source": [
    "#1316\n",
    "n=int(input())\n",
    "cnt=0\n",
    "for _ in range(n):\n",
    "    word=input()\n",
    "    for i in range(len(word)-1):\n",
    "        if word[i]!=word[i+1]:\n",
    "            if word[i] in word[i+1:]:\n",
    "                n-=1\n",
    "                break\n",
    "print(n)"
   ]
  },
  {
   "cell_type": "code",
   "execution_count": null,
   "metadata": {},
   "outputs": [
    {
     "name": "stdout",
     "output_type": "stream",
     "text": [
      "-1\n"
     ]
    }
   ],
   "source": [
    "#1712\n",
    "a,b,c = map(int,input().split())\n",
    "if c-b <= 0:\n",
    "    print(-1)\n",
    "else:\n",
    "    net = (a/(c-b))+1\n",
    "    print(int(net))\n"
   ]
  },
  {
   "cell_type": "code",
   "execution_count": null,
   "metadata": {},
   "outputs": [
    {
     "name": "stdout",
     "output_type": "stream",
     "text": [
      "3\n"
     ]
    }
   ],
   "source": [
    "#2292\n",
    "N = int(input())\n",
    "bee_home = 1\n",
    "cnt = 1\n",
    "while N > bee_home:\n",
    "    bee_home += 6*cnt\n",
    "    cnt += 1\n",
    "print(cnt)"
   ]
  },
  {
   "cell_type": "code",
   "execution_count": null,
   "metadata": {},
   "outputs": [
    {
     "name": "stdout",
     "output_type": "stream",
     "text": [
      "1/4\n"
     ]
    }
   ],
   "source": [
    "#1193\n",
    "N = int(input()) #몇번째 숫자 4\n",
    "i = 1 #몇번째줄? 3\n",
    "while True:\n",
    "    if sum(range(i)) <= N <= sum(range(i+1)):\n",
    "        break\n",
    "    else:\n",
    "        i+=1\n",
    "z = N - sum(range(i)) #몇번째 숫자?\n",
    "if (i+1) % 2 == 0:\n",
    "    son = i-z+1\n",
    "    mom = z\n",
    "else:\n",
    "    son = z\n",
    "    mom = i-z+1\n",
    "print(f\"{son}/{mom}\")\n"
   ]
  },
  {
   "cell_type": "code",
   "execution_count": null,
   "metadata": {},
   "outputs": [
    {
     "name": "stdout",
     "output_type": "stream",
     "text": [
      "4\n"
     ]
    }
   ],
   "source": [
    "#2869 시간초과 math ceil 사용\n",
    "import math\n",
    "A,B,V = map(int,input().split())\n",
    "day = 0\n",
    "if (V-B)%(A-B) != 0:\n",
    "    day = ((V-B)//(A-B)) + 1\n",
    "else:\n",
    "    day = ((V-B)//(A-B))\n",
    "\n",
    "print(math.ceil(day))"
   ]
  },
  {
   "cell_type": "code",
   "execution_count": null,
   "metadata": {},
   "outputs": [
    {
     "name": "stdout",
     "output_type": "stream",
     "text": [
      "601\n"
     ]
    }
   ],
   "source": [
    "#10250\n",
    "T = int(input())\n",
    "for i in range(T):\n",
    "    H,W,N = map(int,input().split()) # 높이,가로, 몇번째 손님\n",
    "    '''높이가 호수를 정한다. N % H으로 아래에서 부터 몇층까지일지 체크 N // H 로 몇 호일지 체크\n",
    "        높이(H)와 N의 관계에 따라서 다르게 출력될수있음.'''\n",
    "    if N % H == 0:\n",
    "        high = H\n",
    "    else:\n",
    "        high = N % H\n",
    "\n",
    "    if high == H:\n",
    "        ho = N//H\n",
    "    else:\n",
    "        ho = (N // H) +1\n",
    "    res = (high*100) + ho\n",
    "    print(res)\n",
    "\n"
   ]
  },
  {
   "cell_type": "code",
   "execution_count": null,
   "metadata": {},
   "outputs": [
    {
     "name": "stdout",
     "output_type": "stream",
     "text": [
      "6\n",
      "10\n"
     ]
    }
   ],
   "source": [
    "#2775\n",
    "'''자신의 아래층(a-1) 본인이 살고싶은 b호 (range(b))\n",
    "0층 (1 2 3 4) 1층 (1 3 6 10) 2층 (1 4 10 20) 3층 (1 5 15 35) 4층 (1 6 21 56)k층 n호 = k-1층 n호 + k층 n-1호 '''\n",
    "T = int(input())\n",
    "for i in range(T):\n",
    "    k = int(input())\n",
    "    n = int(input())\n",
    "    floor0 = [x for x in range(1,n+1)]\n",
    "    for f in range(k):\n",
    "        for j in range(1,n):\n",
    "            floor0[j] += floor0[j-1]\n",
    "    print(floor0[-1])"
   ]
  },
  {
   "cell_type": "code",
   "execution_count": null,
   "metadata": {},
   "outputs": [
    {
     "name": "stdout",
     "output_type": "stream",
     "text": [
      "6\n"
     ]
    }
   ],
   "source": [
    "#11047 그리디 알고리즘 1\n",
    "n,k = map(int,input().split())\n",
    "unit_list = []\n",
    "cnt = 0\n",
    "for i in range(n):\n",
    "    unit = int(input())\n",
    "    unit_list.insert(0,unit)\n",
    "\n",
    "while k != 0:\n",
    "    for j in unit_list:\n",
    "        if j <= k:\n",
    "            c = k//j\n",
    "            k = k%j\n",
    "            cnt += c\n",
    "print(cnt)"
   ]
  },
  {
   "cell_type": "code",
   "execution_count": null,
   "metadata": {},
   "outputs": [
    {
     "name": "stdout",
     "output_type": "stream",
     "text": [
      "5\n"
     ]
    }
   ],
   "source": [
    "#2839 그리디 알고리즘2\n",
    "'''\n",
    "N킬로그램 배달 설탕은 3,5킬로그램 봉지 최대한 적은 봉지 정확하게 배달할수없다면 -1\n",
    "N = input()\n",
    "'''\n",
    "\n",
    "N = int(input()) \n",
    "cnt = 0 # 봉지 수\n",
    "\n",
    "while N >0:\n",
    "    if N%5 ==0:\n",
    "        cnt += N//5\n",
    "        break\n",
    "    elif N ==1 or N==2:\n",
    "        cnt = -1\n",
    "        break\n",
    "    else:\n",
    "        N -= 3\n",
    "        cnt += 1\n",
    "print(cnt)"
   ]
  },
  {
   "cell_type": "code",
   "execution_count": null,
   "metadata": {},
   "outputs": [
    {
     "name": "stdout",
     "output_type": "stream",
     "text": [
      "2\n"
     ]
    }
   ],
   "source": [
    "#1931 그리디 알고리즘\n",
    "'''\n",
    "회의실 1개에서 최대한 사용할 수 있는 회의 개수\n",
    "'''\n",
    "N = int(input())\n",
    "time = []\n",
    "for _ in range(N):\n",
    "    i = tuple(map(int,input().split()))\n",
    "    time.append(i)\n",
    "\n",
    "time_list = sorted(time,key=lambda x: (x[1],x[0])) #key를 튜플 형태로 줄 경우 첫번째 조건이 동일할 때 두번째조건으로 정렬\n",
    "cnt_list = [time_list[0]]\n",
    "for t in time_list[1:]:\n",
    "    if cnt_list[-1][1] <= t[0]:\n",
    "        cnt_list.append(t)\n",
    "\n",
    "print(len(cnt_list))"
   ]
  },
  {
   "cell_type": "code",
   "execution_count": null,
   "metadata": {},
   "outputs": [
    {
     "name": "stdout",
     "output_type": "stream",
     "text": [
      "32\n"
     ]
    }
   ],
   "source": [
    "#11399 ATM 그리디알고리즘\n",
    "'''\n",
    "ATM i번째 사람이 돈 뽑는데 걸리는 시간 P_i 인출하는데 걸리는 시간(모든사람의) 최소화 방법\n",
    "입력: 첫째 줄 : 인원, 둘째 줄 : 각 사람 돈 뽑는 시간\n",
    "'''\n",
    "N = int(input())\n",
    "li = list(map(int,input().split()))\n",
    "\n",
    "li = sorted(li)\n",
    "\n",
    "time = li[0] # 결과값(최소시간)\n",
    "start = li[0] # time에 더해줄 시간 구하기\n",
    "for i in range(1,len(li)):\n",
    "    sum = start+li[i]\n",
    "    start = sum\n",
    "    time += sum\n",
    "\n",
    "print(time)\n"
   ]
  },
  {
   "cell_type": "code",
   "execution_count": 19,
   "metadata": {},
   "outputs": [
    {
     "name": "stdout",
     "output_type": "stream",
     "text": [
      "-40\n"
     ]
    }
   ],
   "source": [
    "#1541 잃어버린 괄호 / 그리디 알고리즘\n",
    "'''\n",
    "\n",
    "'''\n",
    "import re\n",
    "ma = input()\n",
    "num = re.split(r'[-]',ma) #-()- 마이너스 사이 값 찾기\n",
    "num_list = []\n",
    "for i in num:\n",
    "    sub_i = re.split(r'[+]',i)\n",
    "    cal_number = sum(list(map(int,sub_i)))\n",
    "    num_list.append(cal_number)\n",
    "\n",
    "first_n = num_list[0]\n",
    "for j in num_list[1:]:\n",
    "    first_n -= j\n",
    "print(first_n)"
   ]
  },
  {
   "cell_type": "code",
   "execution_count": 100,
   "metadata": {},
   "outputs": [
    {
     "name": "stdout",
     "output_type": "stream",
     "text": [
      "18\n"
     ]
    }
   ],
   "source": [
    "#13305 주유소\n",
    "N = int(input())\n",
    "distance = list(map(int,input().split()))\n",
    "region_price = list(map(int,input().split()))\n",
    "\n",
    "minimum_price = region_price[0]\n",
    "cost = minimum_price * distance[0]\n",
    "for i in range(1,N-1): # 1 2 \n",
    "    if minimum_price > region_price[i]:\n",
    "        minimum_price = region_price[i]\n",
    "        cost += minimum_price * distance[i]\n",
    "    else:\n",
    "        cost += minimum_price * distance[i]\n",
    "print(cost)\n",
    "# '''\n",
    "#-------------- 첫 오답 ------------\n",
    "# 경우의 수 \n",
    "# 1. 최초 노드(왼쪽)가 다음 노드보다 기름 가격이 쌀 경우 -> 기름 값이 더 적어지는 구간까지 거리를 더해서 충전할 양을 선택\n",
    "# 2. 반대의 경우 -> 다음 노드까지 갈 최소한의 기름만 챙겨서 넘어감\n",
    "# '''\n",
    "# N = int(input()) # N의 개수에 따라 따로 제약조건을 걸어줄 방법 구글링 필요\n",
    "# length = list(map(int,input().split()))\n",
    "# gas_price = list(map(int,input().split()))\n",
    "# distance = 0 # 채워야할 기름의 양 == 가야할 거리\n",
    "# cost = 0\n",
    "\n",
    "# for i in range(N-1):\n",
    "#     distance = 0\n",
    "#     if gas_price[0] >= gas_price[1]: # 일반화 필요\n",
    "#         distance += length.pop(0) \n",
    "#         cost += gas_price.pop(0) * distance\n",
    "\n",
    "#     else: \n",
    "#         distance += length.pop(0)+length.pop(0)\n",
    "#         cost += (gas_price[0]* distance)\n",
    "#         gas_price.pop(1)\n",
    "# print(cost)"
   ]
  },
  {
   "cell_type": "code",
   "execution_count": 88,
   "metadata": {},
   "outputs": [
    {
     "name": "stdout",
     "output_type": "stream",
     "text": [
      "-1\n",
      "-1\n",
      "123\n",
      "123\n",
      "-1\n",
      "-1\n"
     ]
    }
   ],
   "source": [
    "#10828 스택\n",
    "class H_stack():\n",
    "    def __init__(self):\n",
    "        self.stack_list = []\n",
    "        \n",
    "    def push(self,data):\n",
    "        if isinstance(data,str) == 1:\n",
    "            return print('숫자만 넣어주세요')\n",
    "        return self.stack_list.append(data)\n",
    "    \n",
    "    def pop(self):\n",
    "        if len(self.stack_list) == 0: \n",
    "            return -1\n",
    "        return self.stack_list.pop()\n",
    "    \n",
    "    def size(self):\n",
    "        return len(self.stack_list)\n",
    "    \n",
    "    def empty(self):\n",
    "        if len(self.stack_list) == 0: return 1\n",
    "        return 0\n",
    "        \n",
    "    def top(self):\n",
    "        if len(self.stack_list) == 0: return -1\n",
    "        return self.stack_list[-1]\n",
    "    \n",
    "N = int(input()) #int(sys.stdin.readline())\n",
    "stack = H_stack()\n",
    "for i in range(N):\n",
    "    c = input().split() #sys.stdin.readline().split()\n",
    "    if c[0] == 'push':\n",
    "        c[1] = int(c[1])\n",
    "        stack.push(int(c[1]))\n",
    "    if c[0] == 'pop': print(stack.pop())\n",
    "    if c[0] == 'size': print(stack.size())\n",
    "    if c[0] == 'empty': print(stack.empty())\n",
    "    if c[0] == 'top':  print(stack.top())"
   ]
  },
  {
   "cell_type": "code",
   "execution_count": 94,
   "metadata": {},
   "outputs": [
    {
     "data": {
      "text/plain": [
       "7"
      ]
     },
     "execution_count": 94,
     "metadata": {},
     "output_type": "execute_result"
    }
   ],
   "source": [
    "#10773 제로 (stack 2번문제)\n",
    "class account_manager():\n",
    "    def __init__(self):\n",
    "        self.wallet = []\n",
    "        \n",
    "    def deposit(self,income):\n",
    "        if income == 0:\n",
    "            self.wallet.pop(-1)\n",
    "        else: self.wallet.append(income)\n",
    "        \n",
    "    def total_acc(self):\n",
    "        return sum(self.wallet)\n",
    "    \n",
    "N = int(input())\n",
    "club_acc = account_manager()\n",
    "for i in range(N):\n",
    "    c = int(input())\n",
    "    club_acc.deposit(c)\n",
    "print(club_acc.total_acc()) "
   ]
  }
 ],
 "metadata": {
  "kernelspec": {
   "display_name": "base",
   "language": "python",
   "name": "python3"
  },
  "language_info": {
   "codemirror_mode": {
    "name": "ipython",
    "version": 3
   },
   "file_extension": ".py",
   "mimetype": "text/x-python",
   "name": "python",
   "nbconvert_exporter": "python",
   "pygments_lexer": "ipython3",
   "version": "3.9.7"
  },
  "orig_nbformat": 4
 },
 "nbformat": 4,
 "nbformat_minor": 2
}
