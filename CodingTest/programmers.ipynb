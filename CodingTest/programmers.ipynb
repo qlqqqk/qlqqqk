{
 "cells": [
  {
   "cell_type": "code",
   "execution_count": 149,
   "metadata": {},
   "outputs": [],
   "source": [
    "#프로그래머스 LEVEL1 신고결과받기 66.7/100\n",
    "def solution(id_list, report, k):\n",
    "    report = list(set(report))\n",
    "    cnt = {}\n",
    "    for i in id_list:\n",
    "        cnt[i] = 0\n",
    "    stop_user = []\n",
    "    report_list = []\n",
    "    for rep in report:\n",
    "        if rep not in report_list:\n",
    "            report_list.append(rep.split()[1]) #신고 당한 ID        \n",
    "    for a in id_list:\n",
    "        if report_list.count(a) >= k:\n",
    "            stop_user.append(a) #정지 메일 보내야할 유저\n",
    "            for i in report:\n",
    "                if i.split()[1] == a:\n",
    "                    cnt[i.split()[0]] += 1\n",
    "\n",
    "        \n",
    "    answer = list(cnt.values())\n",
    "    \n",
    "    return answer"
   ]
  },
  {
   "cell_type": "code",
   "execution_count": 158,
   "metadata": {},
   "outputs": [],
   "source": [
    "def solution(id_list, report, k):\n",
    "    answer = [0] * len(id_list)    \n",
    "    reports = {x : 0 for x in id_list}\n",
    "\n",
    "    for r in set(report):\n",
    "        reports[r.split()[1]] += 1\n",
    "\n",
    "    for r in set(report):\n",
    "        if reports[r.split()[1]] >= k:\n",
    "            answer[id_list.index(r.split()[0])] += 1\n",
    "\n",
    "    return answer"
   ]
  },
  {
   "cell_type": "code",
   "execution_count": 159,
   "metadata": {},
   "outputs": [],
   "source": [
    "def solution(id_list, report, k):\n",
    "    answer = []\n",
    "    a = list(set(report))\n",
    "    dictionary2 = {name : 0 for name in id_list}\n",
    "    dictionary = {name : [] for name in id_list}\n",
    "    for i in a:\n",
    "        dictionary[i.split()[1]].append(i.split()[0])\n",
    "\n",
    "    for i in dictionary:\n",
    "        if len(dictionary[i]) >= k:\n",
    "            for j in dictionary[i]:\n",
    "                dictionary2[j] += 1\n",
    "\n",
    "    for i in dictionary2:\n",
    "        answer.append(dictionary2[i])\n",
    "\n",
    "    return answer"
   ]
  },
  {
   "cell_type": "code",
   "execution_count": 160,
   "metadata": {},
   "outputs": [],
   "source": [
    "def solution(id_list, report, k):\n",
    "    answer = [0] * len(id_list)\n",
    "    dic_report = {id: [] for id in id_list} # 해당 유저를 신고한 ID\n",
    "    for i in set(report):\n",
    "        i = i.split()\n",
    "        dic_report[i[1]].append(i[0])\n",
    "\n",
    "    for key, value in dic_report.items():\n",
    "        if len(value) >= k:\n",
    "            for j in value:\n",
    "                answer[id_list.index(j)] += 1\n",
    "\n",
    "    return answer"
   ]
  },
  {
   "cell_type": "code",
   "execution_count": 1,
   "metadata": {},
   "outputs": [],
   "source": [
    "#LEVEL1 로또의 최고 순위와 최저 순위\n",
    "def solution(lottos, win_nums): # 0때문에 등수 내려갈일은 없음 최고등수에만 영향\n",
    "    cnt = 0\n",
    "    zero = 0\n",
    "    prize = {6:1,5:2,4:3,3:4,2:5} #등수에 따른 순위를 value값으로 주기\n",
    "    for num in lottos:\n",
    "        if num == 0: #0에 대한 예외처리\n",
    "            zero += 1 \n",
    "        if win_nums.count(num) == 1 and num != 0: # 중복숫자가 나올일은 없다고 명시되어있기 때문에 count == 1\n",
    "            cnt += 1\n",
    "    if cnt < 2: # 6등 예외처리\n",
    "        prize[cnt] = 6\n",
    "    answer = [prize[cnt+zero],prize[cnt]]\n",
    "    \n",
    "    return answer\n",
    "    "
   ]
  },
  {
   "cell_type": "code",
   "execution_count": 1,
   "metadata": {},
   "outputs": [],
   "source": [
    "#LEVEL1 신규아이디추천 (정규표현식지옥)\n",
    "import re\n",
    "def solution(new_id):\n",
    "    \n",
    "# 소문자숫자-_.를 제외한 나머지 제거\n",
    "    answer = re.sub(\"[^\\w\\-\\_\\.]\",'',new_id.lower()) \n",
    "#마침표 2번->1번으로\n",
    "    answer = re.sub('\\.\\.+','.',answer)\n",
    "#처음끝 마침표제거\n",
    "    answer = re.sub('^\\.|\\.$','',answer)\n",
    "#빈문자열 a대입\n",
    "    if answer == '':\n",
    "        answer = 'a'\n",
    "#최대15글자만 남기기 마침표제거\n",
    "    answer = re.sub('\\.$','',answer[0:15])\n",
    "#길이가 3될때\n",
    "    while len(answer) < 3:\n",
    "        answer += answer[-1:]\n",
    "    return answer"
   ]
  },
  {
   "cell_type": "code",
   "execution_count": 59,
   "metadata": {},
   "outputs": [],
   "source": [
    "def solution(s):\n",
    "    voca = {'0':'zero','1':'one','2':'two','3':'three','4':'four','5':'five','6':'six','7':'seven','8':'eight','9':'nine'}\n",
    "    for i in voca.items():\n",
    "        if i[1] in s:\n",
    "            s = s.replace(i[1],i[0])\n",
    "    answer = int(s)\n",
    "    return answer"
   ]
  },
  {
   "cell_type": "code",
   "execution_count": 10,
   "metadata": {},
   "outputs": [],
   "source": [
    "#키패드 누르기\n",
    "def solution(numbers,hand):\n",
    "    left = [1,4,7]\n",
    "    right = [3,6,9]\n",
    "    center = [2,5,8,0]\n",
    "    result = ''\n",
    "    \n",
    "    for i in numbers:\n",
    "        if i in left:\n",
    "            result += 'L'\n",
    "            left_hand = i\n",
    "            \n",
    "        elif i in right:\n",
    "            result += 'R'\n",
    "            right_hand = i\n",
    "        else:\n",
    "            \n",
    "            if abs(center.index(i) - left.index(left_hand)) > abs(center.index(i) - right.index(right_hand)):\n",
    "                result += 'R'\n",
    "                right_hand = i\n",
    "            elif abs(center.index(i) - left.index(left_hand)) < abs(center.index(i) - right.index(right_hand)):\n",
    "                result += 'L'\n",
    "                left_hand = i\n",
    "            else:\n",
    "                if hand == 'left':\n",
    "                    result += 'L'\n",
    "                    left_hand = i\n",
    "                else:\n",
    "                    result += 'R'\n",
    "                    right_hand = i\n"
   ]
  },
  {
   "cell_type": "code",
   "execution_count": 20,
   "metadata": {},
   "outputs": [],
   "source": [
    "#좌표 설정 왼손 (0,0) 오른손 (3,0) 3번 (3,3)\n",
    "def solution(numbers,hand):\n",
    "    res = ''\n",
    "    l_hand = [0,0]  \n",
    "    r_hand = [2,0]\n",
    "    left = [7,4,1]\n",
    "    right = [9,6,3]\n",
    "    center = [0,8,5,2]\n",
    "    for i in numbers:\n",
    "        \n",
    "        if i in left:\n",
    "            l_hand[0] = 0\n",
    "            l_hand[1] = left.index(i) + 1\n",
    "            res += \"L\"\n",
    "        if i in center:\n",
    "            if (abs(1-l_hand[0])+abs(center.index(i)-l_hand[1])) > (abs(1-r_hand[0])+abs(center.index(i)-r_hand[1])):\n",
    "                r_hand[0] = 1\n",
    "                r_hand[1] = center.index(i)\n",
    "                res += \"R\"\n",
    "            elif (abs(1-l_hand[0])+abs(center.index(i)-l_hand[1])) < (abs(1-r_hand[0])+abs(center.index(i)-r_hand[1])):\n",
    "                l_hand[0] = 1\n",
    "                l_hand[1] = center.index(i)\n",
    "                res += \"L\"\n",
    "            else:\n",
    "                if hand == 'left':\n",
    "                    l_hand[0] = 1\n",
    "                    l_hand[1] = center.index(i)\n",
    "                    res += \"L\"\n",
    "                else:\n",
    "                    r_hand[0] = 1\n",
    "                    r_hand[1] = center.index(i)\n",
    "                    res += \"R\"\n",
    "\n",
    "        if i in right:\n",
    "            r_hand[0] = 2\n",
    "            r_hand[1] = right.index(i) + 1\n",
    "            res += \"R\"\n",
    "    return res"
   ]
  },
  {
   "cell_type": "code",
   "execution_count": 4,
   "metadata": {},
   "outputs": [
    {
     "data": {
      "text/plain": [
       "14"
      ]
     },
     "execution_count": 4,
     "metadata": {},
     "output_type": "execute_result"
    }
   ],
   "source": [
    "#없는 숫자 더하기\n",
    "def solution(numbers):\n",
    "    num = [i for i in range(10)]\n",
    "    for i in numbers:\n",
    "        num.remove(i)\n",
    "    answer = sum(num)\n",
    "    return answer\n",
    "solution([1,2,3,4,6,7,8,0])"
   ]
  },
  {
   "cell_type": "code",
   "execution_count": 3,
   "metadata": {},
   "outputs": [
    {
     "data": {
      "text/plain": [
       "[5, 9]"
      ]
     },
     "execution_count": 3,
     "metadata": {},
     "output_type": "execute_result"
    }
   ],
   "source": []
  },
  {
   "cell_type": "code",
   "execution_count": null,
   "metadata": {},
   "outputs": [],
   "source": [
    "#LEVEL1 크레인 인형뽑기 게임\n",
    "'''\n",
    "    [][]\n",
    "[]  0 0 0 0 0\n",
    "    0 0 1 0 3\n",
    "    0 2 5 0 1\n",
    "    4 2 4 4 2\n",
    "    3 5 1 3 1\n",
    "\n",
    "1 3개 2 1개 3 1개 4 1개 5 2개\n",
    "\n",
    "4\n",
    "2\n",
    "4\n",
    "'''\n",
    "#크레인은 for i in board: [a][i]를 돌면서 0이면 더 내려가고 아니면 집는다.(해당 좌표를 0으로 만들고 옮긴다.)\n",
    "def solution(board, moves):\n",
    "\n",
    "    res = [] # 뽑은 인형들어갈 자리\n",
    "    answer = 0 # 애니팡~\n",
    "    for i in moves:\n",
    "        for j in range(5): #맨 위부터 순서대로 탐색한다. 0이면 더 아래로 정수면 멈춰서 꺼내고 0으로 만들기\n",
    "            if board[j][i-1] == 0: # 0이면 빈공간이니까 크레인이 아래로 내려가야함\n",
    "                pass\n",
    "            else:\n",
    "                if res == []: \n",
    "                    res.append(board[j][i-1])\n",
    "                    board[j][i-1] = 0\n",
    "                    break\n",
    "                    \n",
    "                else:\n",
    "                    if res[-1] == board[j][i-1]: # 애니팡 (동일한 정수가 들어오면 둘다 없어져야함. 기존res에 들어있던 정수 pop, board에서 뺀 정수는 res에 넣지 않는 것으로 2개)\n",
    "                        res.pop()\n",
    "                        board[j][i-1] = 0\n",
    "                        answer +=2\n",
    "                        break\n",
    "                    else:\n",
    "                        res.append(board[j][i-1])\n",
    "                        board[j][i-1] = 0\n",
    "                break\n",
    "                        \n",
    "    \n",
    "    \n",
    "    return answer,res\n",
    "solution([[0,0,0,0,0],[0,0,1,0,3],[0,2,5,0,1],[4,2,4,4,2],[3,5,1,3,1]],[1,5,3,5,1,2,1,4])"
   ]
  },
  {
   "cell_type": "code",
   "execution_count": 22,
   "metadata": {},
   "outputs": [
    {
     "data": {
      "text/plain": [
       "4"
      ]
     },
     "execution_count": 22,
     "metadata": {},
     "output_type": "execute_result"
    }
   ],
   "source": [
    "#LEVEL1 크레인 인형뽑기 게임 (다른사람 더 깔끔한 답안)\n",
    "def solution(board, moves):\n",
    "    stacklist = []\n",
    "    answer = 0\n",
    "    \n",
    "    for move in moves:\n",
    "        for i in range(len(board)):\n",
    "            if board[i][move-1] != 0:\n",
    "                stacklist.append(board[i][move-1])\n",
    "                board[i][move-1] = 0\n",
    "                \n",
    "                if len(stacklist) > 1:\n",
    "                    if stacklist[-1] == stacklist[-2]:\n",
    "                        stacklist.pop(-1)\n",
    "                        stacklist.pop(-1)\n",
    "                        answer += 2\n",
    "                    break       \n",
    "    return answer\n",
    "solution([[0,0,0,0,0],[0,0,1,0,3],[0,2,5,0,1],[4,2,4,4,2],[3,5,1,3,1]],[1,5,3,5,1,2,1,4])"
   ]
  },
  {
   "cell_type": "code",
   "execution_count": 1,
   "metadata": {},
   "outputs": [
    {
     "data": {
      "text/plain": [
       "9"
      ]
     },
     "execution_count": 1,
     "metadata": {},
     "output_type": "execute_result"
    }
   ],
   "source": [
    "#LEVEL1 음양더하기\n",
    "absolutes = [4,7,12] #index 0 == 4           [4,-7,12]\n",
    "signs = ['true','false','true'] \n",
    "for key,val in enumerate(absolutes): # key = 0 val = 4\n",
    "        if signs[key] == False: # 0 false --- \n",
    "            absolutes[key] = -val\n",
    "\n",
    "answer = sum(absolutes)\n",
    "answer"
   ]
  },
  {
   "cell_type": "code",
   "execution_count": 9,
   "metadata": {},
   "outputs": [],
   "source": [
    "#LEVEL1 내적 : a[0]*b[0] + a[1]*b[1] + ... + a[n-1]*b[n-1]\n",
    "def solution(a, b):\n",
    "    res = []\n",
    "    for key,val in enumerate(a):\n",
    "        res.append(a[key]*b[key])\n",
    "    answer = sum(res)\n",
    "    return answer"
   ]
  },
  {
   "cell_type": "code",
   "execution_count": 6,
   "metadata": {},
   "outputs": [
    {
     "data": {
      "text/plain": [
       "1"
      ]
     },
     "execution_count": 6,
     "metadata": {},
     "output_type": "execute_result"
    }
   ],
   "source": [
    "#소수만들기 (답안지 봄)\n",
    "from itertools import combinations #중복하지않는 조합의 수 리스트 만들기\n",
    "def primeNumber(numbers):\n",
    "    if numbers > 1:\n",
    "        for i in range(2,(numbers//2)+1):\n",
    "            if numbers%i == 0:\n",
    "                return False\n",
    "        return True\n",
    "    else:\n",
    "        return False\n",
    "\n",
    "def solution(num):\n",
    "    answer = 0\n",
    "    shuffle = list(combinations(num,3))\n",
    "    for j in shuffle:\n",
    "        if primeNumber(sum(j)):\n",
    "            answer += 1\n",
    "    return answer\n",
    "    \n",
    "solution([1,2,3,4])"
   ]
  },
  {
   "cell_type": "code",
   "execution_count": 16,
   "metadata": {},
   "outputs": [
    {
     "data": {
      "text/plain": [
       "['mumu', 'kai', 'mine', 'soe', 'poe']"
      ]
     },
     "execution_count": 16,
     "metadata": {},
     "output_type": "execute_result"
    }
   ],
   "source": [
    "#LEVEL1 달리기 경주\n",
    "'''\n",
    "추월시 추월한 선수의 이름을 부름 \n",
    "players_len 부르기 이전 선수들의 등수\n",
    "callings_len 해설자가 부른 이름 순서\n",
    "'''\n",
    "def solution(players,callings):\n",
    "    idx_ply = players.copy()\n",
    "    for call in callings:\n",
    "        players.insert(idx_ply.index(call)-1,players.pop(idx_ply.index(call)))\n",
    "        idx_ply = players.copy()\n",
    "    return idx_ply\n",
    "#시간 초과 62.5점\n",
    "def solution(players,callings):\n",
    "    for call in callings:\n",
    "        front_idx = players.index(call)-1 \n",
    "        front = players[front_idx]\n",
    "        back_idx = players.index(call)\n",
    "        \n",
    "        players[front_idx] = call\n",
    "        players[back_idx] = front\n",
    "    return players\n",
    "#시간 초과 62.5점\n",
    "\n",
    "#HashMap을 사용해야 시간 복잡도 문제 해결 or 양방향 인덱싱(dict 2개 혹은 list,dict)으로 문제 해결\n"
   ]
  },
  {
   "cell_type": "code",
   "execution_count": 13,
   "metadata": {},
   "outputs": [
    {
     "data": {
      "text/plain": [
       "['mumu', 'kai', 'mine', 'soe', 'poe']"
      ]
     },
     "execution_count": 13,
     "metadata": {},
     "output_type": "execute_result"
    }
   ],
   "source": []
  },
  {
   "cell_type": "code",
   "execution_count": null,
   "metadata": {},
   "outputs": [],
   "source": []
  }
 ],
 "metadata": {
  "interpreter": {
   "hash": "68fd6408936fcd5ca255860570d9e2fe47742966f07f9bb56bc610b21d944342"
  },
  "kernelspec": {
   "display_name": "Python 3.8.8 ('base')",
   "language": "python",
   "name": "python3"
  },
  "language_info": {
   "codemirror_mode": {
    "name": "ipython",
    "version": 3
   },
   "file_extension": ".py",
   "mimetype": "text/x-python",
   "name": "python",
   "nbconvert_exporter": "python",
   "pygments_lexer": "ipython3",
   "version": "3.8.13"
  },
  "orig_nbformat": 4
 },
 "nbformat": 4,
 "nbformat_minor": 2
}
