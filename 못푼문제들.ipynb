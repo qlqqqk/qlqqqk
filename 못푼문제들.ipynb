{
 "cells": [
  {
   "cell_type": "code",
   "execution_count": 1,
   "metadata": {},
   "outputs": [],
   "source": [
    "#백준13303 / 구름 장애물경기\n",
    "def obstacle_run():\n",
    "    n = int(input()) # 장애물 개수\n",
    "    m = list(map(int,input().split())) #y좌표 도착x좌표\n",
    "    cnt = m[1] #거리계산\n",
    "    y_point = m[0]\n",
    "    y_list = []\n",
    "    dic = {}\n",
    "    for a in range(n): #장애물 입력받기\n",
    "        dic_list = list(map(int,input().split()))\n",
    "        dic[dic_list[0]] = [dic_list[1],dic_list[2]]\n",
    "    obs = dict(sorted(dic.items()))\n",
    "     \n",
    "    for j in obs.keys(): ###### 장애물1 ----- (2) ------ (3) ------- 4 /// 20 30 45 55\n",
    "        for i in [1,2]: \n",
    "            if obs[j][0] <= y_point and y_point <= obs[j][1]:\n",
    "                if abs(y_point-obs[j][0]) > abs(y_point-obs[j][1]):\n",
    "                    cnt += abs(y_point-obs[j][1]) #장애물 넘은 거리 추가 77 / 77 / 82 / 87\n",
    "                    y_point = obs[j][1] #새로운 y좌표 50 / 50 / 55 \n",
    "                else:\n",
    "                    cnt += abs(y_point-obs[j][0]) # 87\n",
    "                    y_point = obs[j][0] # 50\n",
    "            else: continue\n",
    "            y_list.append([cnt,y_point])\n",
    "    return y_list\n"
   ]
  },
  {
   "cell_type": "code",
   "execution_count": null,
   "metadata": {},
   "outputs": [],
   "source": [
    "def obstacle_run():\n",
    "    n = int(input()) # 장애물 개수\n",
    "    m = list(map(int,input().split())) #y좌표 도착x좌표\n",
    "    cnt = m[1] #거리계산\n",
    "    y_point = m[0]\n",
    "    y_list = []\n",
    "    dic = {}\n",
    "    for a in range(n): #장애물 입력받기\n",
    "        dic_list = list(map(int,input().split()))\n",
    "        dic[dic_list[0]] = [dic_list[1],dic_list[2]]\n",
    "    obs = dict(sorted(dic.items()))\n",
    "     \n",
    "    for j in obs.keys(): ###### 장애물1 ----- (2) ------ (3) ------- 4 /// 20 30 45 55\n",
    "        for i in [0,1]:\n",
    "            cnt += abs(y_point-obs[j][i]) #장애물 넘은 거리 추가 77 / 77 / 82 / 87\n",
    "            y_point = obs[j][i]\n",
    "        y_list.append([cnt,y_point])\n",
    "    return y_list"
   ]
  },
  {
   "cell_type": "code",
   "execution_count": null,
   "metadata": {},
   "outputs": [],
   "source": []
  }
 ],
 "metadata": {
  "interpreter": {
   "hash": "5d8d571171281f475496b4f9f70f9ec0a2204912d492e0388db3f1fd6aa4af88"
  },
  "kernelspec": {
   "display_name": "Python 3.7.9 64-bit",
   "language": "python",
   "name": "python3"
  },
  "language_info": {
   "codemirror_mode": {
    "name": "ipython",
    "version": 3
   },
   "file_extension": ".py",
   "mimetype": "text/x-python",
   "name": "python",
   "nbconvert_exporter": "python",
   "pygments_lexer": "ipython3",
   "version": "3.7.9"
  },
  "orig_nbformat": 4
 },
 "nbformat": 4,
 "nbformat_minor": 2
}
