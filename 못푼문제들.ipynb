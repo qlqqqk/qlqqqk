{
 "cells": [
  {
   "cell_type": "code",
   "execution_count": null,
   "metadata": {},
   "outputs": [],
   "source": [
    "#백준13303 / 구름 장애물경기\n",
    "def obstacle_run():\n",
    "    n = int(input()) # 장애물 개수\n",
    "    m = list(map(int,input().split())) #y좌표 도착x좌표\n",
    "    cnt = m[1] #거리계산\n",
    "    y_point = m[0]\n",
    "    y_list = []\n",
    "    dic = {}\n",
    "    for a in range(n): #장애물 입력받기\n",
    "        dic_list = list(map(int,input().split()))\n",
    "        dic[dic_list[0]] = [dic_list[1],dic_list[2]]\n",
    "    obs = dict(sorted(dic.items()))\n",
    "     \n",
    "    for j in obs.keys(): ###### 장애물1 ----- (2) ------ (3) ------- 4 /// 20 30 45 55\n",
    "        for i in [1,2]: \n",
    "            if obs[j][0] <= y_point and y_point <= obs[j][1]:\n",
    "                if abs(y_point-obs[j][0]) > abs(y_point-obs[j][1]):\n",
    "                    cnt += abs(y_point-obs[j][1]) #장애물 넘은 거리 추가 77 / 77 / 82 / 87\n",
    "                    y_point = obs[j][1] #새로운 y좌표 50 / 50 / 55 \n",
    "                else:\n",
    "                    cnt += abs(y_point-obs[j][0]) # 87\n",
    "                    y_point = obs[j][0] # 50\n",
    "            else: continue\n",
    "            y_list.append([cnt,y_point])\n",
    "    return y_list\n"
   ]
  },
  {
   "cell_type": "code",
   "execution_count": 1,
   "metadata": {},
   "outputs": [],
   "source": [
    "def obstacle_run():\n",
    "    n = int(input()) # 장애물 개수\n",
    "    m = list(map(int,input().split())) #y좌표 도착x좌표\n",
    "    cnt = m[1] #거리계산\n",
    "    y_point = m[0]\n",
    "    y_list = []\n",
    "    dic = {}\n",
    "    for a in range(n): #장애물 입력받기\n",
    "        dic_list = list(map(int,input().split()))\n",
    "        dic[dic_list[0]] = [dic_list[1],dic_list[2]]\n",
    "    obs = dict(sorted(dic.items()))\n",
    "     \n",
    "    for j in obs.keys(): ###### 장애물1 ----- (2) ------ (3) ------- 4 /// 20 30 45 55\n",
    "        for i in [0,1]:\n",
    "            cnt += abs(y_point-obs[j][i]) #장애물 넘은 거리 추가 77 / 77 / 82 / 87\n",
    "            y_point = obs[j][i]\n",
    "        y_list.append([cnt,y_point])\n",
    "    return y_list"
   ]
  },
  {
   "cell_type": "code",
   "execution_count": 77,
   "metadata": {},
   "outputs": [],
   "source": [
    "'''\n",
    "(0,0) 0,1 0,2\n",
    "1,0\n",
    "2,0\n",
    "8방향 탐색이 필요\n",
    "[i][j] limit 0<= / max col,row\n",
    "'''\n",
    "col,row = map(int,input().split())\n",
    "matrix = []\n",
    "for i in range(row):\n",
    "    matrix.append(list(input()))\n",
    "cnt = [[0 for co in range(col)] for ro in range(row)]\n",
    "for c in range(col):\n",
    "    for r in range(row):\n",
    "        if matrix[r][c]=='.':\n",
    "            if c == 0 and r==0: #왼쪽 상단 3방향\n",
    "                nostar = [matrix[r][c+1],matrix[r+1][c],matrix[r+1][c+1]]\n",
    "                cnt[0][0] = nostar.count('*')\n",
    "                \n",
    "            elif c == col-1 and r==0: #우측 상단\n",
    "                nostar = [matrix[r][c-1],matrix[r+1][c-1],matrix[r+1][c]]\n",
    "                cnt[0][c] = nostar.count('*')\n",
    "                \n",
    "            elif c == col-1 and r==row-1: #우측 하단\n",
    "                nostar = [matrix[r][c-1],matrix[r-1][c],matrix[r-1][c-1]]\n",
    "                cnt[r][c] = nostar.count('*')\n",
    "                \n",
    "            elif c == 0 and r==row-1: #좌측 하단\n",
    "                nostar = [matrix[r-1][c],matrix[r-1][c+1],matrix[r][c+1]]\n",
    "                cnt[r][0] = nostar.count('*')\n",
    "                \n",
    "            elif c == col-1 and r != 0 and r != row-1: #우측 벽\n",
    "                nostar = [matrix[r-1][c],matrix[r-1][c-1],matrix[r][c-1],matrix[r+1][c-1],matrix[r+1][c]]\n",
    "                cnt[r][c] = nostar.count('*')\n",
    "            elif c != col-1 and c != 0 and r == row-1: #아래 벽\n",
    "                nostar = [matrix[r][c-1],matrix[r-1][c-1],matrix[r-1][c],matrix[r-1][c+1],matrix[r][c+1]]\n",
    "                cnt[r][c] = nostar.count('*')\n",
    "            elif c != col-1 and c != 0 and r == 0: #위쪽 벽\n",
    "                nostar = [matrix[r][c-1],matrix[r+1][c-1],matrix[r+1][c],matrix[r+1][c+1],matrix[r][c+1]]\n",
    "                cnt[r][c] = nostar.count('*')\n",
    "            elif c == 0 and r != 0 and r != row-1: #좌측 벽\n",
    "                nostar = [matrix[r-1][c],matrix[r-1][c+1],matrix[r][c+1],matrix[r+1][c+1],matrix[r+1][c]]\n",
    "                cnt[r][c] = nostar.count('*')\n",
    "            else:\n",
    "                nostar = [matrix[r-1][c-1],matrix[r-1][c],matrix[r-1][c+1],matrix[r][c+1],matrix[r+1][c+1],matrix[r+1][c],matrix[r+1][c-1],matrix[r][c-1]] #11시방향 시작 9시방향끝\n",
    "                cnt[r][c] = nostar.count('*')\n",
    "                \n",
    "        else:\n",
    "            cnt[r][c] = '*'\n",
    "for i in cnt:\n",
    "    for j in i:\n",
    "        print(j,end='')\n",
    "    print()"
   ]
  },
  {
   "cell_type": "code",
   "execution_count": 1,
   "metadata": {},
   "outputs": [],
   "source": [
    "def Fib(n):\n",
    "\n",
    "    if 0<n<=2:\n",
    "        num = 1\n",
    "    else:\n",
    "        num = Fib(n-1)+Fib(n-2)\n",
    "    return num"
   ]
  },
  {
   "cell_type": "code",
   "execution_count": 3,
   "metadata": {},
   "outputs": [
    {
     "data": {
      "text/plain": [
       "{1, 2, 4, 5}"
      ]
     },
     "execution_count": 3,
     "metadata": {},
     "output_type": "execute_result"
    }
   ],
   "source": [
    "a = {1, 2, 3}\n",
    "b = {3, 4, 5}\n",
    "a^b"
   ]
  },
  {
   "cell_type": "code",
   "execution_count": 18,
   "metadata": {},
   "outputs": [],
   "source": [
    "a,b = map(int,input().split())\n",
    "a = {i for i in range(1,a+1) if a%i==0}\n",
    "b = {i for i in range(1,b+1) if b%i==0}"
   ]
  },
  {
   "cell_type": "code",
   "execution_count": 89,
   "metadata": {},
   "outputs": [
    {
     "name": "stdout",
     "output_type": "stream",
     "text": [
      "did\n",
      "noon\n",
      "refer\n"
     ]
    }
   ],
   "source": [
    "\n",
    "with open('words.txt','r') as file:\n",
    "\n",
    "    word = file.readlines()\n",
    "    \n",
    "    for i in word:\n",
    "        i= i.strip('\\n')\n",
    "        \n",
    "        if i == i[::-1]:\n",
    "            print(i)\n"
   ]
  },
  {
   "cell_type": "code",
   "execution_count": 164,
   "metadata": {},
   "outputs": [],
   "source": [
    "def get_min_max_score(*args):\n",
    "    score = []\n",
    "    for arg in args:\n",
    "        score.append(arg)\n",
    "    \n",
    "    return min(score),max(score)\n",
    "\n",
    "def get_average(**args):\n",
    "\n",
    "    return sum(args.values())/len(args)"
   ]
  },
  {
   "cell_type": "code",
   "execution_count": 139,
   "metadata": {},
   "outputs": [],
   "source": [
    "korean, english, mathematics, science = map(int, input().split())"
   ]
  },
  {
   "cell_type": "code",
   "execution_count": 149,
   "metadata": {},
   "outputs": [
    {
     "data": {
      "text/plain": [
       "(55, 88)"
      ]
     },
     "execution_count": 149,
     "metadata": {},
     "output_type": "execute_result"
    }
   ],
   "source": [
    "get_min_max_score(korean, english, mathematics, science)"
   ]
  },
  {
   "cell_type": "code",
   "execution_count": 165,
   "metadata": {},
   "outputs": [
    {
     "data": {
      "text/plain": [
       "71.5"
      ]
     },
     "execution_count": 165,
     "metadata": {},
     "output_type": "execute_result"
    }
   ],
   "source": [
    "get_average(korean=korean, english=english, mathematics=mathematics, science=science)"
   ]
  },
  {
   "cell_type": "code",
   "execution_count": 183,
   "metadata": {},
   "outputs": [],
   "source": [
    "class Time:\n",
    "    def __init__(self,hour,minute,second):\n",
    "        self.hour = hour\n",
    "        self.minute = minute\n",
    "        self.second = second\n",
    "    @staticmethod\n",
    "    def is_time_valid(time_string):\n",
    "        hour,minute,second = map(int,time_string.split(\":\"))\n",
    "        return hour<25 and minute<60 and second<61\n",
    "    @staticmethod    \n",
    "    def from_string(time_string):\n",
    "        hour,minute,second = map(int,time_string.split(\":\"))\n",
    "        time = Time(hour,minute,second)\n",
    "        return time"
   ]
  },
  {
   "cell_type": "code",
   "execution_count": 184,
   "metadata": {},
   "outputs": [
    {
     "name": "stdout",
     "output_type": "stream",
     "text": [
      "12 44 22\n"
     ]
    }
   ],
   "source": [
    "time_string = input()\n",
    " \n",
    "if Time.is_time_valid(time_string):\n",
    "    t = Time.from_string(time_string)\n",
    "    print(t.hour, t.minute, t.second)\n",
    "else:\n",
    "    print('잘못된 시간 형식입니다.')"
   ]
  },
  {
   "cell_type": "code",
   "execution_count": 13,
   "metadata": {},
   "outputs": [],
   "source": [
    "class Jss:\n",
    "\tdef __init__(self):\n",
    "\t\t\tself.name = input('이름 : ')\n",
    "\t\t\tself.age = input('나이 : ')\n",
    "\tdef show(self):\n",
    "\t\t\tprint(f\"나의 이름은 {self.name}, 나이는 {self.age}세입니다.\")\n",
    "\n",
    "class Jss2(Jss):\n",
    "    def __init__(self):\n",
    "        super().__init__() # Jss.__init__의 정보를 그대로 불러온다. \n",
    "        self.gender = input('성별 : ')\n",
    "            \n",
    "    def show(self):\n",
    "        print(f\"나의 이름은 {self.name} {self.gender}이며, 나이는 {self.age}세입니다.\")"
   ]
  },
  {
   "cell_type": "code",
   "execution_count": null,
   "metadata": {},
   "outputs": [],
   "source": [
    "'''\n",
    "(0,0) 0,1 0,2\n",
    "1,0\n",
    "2,0\n",
    "8방향 탐색이 필요\n",
    "[i][j] limit 0<= / max col,row\n",
    "'''\n",
    "col,row = map(int,input().split())\n",
    "matrix = []\n",
    "for i in range(row):\n",
    "    matrix.append(list(input()))\n",
    "cnt = [[0 for co in range(col)] for ro in range(row)]\n",
    "for c in range(col):\n",
    "    for r in range(row):\n",
    "        if matrix[r][c]=='.':\n",
    "            if c == 0 and r==0: #왼쪽 상단 3방향\n",
    "                nostar = [matrix[r][c+1],matrix[r+1][c],matrix[r+1][c+1]]\n",
    "                cnt[0][0] = nostar.count('*')\n",
    "\n",
    "            elif c == col-1 and r==0: #우측 상단\n",
    "                nostar = [matrix[r][c-1],matrix[r+1][c-1],matrix[r+1][c]]\n",
    "                cnt[0][c] = nostar.count('*')\n",
    "\n",
    "            elif c == col-1 and r==row-1: #우측 하단\n",
    "                nostar = [matrix[r][c-1],matrix[r-1][c],matrix[r-1][c-1]]\n",
    "                cnt[r][c] = nostar.count('*')\n",
    "\n",
    "            elif c == 0 and r==row-1: #좌측 하단\n",
    "                nostar = [matrix[r-1][c],matrix[r-1][c+1],matrix[r][c+1]]\n",
    "                cnt[r][0] = nostar.count('*')\n",
    "\n",
    "            elif c == col-1 and r != 0 and r != row-1: #우측 벽\n",
    "                nostar = [matrix[r-1][c],matrix[r-1][c-1],matrix[r][c-1],matrix[r+1][c-1],matrix[r+1][c]]\n",
    "                cnt[r][c] = nostar.count('*')\n",
    "            elif c != col-1 and c != 0 and r == row-1: #아래 벽\n",
    "                nostar = [matrix[r][c-1],matrix[r-1][c-1],matrix[r-1][c],matrix[r-1][c+1],matrix[r][c+1]]\n",
    "                cnt[r][c] = nostar.count('*')\n",
    "            elif c != col-1 and c != 0 and r == 0: #위쪽 벽\n",
    "                nostar = [matrix[r][c-1],matrix[r+1][c-1],matrix[r+1][c],matrix[r+1][c+1],matrix[r][c+1]]\n",
    "                cnt[r][c] = nostar.count('*')\n",
    "            elif c == 0 and r != 0 and r != row-1: #좌측 벽\n",
    "                nostar = [matrix[r-1][c],matrix[r-1][c+1],matrix[r][c+1],matrix[r+1][c+1],matrix[r+1][c]]\n",
    "                cnt[r][c] = nostar.count('*')\n",
    "            else:\n",
    "                nostar = [matrix[r-1][c-1],matrix[r-1][c],matrix[r-1][c+1],matrix[r][c+1],matrix[r+1][c+1],matrix[r+1][c],matrix[r+1][c-1],matrix[r][c-1]] #11시방향 시작 9시방향끝\n",
    "                cnt[r][c] = nostar.count('*')\n",
    "\n",
    "        else:\n",
    "            cnt[r][c] = '*'\n",
    "for i in cnt:\n",
    "    for j in i:\n",
    "        print(j,end='')\n",
    "print()"
   ]
  },
  {
   "cell_type": "code",
   "execution_count": 5,
   "metadata": {},
   "outputs": [
    {
     "data": {
      "text/plain": [
       "\"the grown-ups' response, this time, was to advise me to lay aside my drawings of boa constrictors, whether from the inside or the outside, and devote myself instead to geography, history, arithmetic, and grammar. That is why, at the, age of six, I gave up what might have been a magnificent career as a painter. I had been disheartened by the failure of my Drawing Number One and my Drawing Number Two. Grown-ups never understand anything by themselves, and it is tiresome for children to be always and forever explaining things to the.\""
      ]
     },
     "execution_count": 5,
     "metadata": {},
     "output_type": "execute_result"
    }
   ],
   "source": [
    "txt = \"the grown-ups' response, this time, was to advise me to lay aside my drawings of boa constrictors, whether from the inside or the outside, and devote myself instead to geography, history, arithmetic, and grammar. That is why, at the, age of six, I gave up what might have been a magnificent career as a painter. I had been disheartened by the failure of my Drawing Number One and my Drawing Number Two. Grown-ups never understand anything by themselves, and it is tiresome for children to be always and forever explaining things to the.\"\n",
    "txt"
   ]
  },
  {
   "cell_type": "code",
   "execution_count": 28,
   "metadata": {},
   "outputs": [
    {
     "name": "stdout",
     "output_type": "stream",
     "text": [
      "6\n"
     ]
    }
   ],
   "source": [
    "input_txt = input().split()\n",
    "count = 0\n",
    "for i in input_txt:\n",
    "    i = i.strip(',.')\n",
    "    if i == 'the':\n",
    "        count +=1\n",
    "print(count)"
   ]
  },
  {
   "cell_type": "code",
   "execution_count": 72,
   "metadata": {},
   "outputs": [
    {
     "name": "stdout",
     "output_type": "stream",
     "text": [
      "3.6 3.6 2.7\n"
     ]
    }
   ],
   "source": [
    "import copy\n",
    "x = {'python': {'version': '2.7'}, 'script': {'name': 'hello.py'}}\n",
    "a = x\n",
    "b = x.copy()\n",
    "c = copy.deepcopy(x)\n",
    "x['python']['version'] = '3.6'\n",
    "print(a['python']['version'], b['python']['version'], c['python']['version'])"
   ]
  },
  {
   "cell_type": "code",
   "execution_count": 73,
   "metadata": {},
   "outputs": [
    {
     "data": {
      "text/plain": [
       "{'python': {'version': '3.6'}, 'script': {'name': 'hello.py'}}"
      ]
     },
     "execution_count": 73,
     "metadata": {},
     "output_type": "execute_result"
    }
   ],
   "source": [
    "a"
   ]
  },
  {
   "cell_type": "code",
   "execution_count": null,
   "metadata": {},
   "outputs": [],
   "source": []
  }
 ],
 "metadata": {
  "interpreter": {
   "hash": "5d8d571171281f475496b4f9f70f9ec0a2204912d492e0388db3f1fd6aa4af88"
  },
  "kernelspec": {
   "display_name": "Python 3.7.9 64-bit",
   "language": "python",
   "name": "python3"
  },
  "language_info": {
   "codemirror_mode": {
    "name": "ipython",
    "version": 3
   },
   "file_extension": ".py",
   "mimetype": "text/x-python",
   "name": "python",
   "nbconvert_exporter": "python",
   "pygments_lexer": "ipython3",
<<<<<<< HEAD
   "version": "3.7.11"
=======
   "version": "3.9.7"
>>>>>>> 8a9d6ac68f2388f5eb7d753b7fdda7b15b81ddca
  },
  "orig_nbformat": 4
 },
 "nbformat": 4,
 "nbformat_minor": 2
}
