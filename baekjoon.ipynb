{
 "cells": [
  {
   "cell_type": "code",
   "execution_count": 6,
   "metadata": {},
   "outputs": [
    {
     "name": "stdout",
     "output_type": "stream",
     "text": [
      "\\    /\\\n",
      " )  ( ')\n",
      "(  /  )\n",
      " \\(__)|\n"
     ]
    }
   ],
   "source": [
    "#10171 기호작성법 실수하지 않기 (\\\\)\n",
    "print(\"\\    /\\\\\")\n",
    "print(\" )  ( ')\")\n",
    "print(\"(  /  )\")\n",
    "print(\" \\(__)|\")"
   ]
  },
  {
   "cell_type": "code",
   "execution_count": 12,
   "metadata": {},
   "outputs": [
    {
     "name": "stdout",
     "output_type": "stream",
     "text": [
      "|\\_/|\n",
      "|q p|   /}\n",
      "( 0 )\"\"\"\\\n",
      "|\"^\"`    |\n",
      "||_/=\\\\__|\n"
     ]
    }
   ],
   "source": [
    "#10172 (')\n",
    "\n",
    "print(\"|\\_/|\")\n",
    "print(\"|q p|   /}\")\n",
    "print('( 0 )\"\"\"\\\\')\n",
    "print('|\"^\"`    |')\n",
    "print('||_/=\\\\\\__|')"
   ]
  },
  {
   "cell_type": "code",
   "execution_count": 33,
   "metadata": {},
   "outputs": [
    {
     "name": "stdout",
     "output_type": "stream",
     "text": [
      "3\n"
     ]
    }
   ],
   "source": [
    "\n",
    "#1000 input().split() 숙지, int를 어디에 쓰느냐에 따라 답이 달라지니 주의!, input = str\n",
    "\n",
    "A, B = input().split()\n",
    "if 0 < int(A) < 10:\n",
    "    if 0 < int(B) < 10:\n",
    "        print(int(A)+int(B))\n",
    "else:\n",
    "    print(\"0보다 크고 10보다 작은 수를 입력해주세요.\")"
   ]
  },
  {
   "cell_type": "code",
   "execution_count": 19,
   "metadata": {},
   "outputs": [
    {
     "name": "stdout",
     "output_type": "stream",
     "text": [
      "-1\n"
     ]
    }
   ],
   "source": [
    "#1001 \n",
    "A,B = map(int, input().split())\n",
    "if 0 < A < 10:\n",
    "    if 0 < A < 10:\n",
    "        print(A-B)\n",
    "else:\n",
    "    print(\"0보다 크고 10보다 작은 수를 입력해주세요.\")\n"
   ]
  },
  {
   "cell_type": "code",
   "execution_count": 20,
   "metadata": {},
   "outputs": [
    {
     "name": "stdout",
     "output_type": "stream",
     "text": [
      "12\n"
     ]
    }
   ],
   "source": [
    "#10998\n",
    "a, b = map(int, input().split())\n",
    "\n",
    "print(a*b)"
   ]
  },
  {
   "cell_type": "code",
   "execution_count": 22,
   "metadata": {},
   "outputs": [
    {
     "name": "stdout",
     "output_type": "stream",
     "text": [
      "1.5\n"
     ]
    }
   ],
   "source": [
    "#1008\n",
    "a, b = map(int, input().split())\n",
    "\n",
    "print(a/b)"
   ]
  },
  {
   "cell_type": "code",
   "execution_count": 23,
   "metadata": {},
   "outputs": [
    {
     "name": "stdout",
     "output_type": "stream",
     "text": [
      "15\n",
      "5\n",
      "50\n",
      "2.0\n",
      "2\n"
     ]
    }
   ],
   "source": [
    "#10869 몫 나머지 구하는법 기억하기!\n",
    "a,b = map(int,input().split())\n",
    "\n",
    "print(a+b)\n",
    "print(a-b)\n",
    "print(a*b)\n",
    "print(a//b)\n",
    "print(a%b)"
   ]
  },
  {
   "cell_type": "code",
   "execution_count": 1,
   "metadata": {},
   "outputs": [
    {
     "name": "stdout",
     "output_type": "stream",
     "text": [
      "joonas??!\n"
     ]
    }
   ],
   "source": [
    "#10926 isupper, islower 기억하기!\n",
    "id = input()\n",
    "if len(id) > 50: print(\"50자를 넘기지마세요.\")\n",
    "elif id.islower(): \n",
    "    print(id+\"??!\")\n",
    "\n",
    "\n",
    "#다른 답\n",
    "# import sys\n",
    "# id = sys.stdin.readline().strip()\n",
    "# print(id+'??!')"
   ]
  },
  {
   "cell_type": "code",
   "execution_count": 4,
   "metadata": {},
   "outputs": [
    {
     "name": "stdout",
     "output_type": "stream",
     "text": [
      "1998\n"
     ]
    }
   ],
   "source": [
    "#18108\n",
    "Byear_input = int(input()) \n",
    "if Byear_input < 1000 | 3000 < Byear_input: print(\"다시 입력해주세요.\")\n",
    "Syear = Byear_input - 543\n",
    "print(Syear)"
   ]
  },
  {
   "cell_type": "code",
   "execution_count": 6,
   "metadata": {},
   "outputs": [
    {
     "name": "stdout",
     "output_type": "stream",
     "text": [
      "0\n",
      "0\n",
      "2\n",
      "2\n"
     ]
    }
   ],
   "source": [
    "#10430\n",
    "A,B,C = map(int, input().split())\n",
    "print((A+B)%C)\n",
    "print(((A%C) + (B%C))%C)\n",
    "print((A*B)%C)\n",
    "print(((A%C)*(B%C))%C)"
   ]
  },
  {
   "cell_type": "code",
   "execution_count": 31,
   "metadata": {},
   "outputs": [
    {
     "name": "stdout",
     "output_type": "stream",
     "text": [
      "2360\n",
      "3776\n",
      "1416\n",
      "181720\n"
     ]
    }
   ],
   "source": [
    "#2588 숫자를 스플릿 하는 방법 for문 사용하기 숙지!\n",
    "a = int(input())\n",
    "b = int(input())\n",
    "if a > 1000 or 99 > a:\n",
    "    print(\"세자리 자연수를 입력해주세요.\")\n",
    "elif b > 1000 or 99 > b: \n",
    "    print(\"세자리 자연수를 입력해주세요.\")\n",
    "b = [int(x) for x in str(b)]\n",
    "first = a*b[-1]\n",
    "second = a*b[-2]\n",
    "third = a*b[-3] \n",
    "fin = first + second*10 + third*100\n",
    "print(first)\n",
    "print(second)\n",
    "print(third)\n",
    "print(fin)"
   ]
  },
  {
   "cell_type": "code",
   "execution_count": 1,
   "metadata": {},
   "outputs": [
    {
     "name": "stdout",
     "output_type": "stream",
     "text": [
      "<\n"
     ]
    }
   ],
   "source": [
    "#1330\n",
    "A,B = map(int,input().split())\n",
    "\n",
    "if A > B : print('>')\n",
    "if A < B : print('<')\n",
    "if A == B : print('==')"
   ]
  },
  {
   "cell_type": "code",
   "execution_count": 6,
   "metadata": {},
   "outputs": [
    {
     "name": "stdout",
     "output_type": "stream",
     "text": [
      "0~100을 입력해주세요.\n"
     ]
    }
   ],
   "source": [
    "#9498\n",
    "score = int(input())\n",
    "if score < 0 or score >100: print(\"0~100을 입력해주세요.\")\n",
    "if 90<= score <= 100: print(\"A\")\n",
    "if 80<= score < 90: print(\"B\")\n",
    "if 70<= score < 80: print(\"C\")\n",
    "if 60<= score < 70: print(\"D\")\n",
    "if 0 <= score <60: print(\"F\")"
   ]
  },
  {
   "cell_type": "code",
   "execution_count": 9,
   "metadata": {},
   "outputs": [
    {
     "name": "stdout",
     "output_type": "stream",
     "text": [
      "1 이상 4000이상의 자연수만 입력해주세요.\n"
     ]
    }
   ],
   "source": [
    "#2753\n",
    "year = int(input())\n",
    "if 1 <= year <= 4000:\n",
    "    if year % 4 == 0 and year % 100 != 0: print(1) \n",
    "    elif year % 100 == 0 and year % 400 == 0: print(1)\n",
    "    else: print(0)\n",
    "else: print(\"1 이상 4000이상의 자연수만 입력해주세요.\")"
   ]
  },
  {
   "cell_type": "code",
   "execution_count": null,
   "metadata": {},
   "outputs": [],
   "source": []
  }
 ],
 "metadata": {
  "interpreter": {
   "hash": "68fd6408936fcd5ca255860570d9e2fe47742966f07f9bb56bc610b21d944342"
  },
  "kernelspec": {
   "display_name": "Python 3.8.8 ('base')",
   "language": "python",
   "name": "python3"
  },
  "language_info": {
   "codemirror_mode": {
    "name": "ipython",
    "version": 3
   },
   "file_extension": ".py",
   "mimetype": "text/x-python",
   "name": "python",
   "nbconvert_exporter": "python",
   "pygments_lexer": "ipython3",
   "version": "3.8.8"
  },
  "orig_nbformat": 4
 },
 "nbformat": 4,
 "nbformat_minor": 2
}
