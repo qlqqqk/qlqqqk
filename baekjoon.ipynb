{
 "cells": [
  {
   "cell_type": "code",
   "execution_count": 6,
   "metadata": {},
   "outputs": [
    {
     "name": "stdout",
     "output_type": "stream",
     "text": [
      "\\    /\\\n",
      " )  ( ')\n",
      "(  /  )\n",
      " \\(__)|\n"
     ]
    }
   ],
   "source": [
    "#10171 기호작성법 실수하지 않기 (\\\\)\n",
    "print(\"\\    /\\\\\")\n",
    "print(\" )  ( ')\")\n",
    "print(\"(  /  )\")\n",
    "print(\" \\(__)|\")"
   ]
  },
  {
   "cell_type": "code",
   "execution_count": 12,
   "metadata": {},
   "outputs": [
    {
     "name": "stdout",
     "output_type": "stream",
     "text": [
      "|\\_/|\n",
      "|q p|   /}\n",
      "( 0 )\"\"\"\\\n",
      "|\"^\"`    |\n",
      "||_/=\\\\__|\n"
     ]
    }
   ],
   "source": [
    "#10172 (')\n",
    "\n",
    "print(\"|\\_/|\")\n",
    "print(\"|q p|   /}\")\n",
    "print('( 0 )\"\"\"\\\\')\n",
    "print('|\"^\"`    |')\n",
    "print('||_/=\\\\\\__|')"
   ]
  },
  {
   "cell_type": "code",
   "execution_count": 33,
   "metadata": {},
   "outputs": [
    {
     "name": "stdout",
     "output_type": "stream",
     "text": [
      "3\n"
     ]
    }
   ],
   "source": [
    "\n",
    "#1000 input().split() 숙지, int를 어디에 쓰느냐에 따라 답이 달라지니 주의!, input = str\n",
    "\n",
    "A, B = input().split()\n",
    "if 0 < int(A) < 10:\n",
    "    if 0 < int(B) < 10:\n",
    "        print(int(A)+int(B))\n",
    "else:\n",
    "    print(\"0보다 크고 10보다 작은 수를 입력해주세요.\")"
   ]
  },
  {
   "cell_type": "code",
   "execution_count": 19,
   "metadata": {},
   "outputs": [
    {
     "name": "stdout",
     "output_type": "stream",
     "text": [
      "-1\n"
     ]
    }
   ],
   "source": [
    "#1001 \n",
    "A,B = map(int, input().split())\n",
    "if 0 < A < 10:\n",
    "    if 0 < A < 10:\n",
    "        print(A-B)\n",
    "else:\n",
    "    print(\"0보다 크고 10보다 작은 수를 입력해주세요.\")\n"
   ]
  },
  {
   "cell_type": "code",
   "execution_count": 20,
   "metadata": {},
   "outputs": [
    {
     "name": "stdout",
     "output_type": "stream",
     "text": [
      "12\n"
     ]
    }
   ],
   "source": [
    "#10998\n",
    "a, b = map(int, input().split())\n",
    "\n",
    "print(a*b)"
   ]
  },
  {
   "cell_type": "code",
   "execution_count": 22,
   "metadata": {},
   "outputs": [
    {
     "name": "stdout",
     "output_type": "stream",
     "text": [
      "1.5\n"
     ]
    }
   ],
   "source": [
    "#1008\n",
    "a, b = map(int, input().split())\n",
    "\n",
    "print(a/b)"
   ]
  },
  {
   "cell_type": "code",
   "execution_count": 23,
   "metadata": {},
   "outputs": [
    {
     "name": "stdout",
     "output_type": "stream",
     "text": [
      "15\n",
      "5\n",
      "50\n",
      "2.0\n",
      "2\n"
     ]
    }
   ],
   "source": [
    "#10869 몫 나머지 구하는법 기억하기!\n",
    "a,b = map(int,input().split())\n",
    "\n",
    "print(a+b)\n",
    "print(a-b)\n",
    "print(a*b)\n",
    "print(a//b)\n",
    "print(a%b)"
   ]
  },
  {
   "cell_type": "code",
   "execution_count": 1,
   "metadata": {},
   "outputs": [
    {
     "name": "stdout",
     "output_type": "stream",
     "text": [
      "joonas??!\n"
     ]
    }
   ],
   "source": [
    "#10926 isupper, islower 기억하기!\n",
    "id = input()\n",
    "if len(id) > 50: print(\"50자를 넘기지마세요.\")\n",
    "elif id.islower(): \n",
    "    print(id+\"??!\")\n",
    "\n",
    "\n",
    "#다른 답\n",
    "# import sys\n",
    "# id = sys.stdin.readline().strip()\n",
    "# print(id+'??!')"
   ]
  },
  {
   "cell_type": "code",
   "execution_count": 4,
   "metadata": {},
   "outputs": [
    {
     "name": "stdout",
     "output_type": "stream",
     "text": [
      "1998\n"
     ]
    }
   ],
   "source": [
    "#18108\n",
    "Byear_input = int(input()) \n",
    "if Byear_input < 1000 | 3000 < Byear_input: print(\"다시 입력해주세요.\")\n",
    "Syear = Byear_input - 543\n",
    "print(Syear)"
   ]
  },
  {
   "cell_type": "code",
   "execution_count": 6,
   "metadata": {},
   "outputs": [
    {
     "name": "stdout",
     "output_type": "stream",
     "text": [
      "0\n",
      "0\n",
      "2\n",
      "2\n"
     ]
    }
   ],
   "source": [
    "#10430\n",
    "A,B,C = map(int, input().split())\n",
    "print((A+B)%C)\n",
    "print(((A%C) + (B%C))%C)\n",
    "print((A*B)%C)\n",
    "print(((A%C)*(B%C))%C)"
   ]
  },
  {
   "cell_type": "code",
   "execution_count": 31,
   "metadata": {},
   "outputs": [
    {
     "name": "stdout",
     "output_type": "stream",
     "text": [
      "2360\n",
      "3776\n",
      "1416\n",
      "181720\n"
     ]
    }
   ],
   "source": [
    "#2588 숫자를 스플릿 하는 방법 for문 사용하기 숙지!\n",
    "a = int(input())\n",
    "b = int(input())\n",
    "if a > 1000 or 99 > a:\n",
    "    print(\"세자리 자연수를 입력해주세요.\")\n",
    "elif b > 1000 or 99 > b: \n",
    "    print(\"세자리 자연수를 입력해주세요.\")\n",
    "b = [int(x) for x in str(b)]\n",
    "first = a*b[-1]\n",
    "second = a*b[-2]\n",
    "third = a*b[-3] \n",
    "fin = first + second*10 + third*100\n",
    "print(first)\n",
    "print(second)\n",
    "print(third)\n",
    "print(fin)"
   ]
  },
  {
   "cell_type": "code",
   "execution_count": 1,
   "metadata": {},
   "outputs": [
    {
     "name": "stdout",
     "output_type": "stream",
     "text": [
      "<\n"
     ]
    }
   ],
   "source": [
    "#1330\n",
    "A,B = map(int,input().split())\n",
    "\n",
    "if A > B : print('>')\n",
    "if A < B : print('<')\n",
    "if A == B : print('==')"
   ]
  },
  {
   "cell_type": "code",
   "execution_count": 6,
   "metadata": {},
   "outputs": [
    {
     "name": "stdout",
     "output_type": "stream",
     "text": [
      "0~100을 입력해주세요.\n"
     ]
    }
   ],
   "source": [
    "#9498\n",
    "score = int(input())\n",
    "if score < 0 or score >100: print(\"0~100을 입력해주세요.\")\n",
    "if 90<= score <= 100: print(\"A\")\n",
    "if 80<= score < 90: print(\"B\")\n",
    "if 70<= score < 80: print(\"C\")\n",
    "if 60<= score < 70: print(\"D\")\n",
    "if 0 <= score <60: print(\"F\")"
   ]
  },
  {
   "cell_type": "code",
   "execution_count": 9,
   "metadata": {},
   "outputs": [
    {
     "name": "stdout",
     "output_type": "stream",
     "text": [
      "1 이상 4000이상의 자연수만 입력해주세요.\n"
     ]
    }
   ],
   "source": [
    "#2753\n",
    "year = int(input())\n",
    "if 1 <= year <= 4000:\n",
    "    if year % 4 == 0 and year % 100 != 0: print(1) \n",
    "    elif year % 100 == 0 and year % 400 == 0: print(1)\n",
    "    else: print(0)\n",
    "else: print(\"1 이상 4000이상의 자연수만 입력해주세요.\")"
   ]
  },
  {
   "cell_type": "code",
   "execution_count": 3,
   "metadata": {},
   "outputs": [
    {
     "data": {
      "text/plain": [
       "2"
      ]
     },
     "execution_count": 3,
     "metadata": {},
     "output_type": "execute_result"
    }
   ],
   "source": [
    "#14681\n",
    "x = int(input())\n",
    "y = int(input())\n",
    "\n",
    "if x > 0:\n",
    "    if y > 0:\n",
    "        print(1) \n",
    "    elif y < 0:\n",
    "        print(4)\n",
    "elif x < 0:\n",
    "    if y > 0:\n",
    "        print(2) \n",
    "    elif y < 0:\n",
    "        print(3)         "
   ]
  },
  {
   "cell_type": "code",
   "execution_count": 9,
   "metadata": {},
   "outputs": [
    {
     "name": "stdout",
     "output_type": "stream",
     "text": [
      "23 39\n"
     ]
    }
   ],
   "source": [
    "#2884\n",
    "H,M = map(int,input().split())\n",
    "\n",
    "\n",
    "if M < 45 : \n",
    "    if H == 0:\n",
    "        H = (H+24)\n",
    "    \n",
    "    H = H-1\n",
    "    M = (M+60) - 45\n",
    "\n",
    "else:\n",
    "    M = M - 45\n",
    "\n",
    "print(H,M) "
   ]
  },
  {
   "cell_type": "code",
   "execution_count": 23,
   "metadata": {},
   "outputs": [
    {
     "name": "stdout",
     "output_type": "stream",
     "text": [
      "0 13\n"
     ]
    }
   ],
   "source": [
    "#2525 minute 먼저 처리해서 time +1 에 대한 경우의 수 만들어줘야함.\n",
    "A, B = map(int,input().split())#현재시각 출력 HH MM\n",
    "C = int(input())#요리하는데 필요한 시간 MM\n",
    "time = C // 60\n",
    "minute = C % 60\n",
    "\n",
    "if minute + B >= 60:\n",
    "    B = B-60+minute\n",
    "    A = A+1\n",
    "else: B = B+minute\n",
    "    \n",
    "if A + time >= 24:\n",
    "    A = A - 24+ time\n",
    "else: A = A + time\n",
    "\n",
    "print(A,B)        "
   ]
  },
  {
   "cell_type": "code",
   "execution_count": 29,
   "metadata": {},
   "outputs": [
    {
     "name": "stdout",
     "output_type": "stream",
     "text": [
      "600\n"
     ]
    }
   ],
   "source": [
    "#2480\n",
    "a,b,c = map(int,input().split())\n",
    "prize = 0\n",
    "if a==b==c:#같은눈 3개\n",
    "    prize = 10000+(a*1000)\n",
    "elif a==b: #같은눈 2개 이걸 다르게 표현하는 방법?\n",
    "    prize = 1000 +(a*100)\n",
    "elif b==c:\n",
    "    prize = 1000 +(b*100)\n",
    "elif a==c:\n",
    "    prize = 1000 +(a*100)\n",
    "else: # 나머지\n",
    "    list = [a,b,c]\n",
    "    list = sorted(list)\n",
    "    prize = list[-1]*100\n",
    "print(prize)"
   ]
  },
  {
   "cell_type": "code",
   "execution_count": 7,
   "metadata": {},
   "outputs": [
    {
     "name": "stdout",
     "output_type": "stream",
     "text": [
      "3 * 1 = 3\n",
      "3 * 2 = 6\n",
      "3 * 3 = 9\n",
      "3 * 4 = 12\n",
      "3 * 5 = 15\n",
      "3 * 6 = 18\n",
      "3 * 7 = 21\n",
      "3 * 8 = 24\n",
      "3 * 9 = 27\n"
     ]
    }
   ],
   "source": [
    "#2739 f 스트링 사용법 기억하기\n",
    "N = int(input())\n",
    "for i in range(1,10):\n",
    "    print(f'{N} * {i} =', N*i)"
   ]
  },
  {
   "cell_type": "code",
   "execution_count": 13,
   "metadata": {},
   "outputs": [
    {
     "name": "stdout",
     "output_type": "stream",
     "text": [
      "2\n",
      "5\n",
      "7\n",
      "17\n",
      "7\n"
     ]
    }
   ],
   "source": [
    "#10950 \n",
    "T = int(input())\n",
    "for i in range(T):\n",
    "    A,B = map(int,input().split())\n",
    "    print(A+B)"
   ]
  },
  {
   "cell_type": "code",
   "execution_count": 21,
   "metadata": {},
   "outputs": [
    {
     "name": "stdout",
     "output_type": "stream",
     "text": [
      "6\n"
     ]
    }
   ],
   "source": [
    "#8393\n",
    "n = int(input())\n",
    "\n",
    "count = []\n",
    "for i in range(1,n+1):\n",
    "    count.append(i)\n",
    "fin = sum(count)\n",
    "print(fin)"
   ]
  },
  {
   "cell_type": "code",
   "execution_count": 3,
   "metadata": {},
   "outputs": [],
   "source": [
    "#15552 input 과 sys.stdin.readine 왜... vscode 설정하는 법....\n",
    "import sys\n",
    "n = int(input())\n",
    "\n",
    "for i in range(n):\n",
    "    A,B = map(int,sys.stdin.readline().split())\n",
    "    print(A+B)"
   ]
  },
  {
   "cell_type": "code",
   "execution_count": 2,
   "metadata": {},
   "outputs": [],
   "source": [
    "#2741\n",
    "import sys\n",
    "n = int(sys.stdin.readline().rstrip())\n",
    "for i in range(1,n+1):\n",
    "    print(i)"
   ]
  },
  {
   "cell_type": "code",
   "execution_count": 5,
   "metadata": {},
   "outputs": [
    {
     "name": "stdout",
     "output_type": "stream",
     "text": [
      "5\n",
      "4\n",
      "3\n",
      "2\n",
      "1\n"
     ]
    }
   ],
   "source": [
    "#2742 range 역순 기억하기\n",
    "n = int(input())\n",
    "\n",
    "for i in range(n,0,-1):\n",
    "    print(i)"
   ]
  },
  {
   "cell_type": "code",
   "execution_count": 3,
   "metadata": {},
   "outputs": [
    {
     "name": "stdout",
     "output_type": "stream",
     "text": [
      "Case #1: 3\n"
     ]
    }
   ],
   "source": [
    "#11021 \n",
    "T = int(input())\n",
    "\n",
    "for i in range(1,T+1):\n",
    "    a,b = map(int,input().split())\n",
    "    print(f\"Case #{i}:\",a+b)"
   ]
  },
  {
   "cell_type": "code",
   "execution_count": 4,
   "metadata": {},
   "outputs": [
    {
     "name": "stdout",
     "output_type": "stream",
     "text": [
      "Case #1: 1 + 2 = 3\n"
     ]
    }
   ],
   "source": [
    "#11022\n",
    "T = int(input())\n",
    "\n",
    "for i in range(1,T+1):\n",
    "    a,b = map(int,input().split())\n",
    "    print(f\"Case #{i}: {a} + {b} = {a+b}\")"
   ]
  },
  {
   "cell_type": "code",
   "execution_count": 5,
   "metadata": {},
   "outputs": [
    {
     "name": "stdout",
     "output_type": "stream",
     "text": [
      "*\n",
      "**\n",
      "***\n",
      "****\n",
      "*****\n"
     ]
    }
   ],
   "source": [
    "#2438\n",
    "star = int(input())\n",
    "\n",
    "for i in range(1,star+1):\n",
    "    print(\"*\"*i)"
   ]
  },
  {
   "cell_type": "code",
   "execution_count": 6,
   "metadata": {},
   "outputs": [
    {
     "name": "stdout",
     "output_type": "stream",
     "text": [
      "  *\n",
      " **\n",
      "***\n"
     ]
    }
   ],
   "source": [
    "#2439\n",
    "star = int(input())\n",
    "\n",
    "for i in range(1,star+1):\n",
    "    print((\" \"*(star-i))+\"*\"*i)\n"
   ]
  },
  {
   "cell_type": "code",
   "execution_count": 14,
   "metadata": {},
   "outputs": [
    {
     "name": "stdout",
     "output_type": "stream",
     "text": [
      "1 3 "
     ]
    }
   ],
   "source": [
    "#10871\n",
    "n,x = map(int,input().split()) #n = 수열의 정수 개수  x = 기준 정수\n",
    "a = list(map(int,input().split()))\n",
    "seq = []\n",
    "for i in a:\n",
    "    if i < x:\n",
    "        print(i,end=' ')\n",
    "        #seq.append(i)\n",
    "\n",
    "# print(seq)"
   ]
  },
  {
   "cell_type": "code",
   "execution_count": 5,
   "metadata": {},
   "outputs": [
    {
     "name": "stdout",
     "output_type": "stream",
     "text": [
      "2\n",
      "5\n",
      "1\n"
     ]
    }
   ],
   "source": [
    "#10952\n",
    "\n",
    "while True:\n",
    "    a,b = map(int,input().split())\n",
    "    if a==0 and b==0: break\n",
    "    print(a+b)\n"
   ]
  },
  {
   "cell_type": "code",
   "execution_count": 6,
   "metadata": {},
   "outputs": [],
   "source": [
    "#10951\n",
    "while True:\n",
    "    try:\n",
    "        a,b = map(int,input().split())\n",
    "        print(a+b)\n",
    "    except: break"
   ]
  },
  {
   "cell_type": "code",
   "execution_count": 35,
   "metadata": {},
   "outputs": [
    {
     "name": "stdout",
     "output_type": "stream",
     "text": [
      "4\n"
     ]
    }
   ],
   "source": [
    "#1110 제대로 못풀음\n",
    "'''ex. 08 = 8 8+8 = 16 8+6 = 14 6+4 = 10 0+4 = 4, 8''' \n",
    "cnt = 0\n",
    "n = int(input())\n",
    "num = n  \n",
    "while True:\n",
    "    sum_n =  num//10 + num%10\n",
    "    new_n = ((num%10)*10) + (sum_n % 10)\n",
    "    cnt += 1\n",
    "    if n == new_n: break\n",
    "        \n",
    "    num = new_n \n",
    "print(cnt)"
   ]
  },
  {
   "cell_type": "code",
   "execution_count": 5,
   "metadata": {},
   "outputs": [
    {
     "name": "stdout",
     "output_type": "stream",
     "text": [
      "22 482\n"
     ]
    }
   ],
   "source": [
    "#10818 내장함수 428ms / 리스트 868ms\n",
    "n = int(input())\n",
    "num = list(map(int,input().split()))\n",
    "#print(min(num),max(num))\n",
    "\n",
    "fast = sorted(num)\n",
    "print(fast[0],fast[-1])"
   ]
  },
  {
   "cell_type": "code",
   "execution_count": 4,
   "metadata": {},
   "outputs": [
    {
     "name": "stdout",
     "output_type": "stream",
     "text": [
      "85\n",
      "7\n"
     ]
    }
   ],
   "source": [
    "#2562\n",
    "num = [] \n",
    "for i in range(9):\n",
    "    n = int(input())\n",
    "    num.append(n)\n",
    "print(max(num))\n",
    "print(num.index(max(num))+1)"
   ]
  },
  {
   "cell_type": "code",
   "execution_count": 11,
   "metadata": {},
   "outputs": [
    {
     "name": "stdout",
     "output_type": "stream",
     "text": [
      "3\n",
      "1\n",
      "0\n",
      "2\n",
      "0\n",
      "0\n",
      "0\n",
      "2\n",
      "0\n",
      "0\n"
     ]
    }
   ],
   "source": [
    "#2577 count 메서드 기억\n",
    "\n",
    "a = int(input())\n",
    "b = int(input())\n",
    "c = int(input())\n",
    "cnt = list(range(10))\n",
    "num = list(map(int,str(a*b*c)))\n",
    "for i in range(10):\n",
    "    print(num.count(i))"
   ]
  },
  {
   "cell_type": "code",
   "execution_count": 13,
   "metadata": {},
   "outputs": [
    {
     "name": "stdout",
     "output_type": "stream",
     "text": [
      "10\n"
     ]
    }
   ],
   "source": [
    "#3052 리스트내 원소 중복처리하는 방법 다시 보기!\n",
    "numbers = []\n",
    "dup = []\n",
    "cnt = 10\n",
    "for i in range(10):\n",
    "    num = int(input())\n",
    "    numbers.append(num%42)\n",
    "    for i in numbers:\n",
    "        if i not in dup:\n",
    "            dup.append(i)\n",
    "print(len(dup))"
   ]
  },
  {
   "cell_type": "code",
   "execution_count": null,
   "metadata": {},
   "outputs": [],
   "source": [
    "#1546\n",
    "M #자기점수중 최대값 점수/M * 100 == 새로운점수\n",
    "N = int(input())\n",
    "grade = list(map(int,input().split()))\n",
    "new_grade = []\n",
    "for i in grade:\n",
    "    new = (i/max(grade)) *100\n",
    "    new_grade.append(new)\n",
    "\n",
    "\n"
   ]
  },
  {
   "cell_type": "code",
   "execution_count": null,
   "metadata": {},
   "outputs": [],
   "source": []
  }
 ],
 "metadata": {
  "interpreter": {
   "hash": "68fd6408936fcd5ca255860570d9e2fe47742966f07f9bb56bc610b21d944342"
  },
  "kernelspec": {
   "display_name": "Python 3.8.8 ('base')",
   "language": "python",
   "name": "python3"
  },
  "language_info": {
   "codemirror_mode": {
    "name": "ipython",
    "version": 3
   },
   "file_extension": ".py",
   "mimetype": "text/x-python",
   "name": "python",
   "nbconvert_exporter": "python",
   "pygments_lexer": "ipython3",
   "version": "3.8.8"
  },
  "orig_nbformat": 4
 },
 "nbformat": 4,
 "nbformat_minor": 2
}
