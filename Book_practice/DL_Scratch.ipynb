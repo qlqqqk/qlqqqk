{
 "cells": [
  {
   "cell_type": "code",
   "execution_count": 14,
   "metadata": {},
   "outputs": [],
   "source": [
    "import numpy as np"
   ]
  },
  {
   "attachments": {},
   "cell_type": "markdown",
   "metadata": {},
   "source": [
    "## __init__ vs __call__\n",
    "\n",
    "init은 객체(모델하우스)를 생성할때 var = class()\n",
    "call은 인스턴스(실제 집) 생성할때 private = var()\n"
   ]
  },
  {
   "cell_type": "code",
   "execution_count": 15,
   "metadata": {},
   "outputs": [
    {
     "name": "stdout",
     "output_type": "stream",
     "text": [
      "init\n",
      "call\n"
     ]
    }
   ],
   "source": [
    "class Var():\n",
    "    def __init__(self):\n",
    "        print('init')\n",
    "    def __call__(self):\n",
    "        print('call')\n",
    "        \n",
    "a = Var()\n",
    "b = a()"
   ]
  },
  {
   "cell_type": "code",
   "execution_count": 16,
   "metadata": {},
   "outputs": [],
   "source": [
    "class Variable:\n",
    "    def __init__(self,data):\n",
    "        self.data = data"
   ]
  },
  {
   "cell_type": "code",
   "execution_count": 17,
   "metadata": {},
   "outputs": [],
   "source": [
    "class Function:\n",
    "    def __call__(self,input):\n",
    "        x = input.data\n",
    "        y = x**2\n",
    "        output = Variable(y)\n",
    "        return output"
   ]
  },
  {
   "cell_type": "code",
   "execution_count": 18,
   "metadata": {},
   "outputs": [
    {
     "name": "stdout",
     "output_type": "stream",
     "text": [
      "10\n"
     ]
    }
   ],
   "source": [
    "data = np.array(10)\n",
    "x = Variable(data)\n",
    "print(x.data)"
   ]
  },
  {
   "cell_type": "code",
   "execution_count": 19,
   "metadata": {},
   "outputs": [
    {
     "name": "stdout",
     "output_type": "stream",
     "text": [
      "<class '__main__.Variable'>\n",
      "100\n"
     ]
    }
   ],
   "source": [
    "\n",
    "x = Variable(np.array(10))\n",
    "f = Function()\n",
    "y = f(x) # Function의 __call__ 함수를 불러와서 연산했지만, 저장되는 데이터는 Variable class에\n",
    "\n",
    "print(type(y))\n",
    "print(y.data)"
   ]
  },
  {
   "cell_type": "code",
   "execution_count": 20,
   "metadata": {},
   "outputs": [
    {
     "data": {
      "text/plain": [
       "__main__.Function"
      ]
     },
     "execution_count": 20,
     "metadata": {},
     "output_type": "execute_result"
    }
   ],
   "source": [
    "'''\n",
    "Base class (기반클래스)를 Function으로 두고\n",
    "구체적 기능은 Function을 기반으로 작업하기 위해 class edit\n",
    "'''\n",
    "class Function: #()가 있으면 달라질까? 달라지지는 않지만, Base class의 경우 상속하는 클래스가 없기때문에 ()가 없는 형태.\n",
    "    def __call__(self,input):\n",
    "        x = input.data\n",
    "        y = self.forward(x)\n",
    "        output = Variable(y)\n",
    "        return output\n",
    "    \n",
    "    def forward(self,x):\n",
    "        raise NotImplementedError()\n",
    "    \n",
    "    \n",
    "a = Function\n",
    "a"
   ]
  },
  {
   "cell_type": "code",
   "execution_count": 21,
   "metadata": {},
   "outputs": [],
   "source": [
    "class Square(Function):\n",
    "    def forward(self, x):\n",
    "        return x**2"
   ]
  },
  {
   "cell_type": "code",
   "execution_count": 22,
   "metadata": {},
   "outputs": [
    {
     "name": "stdout",
     "output_type": "stream",
     "text": [
      "<class '__main__.Variable'>\n",
      "100\n"
     ]
    }
   ],
   "source": [
    "x = Variable(np.array(10))\n",
    "f = Square()\n",
    "y = f(x)\n",
    "print(type(y))\n",
    "print(y.data)"
   ]
  },
  {
   "cell_type": "code",
   "execution_count": 23,
   "metadata": {},
   "outputs": [],
   "source": [
    "class Exp(Function):\n",
    "    def forward(self, x):\n",
    "        return np.exp(x)"
   ]
  },
  {
   "cell_type": "code",
   "execution_count": 30,
   "metadata": {},
   "outputs": [
    {
     "ename": "TypeError",
     "evalue": "unsupported operand type(s) for ** or pow(): 'memoryview' and 'int'",
     "output_type": "error",
     "traceback": [
      "\u001b[0;31m---------------------------------------------------------------------------\u001b[0m",
      "\u001b[0;31mTypeError\u001b[0m                                 Traceback (most recent call last)",
      "\u001b[1;32m/Users/jeonhyeongjin/qlqqqk/Book_practice/DL_Scratch.ipynb Cell 12\u001b[0m in \u001b[0;36m<cell line: 6>\u001b[0;34m()\u001b[0m\n\u001b[1;32m      <a href='vscode-notebook-cell:/Users/jeonhyeongjin/qlqqqk/Book_practice/DL_Scratch.ipynb#X31sZmlsZQ%3D%3D?line=2'>3</a>\u001b[0m C \u001b[39m=\u001b[39m Square()\n\u001b[1;32m      <a href='vscode-notebook-cell:/Users/jeonhyeongjin/qlqqqk/Book_practice/DL_Scratch.ipynb#X31sZmlsZQ%3D%3D?line=4'>5</a>\u001b[0m x \u001b[39m=\u001b[39m (np\u001b[39m.\u001b[39marray(\u001b[39m0.5\u001b[39m))\n\u001b[0;32m----> <a href='vscode-notebook-cell:/Users/jeonhyeongjin/qlqqqk/Book_practice/DL_Scratch.ipynb#X31sZmlsZQ%3D%3D?line=5'>6</a>\u001b[0m a \u001b[39m=\u001b[39m A(x)\n\u001b[1;32m      <a href='vscode-notebook-cell:/Users/jeonhyeongjin/qlqqqk/Book_practice/DL_Scratch.ipynb#X31sZmlsZQ%3D%3D?line=6'>7</a>\u001b[0m b \u001b[39m=\u001b[39m B(a)\n\u001b[1;32m      <a href='vscode-notebook-cell:/Users/jeonhyeongjin/qlqqqk/Book_practice/DL_Scratch.ipynb#X31sZmlsZQ%3D%3D?line=7'>8</a>\u001b[0m y \u001b[39m=\u001b[39m C(b)\n",
      "\u001b[1;32m/Users/jeonhyeongjin/qlqqqk/Book_practice/DL_Scratch.ipynb Cell 12\u001b[0m in \u001b[0;36mFunction.__call__\u001b[0;34m(self, input)\u001b[0m\n\u001b[1;32m      <a href='vscode-notebook-cell:/Users/jeonhyeongjin/qlqqqk/Book_practice/DL_Scratch.ipynb#X31sZmlsZQ%3D%3D?line=5'>6</a>\u001b[0m \u001b[39mdef\u001b[39;00m \u001b[39m__call__\u001b[39m(\u001b[39mself\u001b[39m,\u001b[39minput\u001b[39m):\n\u001b[1;32m      <a href='vscode-notebook-cell:/Users/jeonhyeongjin/qlqqqk/Book_practice/DL_Scratch.ipynb#X31sZmlsZQ%3D%3D?line=6'>7</a>\u001b[0m     x \u001b[39m=\u001b[39m \u001b[39minput\u001b[39m\u001b[39m.\u001b[39mdata\n\u001b[0;32m----> <a href='vscode-notebook-cell:/Users/jeonhyeongjin/qlqqqk/Book_practice/DL_Scratch.ipynb#X31sZmlsZQ%3D%3D?line=7'>8</a>\u001b[0m     y \u001b[39m=\u001b[39m \u001b[39mself\u001b[39;49m\u001b[39m.\u001b[39;49mforward(x)\n\u001b[1;32m      <a href='vscode-notebook-cell:/Users/jeonhyeongjin/qlqqqk/Book_practice/DL_Scratch.ipynb#X31sZmlsZQ%3D%3D?line=8'>9</a>\u001b[0m     output \u001b[39m=\u001b[39m Variable(y)\n\u001b[1;32m     <a href='vscode-notebook-cell:/Users/jeonhyeongjin/qlqqqk/Book_practice/DL_Scratch.ipynb#X31sZmlsZQ%3D%3D?line=9'>10</a>\u001b[0m     \u001b[39mreturn\u001b[39;00m output\n",
      "\u001b[1;32m/Users/jeonhyeongjin/qlqqqk/Book_practice/DL_Scratch.ipynb Cell 12\u001b[0m in \u001b[0;36mSquare.forward\u001b[0;34m(self, x)\u001b[0m\n\u001b[1;32m      <a href='vscode-notebook-cell:/Users/jeonhyeongjin/qlqqqk/Book_practice/DL_Scratch.ipynb#X31sZmlsZQ%3D%3D?line=1'>2</a>\u001b[0m \u001b[39mdef\u001b[39;00m \u001b[39mforward\u001b[39m(\u001b[39mself\u001b[39m, x):\n\u001b[0;32m----> <a href='vscode-notebook-cell:/Users/jeonhyeongjin/qlqqqk/Book_practice/DL_Scratch.ipynb#X31sZmlsZQ%3D%3D?line=2'>3</a>\u001b[0m     \u001b[39mreturn\u001b[39;00m x\u001b[39m*\u001b[39;49m\u001b[39m*\u001b[39;49m\u001b[39m2\u001b[39;49m\n",
      "\u001b[0;31mTypeError\u001b[0m: unsupported operand type(s) for ** or pow(): 'memoryview' and 'int'"
     ]
    }
   ],
   "source": [
    "A = Square()\n",
    "B = Exp()\n",
    "C = Square()\n",
    "\n",
    "x = (np.array(0.5))\n",
    "a = A(x)\n",
    "b = B(a)\n",
    "y = C(b)\n",
    "print(y.data)"
   ]
  },
  {
   "cell_type": "code",
   "execution_count": 32,
   "metadata": {},
   "outputs": [],
   "source": [
    "def numerical_diff(f,x,eps=1e-4):\n",
    "    x0 = Variable(x.data - eps)\n",
    "    x1 = Variable(x.data + eps)\n",
    "    y0 = f(x0)\n",
    "    y1 = f(x1)\n",
    "    return (y1.data - y0.data) / (2*eps) #중앙 차분"
   ]
  },
  {
   "cell_type": "code",
   "execution_count": 38,
   "metadata": {},
   "outputs": [
    {
     "name": "stdout",
     "output_type": "stream",
     "text": [
      "<class 'numpy.float64'> 4.000000000004\n"
     ]
    }
   ],
   "source": [
    "f = Square()\n",
    "x = Variable(np.array(2))\n",
    "dy = numerical_diff(f,x)\n",
    "print(type(dy),dy)"
   ]
  },
  {
   "cell_type": "code",
   "execution_count": 39,
   "metadata": {},
   "outputs": [
    {
     "name": "stdout",
     "output_type": "stream",
     "text": [
      "3.2974426293330694\n"
     ]
    }
   ],
   "source": [
    "def f(x):\n",
    "    A = Square()\n",
    "    B = Exp()\n",
    "    C = Square()\n",
    "    return C(B(A(x)))\n",
    "x = Variable(np.array(.5))\n",
    "dy = numerical_diff(f,x)\n",
    "print(dy)\n"
   ]
  },
  {
   "attachments": {},
   "cell_type": "markdown",
   "metadata": {},
   "source": [
    "## NumericalDifferentiation vs Backpropagation\n",
    "\n",
    "**Numerical differentiation**  \n",
    "- 장점 : 계산이 쉽다.\n",
    "- 단점 : 메모리의 '자릿수 누락' 떄문에 오차가 생길 수 있다.  \n",
    "계산량이 많아서 parameter가 많은 DL모델 특성 상 비효율적임.  \n",
    "\n",
    "**Backpropagation**\n",
    "- 장점 : 결과 값의 오차가 적다.  \n",
    "연쇄법칙을 활용해 미분을 효율적으로 계산할 수 있다.\n",
    "- 단점 : 알고리즘의 복잡성 때문에 버그 발생확률이 상대적으로 높다.  \n",
    "\n",
    "\n",
    "*다만 NumericalDiff를 완전히 쓰지 않는 것이 아니라, BackPropagation의 결과 값을 검증하는 기울기 확인 때 비교 수치로 사용됨.*\n",
    "\n"
   ]
  },
  {
   "cell_type": "code",
   "execution_count": 42,
   "metadata": {},
   "outputs": [],
   "source": [
    "class Variable:\n",
    "    def __init__(self,data) -> None:\n",
    "        self.data = data\n",
    "        self.grad = None\n",
    "        \n",
    "\n",
    "class Function:\n",
    "    def __call__(self,input) -> float:\n",
    "        x = input.data\n",
    "        y = self.forward(x)\n",
    "        output = Variable(y)\n",
    "        self.input = input #Backprop시 계산하기 위해 기억해야함.\n",
    "        return output\n",
    "        \n",
    "    def forward(self,x):\n",
    "        raise NotImplementedError()\n",
    "    \n",
    "    def backward(self,gy):\n",
    "        raise NotImplementedError()\n",
    "        "
   ]
  },
  {
   "cell_type": "code",
   "execution_count": 43,
   "metadata": {},
   "outputs": [],
   "source": [
    "class Square(Function):\n",
    "    def forward(self, x):\n",
    "        y = x ** 2\n",
    "        return y\n",
    "    \n",
    "    def backward(self, gy):\n",
    "        x = self.input.data\n",
    "        gx = 2*x * gy\n",
    "        return gx\n",
    "    \n",
    "class Exp(Function):\n",
    "    def forward(self, x):\n",
    "        y = np.exp(x)\n",
    "        return y\n",
    "    \n",
    "    def backward(self, gy):\n",
    "        x = self.input.data\n",
    "        gx = np.exp(x) * gy\n",
    "        return gx"
   ]
  },
  {
   "cell_type": "code",
   "execution_count": 44,
   "metadata": {},
   "outputs": [],
   "source": [
    "A = Square()\n",
    "B = Exp()\n",
    "C = Square()\n",
    "\n",
    "x = Variable(np.array(.5))\n",
    "a = A(x)\n",
    "b = B(a)\n",
    "y = C(b)"
   ]
  },
  {
   "cell_type": "code",
   "execution_count": 47,
   "metadata": {},
   "outputs": [
    {
     "name": "stdout",
     "output_type": "stream",
     "text": [
      "3.297442541400256\n"
     ]
    }
   ],
   "source": [
    "y.grad = np.array(1.)\n",
    "b.grad = C.backward(y.grad)\n",
    "a.grad = B.backward(b.grad)\n",
    "x.grad = A.backward(a.grad)\n",
    "print(x.grad) # numerical_diff : 3.2974426293330694\n"
   ]
  },
  {
   "attachments": {},
   "cell_type": "markdown",
   "metadata": {},
   "source": [
    "## automatic BackPropagation"
   ]
  },
  {
   "cell_type": "code",
   "execution_count": 48,
   "metadata": {},
   "outputs": [
    {
     "ename": "SyntaxError",
     "evalue": "unexpected EOF while parsing (2085327003.py, line 1)",
     "output_type": "error",
     "traceback": [
      "\u001b[0;36m  Input \u001b[0;32mIn [48]\u001b[0;36m\u001b[0m\n\u001b[0;31m    class Variable:\u001b[0m\n\u001b[0m                   ^\u001b[0m\n\u001b[0;31mSyntaxError\u001b[0m\u001b[0;31m:\u001b[0m unexpected EOF while parsing\n"
     ]
    }
   ],
   "source": [
    "class Variable:\n",
    "    def __init__(self,data) -> None:\n",
    "        self.data = data\n",
    "        self.grad = None\n",
    "        self.creator = None\n",
    "        \n",
    "    def set_creator(self,func):\n",
    "        self.creator = func\n",
    "        \n",
    "\n",
    "class Function:\n",
    "    def __call__(self,input) -> float:\n",
    "        x = input.data\n",
    "        y = self.forward(x)\n",
    "        output = Variable(y)\n",
    "        output.set_creator(self)\n",
    "        self.input = input\n",
    "        self.output = output # 출력도 저장?\n",
    "        return output\n",
    "        \n",
    "        \n",
    "    def forward(self,x):\n",
    "        raise NotImplementedError\n",
    "    \n",
    "    def backward(self,gy):\n",
    "        raise NotImplementedError"
   ]
  },
  {
   "cell_type": "code",
   "execution_count": null,
   "metadata": {},
   "outputs": [],
   "source": []
  }
 ],
 "metadata": {
  "kernelspec": {
   "display_name": "Python 3",
   "language": "python",
   "name": "python3"
  },
  "language_info": {
   "codemirror_mode": {
    "name": "ipython",
    "version": 3
   },
   "file_extension": ".py",
   "mimetype": "text/x-python",
   "name": "python",
   "nbconvert_exporter": "python",
   "pygments_lexer": "ipython3",
   "version": "3.8.13"
  },
  "orig_nbformat": 4
 },
 "nbformat": 4,
 "nbformat_minor": 2
}
