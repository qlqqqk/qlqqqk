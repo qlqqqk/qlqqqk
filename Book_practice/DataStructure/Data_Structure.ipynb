{
 "cells": [
  {
   "cell_type": "code",
   "execution_count": 1,
   "metadata": {},
   "outputs": [],
   "source": [
    "from typing import Sequence,MutableSequence "
   ]
  },
  {
   "cell_type": "code",
   "execution_count": null,
   "metadata": {},
   "outputs": [],
   "source": [
    "def merge_sorted_list(a: Sequence,b: Sequence, c:MutableSequence) -> None:\n",
    "    pa,pb,pc = 0,0,0 #cursor\n",
    "    na,nb,nc = len(a) , len(b) , len(c)\n",
    "    \n",
    "    while pa < na and pb < nb: #a,b 리스트의 값을 비교하여 더 작은 값을 먼저 넣고 cursor 변경\n",
    "        if a[pa] <= b[pb]: \n",
    "            c[pc] = a[pa]\n",
    "            pa += 1 \n",
    "        else:\n",
    "            c[pc] = b[pb]\n",
    "            pb += 1\n",
    "        pc += 1\n",
    "    \n",
    "    while pa < na: # if len(a) > len(b) 라면 해당 while문에서 남은 값 처리\n",
    "        c[pc] = a[pa]\n",
    "        pa += 1\n",
    "        pc += 1\n",
    "    while pb < nb: # if len(a) < len(b) 라면 해당 while문에서 남은 값 처리\n",
    "        c[pc] = b[pb]\n",
    "        pb += 1 \n",
    "        pc += 1"
   ]
  }
 ],
 "metadata": {
  "kernelspec": {
   "display_name": "Python 3",
   "language": "python",
   "name": "python3"
  },
  "language_info": {
   "codemirror_mode": {
    "name": "ipython",
    "version": 3
   },
   "file_extension": ".py",
   "mimetype": "text/x-python",
   "name": "python",
   "nbconvert_exporter": "python",
   "pygments_lexer": "ipython3",
   "version": "3.8.13"
  },
  "orig_nbformat": 4
 },
 "nbformat": 4,
 "nbformat_minor": 2
}
