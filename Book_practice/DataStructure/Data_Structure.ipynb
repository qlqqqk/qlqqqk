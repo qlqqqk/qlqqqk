{
 "cells": [
  {
   "cell_type": "code",
   "execution_count": 3,
   "metadata": {},
   "outputs": [],
   "source": [
    "from typing import Sequence,MutableSequence "
   ]
  },
  {
   "cell_type": "code",
   "execution_count": 4,
   "metadata": {},
   "outputs": [],
   "source": [
    "def merge_sorted_list(a: Sequence,b: Sequence, c:MutableSequence) -> None:\n",
    "    pa,pb,pc = 0,0,0 #cursor\n",
    "    na,nb,nc = len(a) , len(b) , len(c)\n",
    "    \n",
    "    while pa < na and pb < nb: #a,b 리스트의 값을 비교하여 더 작은 값을 먼저 넣고 cursor 변경\n",
    "        if a[pa] <= b[pb]: \n",
    "            c[pc] = a[pa]\n",
    "            pa += 1 \n",
    "        else:\n",
    "            c[pc] = b[pb]\n",
    "            pb += 1\n",
    "        pc += 1\n",
    "    \n",
    "    while pa < na: # if len(a) > len(b) 라면 해당 while문에서 남은 값 처리\n",
    "        c[pc] = a[pa]\n",
    "        pa += 1\n",
    "        pc += 1\n",
    "    while pb < nb: # if len(a) < len(b) 라면 해당 while문에서 남은 값 처리\n",
    "        c[pc] = b[pb]\n",
    "        pb += 1 \n",
    "        pc += 1"
   ]
  },
  {
   "cell_type": "code",
   "execution_count": 5,
   "metadata": {},
   "outputs": [],
   "source": [
    "def merege_sort(a: MutableSequence) -> None:\n",
    "    '''병합 정렬'''\n",
    "    \n",
    "    def _merge_sort(a: MutableSequence, left : int, right: int) -> None:\n",
    "        if left < right:\n",
    "            center = (left + right) // 2\n",
    "            \n",
    "            _merge_sort(a,left,center)\n",
    "            _merge_sort(a,center+1, right)\n",
    "            \n",
    "            p = j = 0 # p -> buff pointer \n",
    "            i = k = left #\n",
    "            \n",
    "            while i <= center:\n",
    "                buff[p] = a[i]\n",
    "                p += 1\n",
    "                i += 1\n",
    "            \n",
    "            while i <= right and j < p:\n",
    "                if buff[j] <= a[i]:\n",
    "                    a[k] = buff[j]\n",
    "                    j += 1\n",
    "                else:\n",
    "                    a[k] = a[i]\n",
    "                    i += 1 \n",
    "                k += 1\n",
    "                \n",
    "            while j < p:\n",
    "                a[k] = buff[j]\n",
    "                k += 1\n",
    "                j += 1  \n",
    "                \n",
    "    n = len(a)\n",
    "    buff = [None] * n #작업용 배열 create\n",
    "    _merge_sort(a,0,n-1)\n",
    "    del buff # 작업용 배열 del"
   ]
  },
  {
   "cell_type": "code",
   "execution_count": null,
   "metadata": {},
   "outputs": [],
   "source": []
  }
 ],
 "metadata": {
  "kernelspec": {
   "display_name": "Python 3",
   "language": "python",
   "name": "python3"
  },
  "language_info": {
   "codemirror_mode": {
    "name": "ipython",
    "version": 3
   },
   "file_extension": ".py",
   "mimetype": "text/x-python",
   "name": "python",
   "nbconvert_exporter": "python",
   "pygments_lexer": "ipython3",
   "version": "3.8.13"
  },
  "orig_nbformat": 4
 },
 "nbformat": 4,
 "nbformat_minor": 2
}
