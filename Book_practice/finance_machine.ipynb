{
 "cells": [
  {
   "cell_type": "code",
   "execution_count": 1,
   "metadata": {},
   "outputs": [],
   "source": [
    "import numpy as np\n",
    "import matplotlib.pyplot as plt\n",
    "from sklearn.model_selection import train_test_split"
   ]
  },
  {
   "cell_type": "code",
   "execution_count": 2,
   "metadata": {},
   "outputs": [],
   "source": [
    "validation_size = 0.2\n",
    "seed = 7\n",
    "X = 2 - 3*np.random.normal(0,1,20)"
   ]
  },
  {
   "cell_type": "code",
   "execution_count": 4,
   "metadata": {},
   "outputs": [
    {
     "data": {
      "text/plain": [
       "(20,)"
      ]
     },
     "execution_count": 4,
     "metadata": {},
     "output_type": "execute_result"
    }
   ],
   "source": [
    "X.shape"
   ]
  },
  {
   "cell_type": "code",
   "execution_count": 5,
   "metadata": {},
   "outputs": [],
   "source": [
    "Y = X - 2 *(X**2)+0.5*(X**3) + np.exp(-X) + np.random.normal(-3,3,20)"
   ]
  },
  {
   "cell_type": "code",
   "execution_count": 9,
   "metadata": {},
   "outputs": [
    {
     "data": {
      "text/plain": [
       "(20,)"
      ]
     },
     "execution_count": 9,
     "metadata": {},
     "output_type": "execute_result"
    }
   ],
   "source": [
    "Y.shape"
   ]
  },
  {
   "cell_type": "code",
   "execution_count": 10,
   "metadata": {},
   "outputs": [],
   "source": [
    "X = X[:,np.newaxis]\n",
    "Y = Y[:,np.newaxis]"
   ]
  },
  {
   "cell_type": "code",
   "execution_count": 21,
   "metadata": {},
   "outputs": [],
   "source": [
    "X_train,X_test,Y_train,Y_test = train_test_split(X,Y,test_size = validation_size,random_state=seed)"
   ]
  },
  {
   "cell_type": "code",
   "execution_count": 22,
   "metadata": {},
   "outputs": [],
   "source": [
    "from sklearn.linear_model import LinearRegression\n",
    "from sklearn.metrics import mean_squared_error,r2_score\n",
    "from sklearn.preprocessing import PolynomialFeatures"
   ]
  },
  {
   "cell_type": "code",
   "execution_count": 23,
   "metadata": {},
   "outputs": [
    {
     "name": "stdout",
     "output_type": "stream",
     "text": [
      "RMSE for Linear Regression: 17.54016553674847\n"
     ]
    }
   ],
   "source": [
    "#선형 회귀모델\n",
    "model = LinearRegression()\n",
    "model.fit(X_train,Y_train)\n",
    "Y_pred = model.predict(X_train)\n",
    "rmse_lin = np.sqrt(mean_squared_error(Y_train,Y_pred))\n",
    "r2_lin = r2_score(Y_train,Y_pred)\n",
    "print(\"RMSE for Linear Regression:\",rmse_lin)"
   ]
  },
  {
   "cell_type": "code",
   "execution_count": 24,
   "metadata": {},
   "outputs": [
    {
     "name": "stdout",
     "output_type": "stream",
     "text": [
      "RMSE for Polynomial Regression: 12.172313146906653\n"
     ]
    }
   ],
   "source": [
    "#다항식 회귀모델\n",
    "polynomial_features = PolynomialFeatures(degree=2)\n",
    "x_poly = polynomial_features.fit_transform(X_train)\n",
    "model = LinearRegression()\n",
    "model.fit(x_poly,Y_train)\n",
    "Y_poly_pred = model.predict(x_poly)\n",
    "rmse = np.sqrt(mean_squared_error(Y_train,Y_poly_pred))\n",
    "r2 = r2_score(Y_train,Y_poly_pred)\n",
    "print(\"RMSE for Polynomial Regression:\",rmse)"
   ]
  },
  {
   "cell_type": "code",
   "execution_count": 28,
   "metadata": {},
   "outputs": [
    {
     "data": {
      "text/plain": [
       "(array([-2.5,  0. ,  2.5,  5. ,  7.5, 10. , 12.5, 15. , 17.5, 20. ]),\n",
       " [Text(0, 0, ''),\n",
       "  Text(0, 0, ''),\n",
       "  Text(0, 0, ''),\n",
       "  Text(0, 0, ''),\n",
       "  Text(0, 0, ''),\n",
       "  Text(0, 0, ''),\n",
       "  Text(0, 0, ''),\n",
       "  Text(0, 0, ''),\n",
       "  Text(0, 0, ''),\n",
       "  Text(0, 0, '')])"
      ]
     },
     "execution_count": 28,
     "metadata": {},
     "output_type": "execute_result"
    },
    {
     "data": {
      "image/png": "[encoded data removed]",
      "text/plain": [
       "<Figure size 432x288 with 1 Axes>"
      ]
     },
     "metadata": {
      "needs_background": "dark"
     },
     "output_type": "display_data"
    }
   ],
   "source": [
    "#train으로 다항식 최적 찾아보기 \n",
    "Deg = [1,2,3,6,10]\n",
    "results = []\n",
    "names = []\n",
    "for deg in Deg:\n",
    "    polynomial_features = PolynomialFeatures(degree=deg)\n",
    "    x_poly = polynomial_features.fit_transform(X_train)\n",
    "    model = LinearRegression()\n",
    "    model.fit(x_poly,Y_train)\n",
    "    Y_poly_pred = model.predict(x_poly)\n",
    "    rmse = np.sqrt(mean_squared_error(Y_train,Y_poly_pred))\n",
    "    r2 = r2_score(Y_train,Y_poly_pred)\n",
    "    results.append(rmse)\n",
    "    names.append(deg)\n",
    "plt.plot(names,results,'o')\n",
    "plt.suptitle(\"Algorithm Comparison\",color = 'white')\n",
    "plt.xticks(color = 'white')\n",
    "plt.yticks(color = 'white')"
   ]
  },
  {
   "cell_type": "code",
   "execution_count": 30,
   "metadata": {},
   "outputs": [
    {
     "data": {
      "text/plain": [
       "(array([ 0.,  2.,  4.,  6.,  8., 10., 12., 14., 16., 18.]),\n",
       " [Text(0, 0, ''),\n",
       "  Text(0, 0, ''),\n",
       "  Text(0, 0, ''),\n",
       "  Text(0, 0, ''),\n",
       "  Text(0, 0, ''),\n",
       "  Text(0, 0, ''),\n",
       "  Text(0, 0, ''),\n",
       "  Text(0, 0, ''),\n",
       "  Text(0, 0, ''),\n",
       "  Text(0, 0, '')])"
      ]
     },
     "execution_count": 30,
     "metadata": {},
     "output_type": "execute_result"
    },
    {
     "data": {
      "image/png": "[encoded data removed]",
      "text/plain": [
       "<Figure size 432x288 with 1 Axes>"
      ]
     },
     "metadata": {
      "needs_background": "dark"
     },
     "output_type": "display_data"
    }
   ],
   "source": [
    "#train에서 최적과 비교해 test셋으로 최적 다항식 찾기(result : 6차)\n",
    "Deg = [1,2,3,6,8,10]\n",
    "results_test = []\n",
    "names_test = []\n",
    "for deg in Deg:\n",
    "    polynomial_features = PolynomialFeatures(degree=deg)\n",
    "    x_poly = polynomial_features.fit_transform(X_train)\n",
    "    model = LinearRegression()\n",
    "    model.fit(x_poly,Y_train)\n",
    "    x_poly_test = polynomial_features.fit_transform(X_test)\n",
    "    Y_poly_pred_test = model.predict(x_poly_test)\n",
    "    rmse = np.sqrt(mean_squared_error(Y_test,Y_poly_pred_test))\n",
    "    r2 = r2_score(Y_test,Y_poly_pred_test)\n",
    "    results_test.append(rmse)\n",
    "    names_test.append(deg)\n",
    "plt.plot(names_test,results_test,'o')\n",
    "plt.suptitle(\"Algorithm Comparison\",color = 'white')\n",
    "plt.xticks(color = 'white')\n",
    "plt.yticks(color = 'white')"
   ]
  },
  {
   "cell_type": "code",
   "execution_count": 32,
   "metadata": {},
   "outputs": [],
   "source": [
    "#피클은 훈련된 모델을 저장하고 불러오는 모듈\n",
    "from pickle import dump,load\n",
    "#모델을 디스크에 저장\n",
    "filename = 'finalized_model.sav'\n",
    "dump(model,open(filename,'wb'))"
   ]
  },
  {
   "cell_type": "code",
   "execution_count": 33,
   "metadata": {},
   "outputs": [
    {
     "ename": "TypeError",
     "evalue": "file must have 'read' and 'readline' attributes",
     "output_type": "error",
     "traceback": [
      "\u001b[0;31m---------------------------------------------------------------------------\u001b[0m",
      "\u001b[0;31mTypeError\u001b[0m                                 Traceback (most recent call last)",
      "\u001b[0;32m/var/folders/g2/_8d164f53jb5m7yyxjl6mr000000gn/T/ipykernel_54831/3007384559.py\u001b[0m in \u001b[0;36m<module>\u001b[0;34m\u001b[0m\n\u001b[1;32m      1\u001b[0m \u001b[0;31m#디스크에서 모델 불러오기\u001b[0m\u001b[0;34m\u001b[0m\u001b[0;34m\u001b[0m\u001b[0;34m\u001b[0m\u001b[0m\n\u001b[0;32m----> 2\u001b[0;31m \u001b[0mloaded_model\u001b[0m \u001b[0;34m=\u001b[0m \u001b[0mload\u001b[0m\u001b[0;34m(\u001b[0m\u001b[0mfilename\u001b[0m\u001b[0;34m)\u001b[0m\u001b[0;34m\u001b[0m\u001b[0;34m\u001b[0m\u001b[0m\n\u001b[0m",
      "\u001b[0;31mTypeError\u001b[0m: file must have 'read' and 'readline' attributes"
     ]
    }
   ],
   "source": [
    "#디스크에서 모델 불러오기\n",
    "loaded_model = load(filename)"
   ]
  },
  {
   "cell_type": "markdown",
   "metadata": {},
   "source": [
    "CHAPTER 3 인공 신경망\n",
    "![뉴런](image/IMG_AA48C55A01B9-1.jpeg)\n",
    "은닉층 개수에 따라 단층,다층,심층(3개 이상) 신경망으로 나뉜다.\n",
    "하나의 층에서 오는 단순 특성이 다음 층과 결합해 더 복잡한 특성을 만들어간다.\n",
    "![은닉층](image/87599d0b-1a31-4f36-8ca3-53f525bd9df1.png)\n"
   ]
  },
  {
   "cell_type": "code",
   "execution_count": 10,
   "metadata": {},
   "outputs": [],
   "source": [
    "import tensorflow as tf"
   ]
  },
  {
   "cell_type": "code",
   "execution_count": 13,
   "metadata": {},
   "outputs": [],
   "source": [
    "model =tf.keras.models.Sequential()"
   ]
  },
  {
   "cell_type": "code",
   "execution_count": 9,
   "metadata": {},
   "outputs": [
    {
     "ename": "NameError",
     "evalue": "name 'keras' is not defined",
     "output_type": "error",
     "traceback": [
      "\u001b[0;31m---------------------------------------------------------------------------\u001b[0m",
      "\u001b[0;31mNameError\u001b[0m                                 Traceback (most recent call last)",
      "\u001b[0;32m/var/folders/g2/_8d164f53jb5m7yyxjl6mr000000gn/T/ipykernel_81042/4196263386.py\u001b[0m in \u001b[0;36m<module>\u001b[0;34m\u001b[0m\n\u001b[0;32m----> 1\u001b[0;31m \u001b[0mkeras\u001b[0m\u001b[0;34m.\u001b[0m\u001b[0m__version__\u001b[0m\u001b[0;34m\u001b[0m\u001b[0;34m\u001b[0m\u001b[0m\n\u001b[0m",
      "\u001b[0;31mNameError\u001b[0m: name 'keras' is not defined"
     ]
    }
   ],
   "source": [
    "keras.__version__"
   ]
  },
  {
   "cell_type": "code",
   "execution_count": null,
   "metadata": {},
   "outputs": [],
   "source": []
  }
 ],
 "metadata": {
  "interpreter": {
   "hash": "d28d3fbae6be2740b6df4454f23aea03e78d0a0e00dd0008421c499e7c49fe28"
  },
  "kernelspec": {
   "display_name": "Python 3.8.12",
   "language": "python",
   "name": "python3"
  },
  "language_info": {
   "codemirror_mode": {
    "name": "ipython",
    "version": 3
   },
   "file_extension": ".py",
   "mimetype": "text/x-python",
   "name": "python",
   "nbconvert_exporter": "python",
   "pygments_lexer": "ipython3",
   "version": "3.7.13"
  },
  "orig_nbformat": 4
 },
 "nbformat": 4,
 "nbformat_minor": 2
}
